{
 "cells": [
  {
   "cell_type": "code",
   "execution_count": 1,
   "metadata": {},
   "outputs": [],
   "source": [
    "import numpy as np\n",
    "import numpy.linalg as LA\n",
    "import matplotlib.pyplot as plt\n",
    "from scipy import integrate\n",
    "from matplotlib import cm"
   ]
  },
  {
   "cell_type": "markdown",
   "metadata": {},
   "source": [
    "отримаємо СЛАР відносно невідомих $с^{(k)}_j$, $j = 1, ..., n$. "
   ]
  },
  {
   "cell_type": "markdown",
   "metadata": {},
   "source": [
    " $$\n",
    " A =\n",
    " \\begin{pmatrix}\n",
    "\t \\begin{matrix}\n",
    "\t \tG^{(1)}_{11} & \\dots  & G^{(1)}_{1n} \\\\\n",
    "\t \t\\vdots \t\t & \\ddots & \\\\\n",
    "\t \tG^{(1)}_{n1} & \t\t  & G^{(1)}_{nn} \\\\\n",
    "\t \\end{matrix} &\n",
    "\t \\begin{matrix}\n",
    "\t \tG^{(2)}_{11} & \\dots  & G^{(2)}_{1n} \\\\\n",
    "\t \t\\vdots \t\t & \\ddots & \\\\\n",
    "\t \tG^{(2)}_{n1} & \t\t  & G^{(2)}_{nn} \\\\\n",
    "\t \\end{matrix} \\\\\n",
    "\t \\begin{matrix}\n",
    "\t\tG^{(3)}_{11} & \\dots  & G^{(3)}_{1n} \\\\\n",
    "\t\t\\vdots \t\t & \\ddots & \\\\\n",
    "\t\tG^{(3)}_{n1} & \t\t  & G^{(3)}_{nn} \\\\\n",
    "\t \\end{matrix} &\n",
    "\t \\begin{matrix}\n",
    "\t\tG^{(4)}_{11} & \\dots  & G^{(4)}_{1n} \\\\\n",
    "\t\t\\vdots \t\t & \\ddots & \\\\\n",
    "\t\tG^{(4)}_{n1} & \t\t  & G^{(4)}_{nn} \\\\\n",
    "\t \\end{matrix} \\\\\n",
    " \\end{pmatrix}\n",
    " c = \n",
    " \\begin{pmatrix}\n",
    "\tc^{(1)}_1\\\\\n",
    "\t\\vdots\\\\\n",
    "\tc^{(1)}_n\\\\\n",
    "\tc^{(2)}_1\\\\\n",
    "\t\\vdots\\\\\n",
    "\tc^{(2)}_n\\\\\n",
    " \\end{pmatrix}\n",
    " g = \n",
    " \\begin{pmatrix}\n",
    "\t2\\pi g_1(x_1)\\\\\n",
    "\t\\vdots\\\\\n",
    "\t2\\pi g_1(x_n)\\\\\n",
    "\t2\\pi g_2(x_1)\\\\\n",
    "\t\\vdots\\\\\n",
    "\t2\\pi g_2(x_n)\\\\\n",
    " \\end{pmatrix}\n",
    " $$"
   ]
  },
  {
   "cell_type": "code",
   "execution_count": 2,
   "metadata": {},
   "outputs": [],
   "source": [
    "def nu_x2(t):\n",
    "    return np.array([dx2(t)[1], -dx2(t)[0]]) / LA.norm(dx2(t))\n",
    "\n",
    "def K11_1(t, tau):\n",
    "    return -1/2\n",
    "\n",
    "def K11_2(t, tau):\n",
    "    if np.abs(t - tau) > eps:\n",
    "        return 1/2*np.log( 4/np.e * np.sin((t - tau)/2)**2 \\\n",
    "                 / LA.norm(np.subtract(x1(t), x1(tau)))**2)\n",
    "    else:\n",
    "        return 1/2*np.log(1/(np.e * LA.norm(dx1(t))**2))\n",
    "\n",
    "def K12(t, tau):\n",
    "    return np.log(1/(LA.norm(np.subtract(x1(t), x2(tau)))))\n",
    "\n",
    "def K21(t, tau):\n",
    "    return np.dot(np.subtract(x1(tau), x2(t)), nu_x2(t)) \\\n",
    "            / LA.norm(np.subtract(x2(t), x1(tau)))**2\n",
    "\n",
    "def K22(t, tau):\n",
    "    if np.abs(t - tau) > eps:\n",
    "        return np.dot(np.subtract(x2(tau), x2(t)), nu_x2(t)) \\\n",
    "                / LA.norm(np.subtract(x2(t), x2(tau)))**2\n",
    "    else:\n",
    "        return np.dot(ddx2(t), nu_x2(t)) / ((2*LA.norm(dx2(t)))**2)\n"
   ]
  },
  {
   "cell_type": "code",
   "execution_count": 3,
   "metadata": {},
   "outputs": [],
   "source": [
    "a, b = 0, 2*np.pi\n",
    "\n",
    "\n",
    "r1 = 0.9\n",
    "r2 = 2\n",
    "eps = 1e-50\n",
    "\n",
    "M = 15\n",
    "h = (b - a) / (2*M)\n",
    "t = [(np.pi*j)/M for j in range(2*M)]\n",
    "\n",
    "x1 = lambda t: (r1*np.cos(t), r1*np.sin(t))\n",
    "x2 = lambda t: (r2*np.cos(t), r2*np.sin(t))\n",
    "dx1 = lambda t: (-r1*np.sin(t), r1*np.cos(t))\n",
    "dx2 = lambda t: (-r2*np.sin(t), r2*np.cos(t))\n",
    "ddx2 = lambda t: (-r2*np.cos(t), -r2*np.sin(t))\n",
    "\n",
    "A = np.zeros([4*M, 4*M])\n",
    "g = np.zeros([4*M, 1])\n",
    "psi1 = np.zeros([2*M, 1])\n",
    "psi2 = np.zeros([2*M, 1])"
   ]
  },
  {
   "cell_type": "code",
   "execution_count": 4,
   "metadata": {},
   "outputs": [],
   "source": [
    "# g1 = lambda t: 1\n",
    "# g2 = lambda t: 0\n",
    "\n",
    "# u = lambda x, y : 1"
   ]
  },
  {
   "cell_type": "code",
   "execution_count": 5,
   "metadata": {},
   "outputs": [],
   "source": [
    "def g1(t):\n",
    "    x, y = x1(t)\n",
    "    return x**2 - y**2\n",
    "\n",
    "def g2(t):\n",
    "    x, y = x2(t)\n",
    "    v = np.array([dx2(t)[1], -dx2(t)[0]]) / LA.norm(dx2(t))\n",
    "    grad = np.array([2*x, 2*y])\n",
    "    \n",
    "    return np.dot(grad, v)\n",
    "\n",
    "u = lambda x, y : x**2 - y**2"
   ]
  },
  {
   "cell_type": "code",
   "execution_count": 6,
   "metadata": {},
   "outputs": [],
   "source": [
    "# def g1(t):\n",
    "#     x, y = x1(t)\n",
    "#     return x\n",
    "\n",
    "# def g2(t):\n",
    "#     x, y = x2(t)\n",
    "#     v = np.array([dx2(t)[1], -dx2(t)[0]]) / LA.norm(dx2(t))\n",
    "#     grad = np.array([1, 0])\n",
    "    \n",
    "#     return np.dot(grad, v)\n",
    "\n",
    "# u = lambda x, y : x"
   ]
  },
  {
   "cell_type": "code",
   "execution_count": 7,
   "metadata": {},
   "outputs": [],
   "source": [
    "# def R_j( M, t, tj ):\n",
    "#     sum = 0;\n",
    "#     for m in range(1, M-1):\n",
    "#         sum = sum + np.cos(m*(t-tj))/m;     \n",
    "    \n",
    "#     return -1/(2*M)*(2*sum + np.cos(M*(t-tj))/M); "
   ]
  },
  {
   "cell_type": "code",
   "execution_count": 8,
   "metadata": {},
   "outputs": [],
   "source": [
    "def basicFunction(j, x, xx=t, h=h):\n",
    "    n = len(xx) - 1\n",
    "    \n",
    "    if j >=1 and xx[j-1] <= x <= xx[j]:\n",
    "        return (x - xx[j-1])/h\n",
    "    elif j <= n-1 and xx[j] <= x <= xx[j+1]:\n",
    "        return (xx[j+1] - x)/h\n",
    "    else:\n",
    "        return 0"
   ]
  },
  {
   "cell_type": "code",
   "execution_count": 9,
   "metadata": {},
   "outputs": [],
   "source": [
    "def quadrature_with_ln_special_case(f, M=M):\n",
    "    '''integral from 0 to 2pi'''\n",
    "\n",
    "    tt = [i*np.pi/M for i in range(2*M)]\n",
    "\n",
    "    R = lambda i, t: -1/(2*M) * (1\n",
    "                                 + 2*sum([(1/m) * np.cos(m * (t - tt[i])) for m in range(1, M)])\n",
    "                                 + 1/(M) * np.cos(t - tt[i]))\n",
    "  \n",
    "    def integral(t):\n",
    "        return sum([R(j,t)*f(tt[j]) for j in range(2*M)])\n",
    "  \n",
    "    return integral"
   ]
  },
  {
   "cell_type": "code",
   "execution_count": 55,
   "metadata": {
    "scrolled": false
   },
   "outputs": [],
   "source": [
    "for i in range(2*M):\n",
    "    for j in range(2*M):\n",
    "        #K_1 = R_j(M, t[i], t[j])\n",
    "        K_1 = quadrature_with_ln_special_case(lambda s: K11_1(t[i], s)*basicFunction(j, s))(t[i])\n",
    "        \n",
    "        # K11\n",
    "        A[i][j] =  (K11_2(t[i], t[j])) / (2*M)\n",
    "        A[i][j] += K_1\n",
    "        \n",
    "        # K12\n",
    "        A[i][j + 2*M] = K12(t[i], t[j]) / (2*M)\n",
    "        \n",
    "        # K21\n",
    "        A[i + 2*M][j] = (K21(t[i], t[j]) - 1) / (2*M)\n",
    "        \n",
    "        # K22\n",
    "        A[i + 2*M][j + 2*M] = K22(t[i], t[j]) / (2*M)\n",
    "\n",
    "    A[i + 2*M][i + 2*M] += 0.5 / LA.norm(dx2(t[i]))\n",
    "\n",
    "    \n",
    "    g[i] = g1(t[i])\n",
    "    g[i + 2*M] = g2(t[i])\n"
   ]
  },
  {
   "cell_type": "code",
   "execution_count": 56,
   "metadata": {
    "scrolled": true
   },
   "outputs": [
    {
     "name": "stdout",
     "output_type": "stream",
     "text": [
      "-2.479959525918334e-59\n"
     ]
    }
   ],
   "source": [
    "print(LA.det(A))\n",
    "c = LA.solve(A, g)"
   ]
  },
  {
   "cell_type": "code",
   "execution_count": 57,
   "metadata": {},
   "outputs": [],
   "source": [
    "for i in range(2*M):\n",
    "    psi1[i] = c[i]\n",
    "    psi2[i] = c[i + 2*M]"
   ]
  },
  {
   "cell_type": "code",
   "execution_count": 58,
   "metadata": {},
   "outputs": [],
   "source": [
    "K1 = lambda x, tau: np.log(1/LA.norm(np.subtract(x, x1(tau))))\n",
    "K2 = lambda x, tau: np.log(1/LA.norm(np.subtract(x, x2(tau))))"
   ]
  },
  {
   "cell_type": "code",
   "execution_count": 59,
   "metadata": {},
   "outputs": [],
   "source": [
    "def u_approx(x, M=M, a=a, b=b):\n",
    "    '''\n",
    "    x є R2, тобто х - вектор з двох чисел\n",
    "    n - кількість точок в розбитті\n",
    "\n",
    "    '''\n",
    "    t = [ (np.pi*j)/M for j in range(2*M)]\n",
    "    \n",
    "    u = 0\n",
    "    for j in range(2*M):\n",
    "        u = u + psi1[j] * K1(x, t[j])\n",
    "        u = u + psi2[j] * K2(x, t[j])\n",
    "        \n",
    "    u = u / (2*M)\n",
    "    \n",
    "    return u"
   ]
  },
  {
   "cell_type": "code",
   "execution_count": 60,
   "metadata": {},
   "outputs": [
    {
     "name": "stdout",
     "output_type": "stream",
     "text": [
      "[1.73030683]\n",
      "2.25\n"
     ]
    }
   ],
   "source": [
    "print(u_approx([1.5, 0]))\n",
    "print(u(1.5, 0))\n",
    "\n",
    "#0.99845591"
   ]
  },
  {
   "cell_type": "code",
   "execution_count": 61,
   "metadata": {},
   "outputs": [
    {
     "data": {
      "image/png": "[encoded data removed]",
      "text/plain": [
       "<Figure size 432x288 with 2 Axes>"
      ]
     },
     "metadata": {
      "needs_background": "light"
     },
     "output_type": "display_data"
    }
   ],
   "source": [
    "n_ = 20\n",
    "\n",
    "x = np.linspace(-r2, r2, n_)\n",
    "y = np.linspace(-r2, r2, n_)\n",
    "\n",
    "xx_, yy_ = np.meshgrid(x, y)\n",
    "zz_ = np.zeros([n_, n_])\n",
    "\n",
    "for i, x_ in enumerate(x):\n",
    "    for j, y_ in enumerate(y):\n",
    "        zz_[i][j] = u_approx([x[i], y[j]])\n",
    "\n",
    "# Draw contour\n",
    "fig_contour,ax=plt.subplots(1,1)\n",
    "cp = ax.contourf(xx_, yy_, zz_)\n",
    "fig_contour.colorbar(cp) # Add a colorbar to a plot\n",
    "\n",
    "# Draw curves\n",
    "xxx = np.linspace(0, 2*np.pi, 100)\n",
    "yyy = np.linspace(0, 2*np.pi, 100)\n",
    "\n",
    "ax.plot(x1(xxx)[0], x1(xxx)[1])\n",
    "ax.plot(x2(xxx)[0], x2(xxx)[1])\n",
    "\n",
    "ax.set_xlabel('x')\n",
    "ax.set_ylabel('y')\n",
    "\n",
    "plt.show()"
   ]
  },
  {
   "cell_type": "code",
   "execution_count": null,
   "metadata": {},
   "outputs": [],
   "source": []
  },
  {
   "cell_type": "code",
   "execution_count": 62,
   "metadata": {
    "scrolled": false
   },
   "outputs": [
    {
     "data": {
      "image/png": "[encoded data removed]",
      "text/plain": [
       "<Figure size 360x360 with 1 Axes>"
      ]
     },
     "metadata": {
      "needs_background": "light"
     },
     "output_type": "display_data"
    }
   ],
   "source": [
    "# %matplotlib notebook\n",
    "\n",
    "fig = plt.figure(figsize=(5, 5))\n",
    "ax = fig.gca(projection='3d')\n",
    "\n",
    "surf = ax.plot_surface(xx_, yy_, zz_, rstride=1, cstride=1, linewidth=1, antialiased=False, cmap=cm.viridis)\n",
    "\n",
    "ax.set_xlabel(\"X\")\n",
    "ax.set_ylabel(\"Y\")\n",
    "ax.set_zlabel(\"Z\")\n",
    "\n",
    "plt.show()"
   ]
  },
  {
   "cell_type": "code",
   "execution_count": 18,
   "metadata": {},
   "outputs": [],
   "source": [
    "# zz__ = np.zeros([n_, n_])\n",
    "\n",
    "# for i, x_ in enumerate(x):\n",
    "#     for j, y_ in enumerate(y):\n",
    "#         zz__[i][j] = u(x[i], y[j])\n",
    "\n",
    "# fig = plt.figure(figsize=(5, 5))\n",
    "# ax = fig.gca(projection='3d')\n",
    "\n",
    "# surf = ax.plot_surface(xx_, yy_, zz__, rstride=1, cstride=1, linewidth=1, antialiased=False, cmap=cm.viridis)\n",
    "\n",
    "# ax.set_xlabel(\"X\")\n",
    "# ax.set_ylabel(\"Y\")\n",
    "# ax.set_zlabel(\"Z\")\n",
    "\n",
    "# plt.show()"
   ]
  },
  {
   "cell_type": "code",
   "execution_count": null,
   "metadata": {},
   "outputs": [],
   "source": []
  },
  {
   "cell_type": "code",
   "execution_count": null,
   "metadata": {},
   "outputs": [],
   "source": []
  },
  {
   "cell_type": "code",
   "execution_count": null,
   "metadata": {},
   "outputs": [],
   "source": []
  }
 ],
 "metadata": {
  "kernelspec": {
   "display_name": "Python 3",
   "language": "python",
   "name": "python3"
  },
  "language_info": {
   "codemirror_mode": {
    "name": "ipython",
    "version": 3
   },
   "file_extension": ".py",
   "mimetype": "text/x-python",
   "name": "python",
   "nbconvert_exporter": "python",
   "pygments_lexer": "ipython3",
   "version": "3.8.2"
  }
 },
 "nbformat": 4,
 "nbformat_minor": 4
}
