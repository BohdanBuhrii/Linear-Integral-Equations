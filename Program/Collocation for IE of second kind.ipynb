{
 "cells": [
  {
   "cell_type": "code",
   "execution_count": 1,
   "metadata": {},
   "outputs": [],
   "source": [
    "import numpy as np\n",
    "import numpy.linalg as LA\n",
    "from scipy import integrate\n",
    "import matplotlib.pyplot as plt"
   ]
  },
  {
   "cell_type": "markdown",
   "metadata": {},
   "source": [
    "## Метод колокації для інтегрального рівняння Фредгольма другого роду"
   ]
  },
  {
   "cell_type": "markdown",
   "metadata": {},
   "source": [
    "Маємо інтегральне рівняння вигляду"
   ]
  },
  {
   "cell_type": "markdown",
   "metadata": {},
   "source": [
    "$$\n",
    "\\varphi(x)-\\lambda \\int_{a}^{b} \\varphi(y) K(x, y) d y = f(x), \\quad x \\in[a, b]\n",
    "$$"
   ]
  },
  {
   "cell_type": "markdown",
   "metadata": {},
   "source": [
    "Наближений розв'язок будемо шукати у вигляді"
   ]
  },
  {
   "cell_type": "markdown",
   "metadata": {},
   "source": [
    "$$\n",
    "\\tilde{\\varphi}(x)=\\sum_{j=1}^{n} c_{j} \\gamma_{j}(x)\n",
    "$$"
   ]
  },
  {
   "cell_type": "markdown",
   "metadata": {},
   "source": [
    "де $c_j$ - невідомі константи, які потрібно знайти, а $\\gamma_j$ - задані лінійнонезалежні функції (в нашому випадку кусково аналітичні), $j = 1, ..., n$."
   ]
  },
  {
   "cell_type": "markdown",
   "metadata": {},
   "source": [
    "Тоді отримаємо такий вираз"
   ]
  },
  {
   "cell_type": "markdown",
   "metadata": {},
   "source": [
    "$$\n",
    "\\sum_{j=1}^{n} c_{j}\\left[\\gamma_{j}(x)-\\lambda \\int_{a}^{b} K(x, y) \\gamma_{j}(y) d y\\right]=f(x)\n",
    "$$"
   ]
  },
  {
   "cell_type": "markdown",
   "metadata": {},
   "source": [
    "Розглянувши його на множині точок $x_i$, таких, що\n",
    "$$\n",
    "a \\leqslant x_{1}<x_{2}<\\ldots<x_{m} \\leqslant b\n",
    "$$"
   ]
  },
  {
   "cell_type": "markdown",
   "metadata": {},
   "source": [
    "отримаємо СЛАР відносно невідомих $с_j$, $j = 1, ..., n$. "
   ]
  },
  {
   "cell_type": "code",
   "execution_count": 2,
   "metadata": {},
   "outputs": [],
   "source": [
    "# a, b = -1, 1\n",
    "# K = lambda x, y: x*y + x**2\n",
    "# f = lambda x: 1\n",
    "# y = lambda x: 6*x**2 + 1\n",
    "# lambd = 1\n",
    "\n",
    "# eps = 1e-10\n",
    "\n",
    "# n = 64\n",
    "# h = (b - a) / (n - 1)\n",
    "# xx = [ a + (h * i) for i in range(n)]\n",
    "# A = np.zeros((n,n))\n",
    "# print(len(xx))"
   ]
  },
  {
   "cell_type": "code",
   "execution_count": 3,
   "metadata": {},
   "outputs": [
    {
     "name": "stdout",
     "output_type": "stream",
     "text": [
      "5\n"
     ]
    }
   ],
   "source": [
    "a, b = 0, 1\n",
    "K = lambda x, y: (x + 1) * np.e ** (-x * y)\n",
    "f = lambda x: np.e ** (-x) - (1/2) + (1/2) * np.e ** (-(x + 1))\n",
    "y = lambda x: np.e ** (-x)\n",
    "lambd = 1/2\n",
    "eps = 1e-10\n",
    "\n",
    "n = 5\n",
    "h = (b - a) / (n - 1)\n",
    "xx = [ a + (h * i) for i in range(n)]\n",
    "A = np.zeros((n,n))\n",
    "print(len(xx))"
   ]
  },
  {
   "cell_type": "code",
   "execution_count": 4,
   "metadata": {},
   "outputs": [
    {
     "data": {
      "text/plain": [
       "5"
      ]
     },
     "execution_count": 4,
     "metadata": {},
     "output_type": "execute_result"
    }
   ],
   "source": [
    "len(xx)"
   ]
  },
  {
   "cell_type": "code",
   "execution_count": 5,
   "metadata": {},
   "outputs": [],
   "source": [
    "def basicFunction(j, x, xx=xx, h=h):\n",
    "    n = len(xx) - 1\n",
    "    if j >= 1 and xx[j-1] <= x <= xx[j]:\n",
    "        return (x - xx[j-1]) / (h)\n",
    "    elif j <= n - 1 and xx[j] <= x <= xx[j+1]:\n",
    "        return (xx[j+1] - x) / (h)\n",
    "    else:\n",
    "        return 0"
   ]
  },
  {
   "cell_type": "code",
   "execution_count": 6,
   "metadata": {},
   "outputs": [],
   "source": [
    "def Collocation(xx):\n",
    "    n = len(xx)\n",
    "    A = np.zeros([n, n])\n",
    "    \n",
    "    def collocate(K):\n",
    "        for i in range(n):\n",
    "            for j in range(n):\n",
    "                Kxi_li = lambda s: K(xx[i], s) * basicFunction(j, s)\n",
    "                print()\n",
    "                if (j == 0):\n",
    "                    (integral, err) = integrate.quad(Kxi_li, xx[j], xx[j + 1])\n",
    "                elif (j == n - 1):\n",
    "                    (integral, err) = integrate.quad(Kxi_li, xx[j - 1], xx[j])\n",
    "                else:\n",
    "                    (integral, err) = integrate.quad(Kxi_li, xx[j - 1], xx[j + 1])\n",
    "\n",
    "                A[i][j] = basicFunction(j, xx[i]) - lambd * integral\n",
    "        \n",
    "        return A\n",
    "\n",
    "    return collocate"
   ]
  },
  {
   "cell_type": "code",
   "execution_count": 7,
   "metadata": {},
   "outputs": [
    {
     "name": "stdout",
     "output_type": "stream",
     "text": [
      "\n",
      "\n",
      "\n",
      "\n",
      "\n",
      "\n",
      "\n",
      "\n",
      "\n",
      "\n",
      "\n",
      "\n",
      "\n",
      "\n",
      "\n",
      "\n",
      "\n",
      "\n",
      "\n",
      "\n",
      "\n",
      "\n",
      "\n",
      "\n",
      "\n"
     ]
    }
   ],
   "source": [
    "collocate = Collocation(xx)\n",
    "A = collocate(K)\n",
    "\n",
    "# for i in range(n):\n",
    "#     for j in range(n):\n",
    "        \n",
    "#         Kxi_li= lambda s: K(xx[i], s) * (basicFunction(j, s))\n",
    "#         if (j == 0):\n",
    "#             (integral, err) = integrate.quad(Kxi_li, xx[j], xx[j + 1])\n",
    "#         elif (j == n - 1):\n",
    "#             (integral, err) = integrate.quad(Kxi_li, xx[j - 1], xx[j])\n",
    "#         else:\n",
    "#             (integral, err) = integrate.quad(Kxi_li, xx[j - 1], xx[j + 1])\n",
    "            \n",
    "#         A[i][j] = basicFunction(j, xx[i]) - lambd * integral\n",
    "    "
   ]
  },
  {
   "cell_type": "code",
   "execution_count": null,
   "metadata": {},
   "outputs": [],
   "source": []
  },
  {
   "cell_type": "code",
   "execution_count": 8,
   "metadata": {},
   "outputs": [
    {
     "data": {
      "text/plain": [
       "(5, 5)"
      ]
     },
     "execution_count": 8,
     "metadata": {},
     "output_type": "execute_result"
    }
   ],
   "source": [
    "A = np.array(A, dtype='float')\n",
    "A.shape"
   ]
  },
  {
   "cell_type": "code",
   "execution_count": 9,
   "metadata": {},
   "outputs": [
    {
     "data": {
      "text/plain": [
       "(5, 1)"
      ]
     },
     "execution_count": 9,
     "metadata": {},
     "output_type": "execute_result"
    }
   ],
   "source": [
    "ff = np.array([[f(xx[j])] for j in range(n)], dtype='float')\n",
    "ff.shape"
   ]
  },
  {
   "cell_type": "code",
   "execution_count": 10,
   "metadata": {},
   "outputs": [
    {
     "data": {
      "text/plain": [
       "0.4432306036491559"
      ]
     },
     "execution_count": 10,
     "metadata": {},
     "output_type": "execute_result"
    }
   ],
   "source": [
    "LA.det(A)"
   ]
  },
  {
   "cell_type": "code",
   "execution_count": 11,
   "metadata": {},
   "outputs": [
    {
     "name": "stdout",
     "output_type": "stream",
     "text": [
      "[ 0.9375 -0.125  -0.125  -0.125  -0.0625]\n",
      "[-0.0765  0.8532 -0.1379 -0.1296 -0.0621]\n",
      "[-0.09   -0.1657  0.8538 -0.129  -0.0593]\n",
      "[-0.1028 -0.1819 -0.1508  0.875  -0.0551]\n",
      "[-0.1152 -0.1957 -0.1524 -0.1187  0.9499]\n"
     ]
    },
    {
     "data": {
      "text/plain": [
       "[None, None, None, None, None]"
      ]
     },
     "execution_count": 11,
     "metadata": {},
     "output_type": "execute_result"
    }
   ],
   "source": [
    "c = LA.solve(A, ff)\n",
    "[ print(A[i].round(4)) for i in range(n) ]"
   ]
  },
  {
   "cell_type": "code",
   "execution_count": 12,
   "metadata": {},
   "outputs": [],
   "source": [
    "def y_approx(x, c=c):\n",
    "    return sum([c[i][0]*basicFunction(i, x) for i in range(n)])"
   ]
  },
  {
   "cell_type": "code",
   "execution_count": 13,
   "metadata": {},
   "outputs": [
    {
     "data": {
      "text/plain": [
       "[<matplotlib.lines.Line2D at 0x1239bde50>,\n",
       " <matplotlib.lines.Line2D at 0x1239bdf40>]"
      ]
     },
     "execution_count": 13,
     "metadata": {},
     "output_type": "execute_result"
    },
    {
     "data": {
      "image/png": "[encoded data removed]",
      "text/plain": [
       "<Figure size 720x720 with 1 Axes>"
      ]
     },
     "metadata": {
      "needs_background": "light"
     },
     "output_type": "display_data"
    }
   ],
   "source": [
    "hh = (b - a) / (n * 3 - 1)\n",
    "xxx = [ a + (hh * i) for i in range(n * 3)]\n",
    "\n",
    "p = np.array(xxx)\n",
    "\n",
    "plt.figure(figsize = (10,10))\n",
    "\n",
    "plt.plot(p, y(p), p, [y_approx(p_) for p_ in p])"
   ]
  },
  {
   "cell_type": "code",
   "execution_count": 14,
   "metadata": {},
   "outputs": [
    {
     "name": "stdout",
     "output_type": "stream",
     "text": [
      "n:  0.030638962178769807\n"
     ]
    }
   ],
   "source": [
    "print(\"n: \", LA.norm(np.array([y_approx(p_) for p_ in p]) - np.array(y(p))))"
   ]
  },
  {
   "cell_type": "code",
   "execution_count": 15,
   "metadata": {},
   "outputs": [
    {
     "name": "stdout",
     "output_type": "stream",
     "text": [
      "[1.00398388 0.94091111 0.87783834 0.81476557 0.75866507 0.70953685\n",
      " 0.66040863 0.61128041 0.57301296 0.53474552 0.49647807 0.46244013\n",
      " 0.43263171 0.40282328 0.37301486]\n",
      "[1.         0.93106278 0.8668779  0.80711775 0.75147729 0.69967254\n",
      " 0.65143906 0.60653066 0.56471812 0.52578802 0.48954166 0.45579402\n",
      " 0.42437285 0.39511776 0.36787944]\n"
     ]
    }
   ],
   "source": [
    "print(np.array([y_approx(p_) for p_ in p]))\n",
    "print(np.array(y(p)))"
   ]
  },
  {
   "cell_type": "code",
   "execution_count": 16,
   "metadata": {},
   "outputs": [],
   "source": [
    "# def y_approx(x, c=c):\n",
    "#     [print(\"basic: \", basicFunction(i, x), \"c: \", c[i][0], \"*\", basicFunction(i, x) * c[i][0]) for i in range(n)]\n",
    "#     print(\"end\")\n",
    "#     return sum([c[i][0]*basicFunction(i, x) for i in range(n)])\n",
    "\n",
    "# print(y(0), y_approx(0.8))"
   ]
  },
  {
   "cell_type": "code",
   "execution_count": null,
   "metadata": {},
   "outputs": [],
   "source": []
  },
  {
   "cell_type": "code",
   "execution_count": null,
   "metadata": {},
   "outputs": [],
   "source": []
  }
 ],
 "metadata": {
  "kernelspec": {
   "display_name": "Python 3",
   "language": "python",
   "name": "python3"
  },
  "language_info": {
   "codemirror_mode": {
    "name": "ipython",
    "version": 3
   },
   "file_extension": ".py",
   "mimetype": "text/x-python",
   "name": "python",
   "nbconvert_exporter": "python",
   "pygments_lexer": "ipython3",
   "version": "3.8.2"
  }
 },
 "nbformat": 4,
 "nbformat_minor": 4
}
