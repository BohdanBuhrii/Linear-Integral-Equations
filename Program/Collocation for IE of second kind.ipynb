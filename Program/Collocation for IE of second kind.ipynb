{
 "cells": [
  {
   "cell_type": "code",
   "execution_count": 21,
   "metadata": {},
   "outputs": [],
   "source": [
    "import numpy as np\n",
    "import numpy.linalg as LA\n",
    "from scipy import integrate\n",
    "import inspect"
   ]
  },
  {
   "cell_type": "markdown",
   "metadata": {},
   "source": [
    "## Метод колокації для інтегрального рівняння Фредгольма другого роду"
   ]
  },
  {
   "cell_type": "markdown",
   "metadata": {},
   "source": [
    "Маємо інтегральне рівняння вигляду"
   ]
  },
  {
   "cell_type": "markdown",
   "metadata": {},
   "source": [
    "$$\n",
    "\\varphi(x)-\\lambda \\int_{a}^{b} \\varphi(y) K(x, y) d y = f(x), \\quad x \\in[a, b]\n",
    "$$"
   ]
  },
  {
   "cell_type": "markdown",
   "metadata": {},
   "source": [
    "Наближений розв'язок будемо шукати у вигляді"
   ]
  },
  {
   "cell_type": "markdown",
   "metadata": {},
   "source": [
    "$$\n",
    "\\tilde{\\varphi}(x)=\\sum_{j=1}^{n} c_{j} \\gamma_{j}(x)\n",
    "$$"
   ]
  },
  {
   "cell_type": "markdown",
   "metadata": {},
   "source": [
    "де $c_j$ - невідомі константи, які потрібно знайти, а $\\gamma_j$ - задані лінійнонезалежні функції (в нашому випадку кусково аналітичні), $j = 1, ..., n$."
   ]
  },
  {
   "cell_type": "markdown",
   "metadata": {},
   "source": [
    "Тоді отримаємо такий вираз"
   ]
  },
  {
   "cell_type": "markdown",
   "metadata": {},
   "source": [
    "$$\n",
    "\\sum_{j=1}^{n} c_{j}\\left[\\gamma_{j}(x)-\\lambda \\int_{a}^{b} K(x, y) \\gamma_{j}(y) d y\\right]=f(x)\n",
    "$$"
   ]
  },
  {
   "cell_type": "markdown",
   "metadata": {},
   "source": [
    "Розглянувши його на множині точок $x_i$, таких, що\n",
    "$$\n",
    "a \\leqslant x_{1}<x_{2}<\\ldots<x_{m} \\leqslant b\n",
    "$$"
   ]
  },
  {
   "cell_type": "markdown",
   "metadata": {},
   "source": [
    "отримаємо СЛАР відносно невідомих $с_j$, $j = 1, ..., n$. "
   ]
  },
  {
   "cell_type": "code",
   "execution_count": null,
   "metadata": {},
   "outputs": [],
   "source": []
  },
  {
   "cell_type": "code",
   "execution_count": 4,
   "metadata": {},
   "outputs": [],
   "source": [
    "a, b = -1, 1\n",
    "K = lambda x, y: x*y + x**2\n",
    "f = lambda x: 1\n",
    "lambd = 1\n",
    "h = 0.1"
   ]
  },
  {
   "cell_type": "code",
   "execution_count": 5,
   "metadata": {},
   "outputs": [
    {
     "data": {
      "text/plain": [
       "[-1.0,\n",
       " -0.9,\n",
       " -0.8,\n",
       " -0.7,\n",
       " -0.6,\n",
       " -0.5,\n",
       " -0.4,\n",
       " -0.3,\n",
       " -0.2,\n",
       " -0.1,\n",
       " -0.0,\n",
       " 0.1,\n",
       " 0.2,\n",
       " 0.3,\n",
       " 0.4,\n",
       " 0.5,\n",
       " 0.6,\n",
       " 0.7,\n",
       " 0.8,\n",
       " 0.9,\n",
       " 1.0]"
      ]
     },
     "execution_count": 5,
     "metadata": {},
     "output_type": "execute_result"
    }
   ],
   "source": [
    "xx = np.arange(a, b + 0.000001, h).round(3).tolist()\n",
    "n = len(xx)\n",
    "A = np.zeros((n,n)).tolist()\n",
    "xx"
   ]
  },
  {
   "cell_type": "code",
   "execution_count": 6,
   "metadata": {},
   "outputs": [],
   "source": [
    "def basicFunction(j, x, xx=xx, h=h):\n",
    "  '''j=0...n-1, базис на [xx[j], xx[j+1]]'''\n",
    "  n = len(xx)-1\n",
    "  #P0 = 1\n",
    "  \n",
    "  #P1 = lambda y: (y - xx[j])/h\n",
    "\n",
    "  #print(x)\n",
    "  \n",
    "  if j >=1 and xx[j-1] <= x <= xx[j]:\n",
    "    return (x - xx[j-1])/h\n",
    "  elif j <= n-1 and xx[j] <= x <= xx[j+1]:\n",
    "    return (xx[j+1] - x)/h\n",
    "  else:\n",
    "    return 0\n",
    "  #return x\n",
    "  \n",
    "  \n",
    "  #for x_ in range(n):\n",
    "    #1 + (x - xx[j])/h"
   ]
  },
  {
   "cell_type": "code",
   "execution_count": 7,
   "metadata": {},
   "outputs": [
    {
     "name": "stderr",
     "output_type": "stream",
     "text": [
      "<ipython-input-7-bfb191bb32af>:6: IntegrationWarning: The integral is probably divergent, or slowly convergent.\n",
      "  (integral, err) = integrate.quad(Kxi_li, a, b)\n"
     ]
    },
    {
     "data": {
      "text/plain": [
       "array([[ 0.902, -0.19 , -0.18 , -0.17 , -0.16 , -0.15 , -0.14 , -0.13 ,\n",
       "        -0.12 , -0.11 , -0.1  , -0.09 , -0.08 , -0.07 , -0.06 , -0.05 ,\n",
       "        -0.04 , -0.03 , -0.02 , -0.01 , -0.002],\n",
       "       [-0.084,  0.838, -0.153, -0.144, -0.135, -0.126, -0.117, -0.108,\n",
       "        -0.099, -0.09 , -0.081, -0.072, -0.063, -0.054, -0.045, -0.036,\n",
       "        -0.027, -0.018, -0.009,  0.   ,  0.003],\n",
       "       [-0.071, -0.136,  0.872, -0.12 , -0.112, -0.104, -0.096, -0.088,\n",
       "        -0.08 , -0.072, -0.064, -0.056, -0.048, -0.04 , -0.032, -0.024,\n",
       "        -0.016, -0.008,  0.   ,  0.008,  0.007],\n",
       "       [-0.058, -0.112, -0.105,  0.902, -0.091, -0.084, -0.077, -0.07 ,\n",
       "        -0.063, -0.056, -0.049, -0.042, -0.035, -0.028, -0.021, -0.014,\n",
       "        -0.007, -0.   ,  0.007,  0.014,  0.009],\n",
       "       [-0.047, -0.09 , -0.084, -0.078,  0.928, -0.066, -0.06 , -0.054,\n",
       "        -0.048, -0.042, -0.036, -0.03 , -0.024, -0.018, -0.012, -0.006,\n",
       "        -0.   ,  0.006,  0.012,  0.018,  0.011],\n",
       "       [-0.037, -0.07 , -0.065, -0.06 , -0.055,  0.95 , -0.045, -0.04 ,\n",
       "        -0.035, -0.03 , -0.025, -0.02 , -0.015, -0.01 , -0.005,  0.   ,\n",
       "         0.005,  0.01 ,  0.015,  0.02 ,  0.012],\n",
       "       [-0.027, -0.052, -0.048, -0.044, -0.04 , -0.036,  0.968, -0.028,\n",
       "        -0.024, -0.02 , -0.016, -0.012, -0.008, -0.004,  0.   ,  0.004,\n",
       "         0.008,  0.012,  0.016,  0.02 ,  0.011],\n",
       "       [-0.019, -0.036, -0.033, -0.03 , -0.027, -0.024, -0.021,  0.982,\n",
       "        -0.015, -0.012, -0.009, -0.006, -0.003,  0.   ,  0.003,  0.006,\n",
       "         0.009,  0.012,  0.015,  0.018,  0.01 ],\n",
       "       [-0.012, -0.022, -0.02 , -0.018, -0.016, -0.014, -0.012, -0.01 ,\n",
       "         0.992, -0.006, -0.004, -0.002, -0.   ,  0.002,  0.004,  0.006,\n",
       "         0.008,  0.01 ,  0.012,  0.014,  0.008],\n",
       "       [-0.005, -0.01 , -0.009, -0.008, -0.007, -0.006, -0.005, -0.004,\n",
       "        -0.003,  0.998, -0.001,  0.   ,  0.001,  0.002,  0.003,  0.004,\n",
       "         0.005,  0.006,  0.007,  0.008,  0.004],\n",
       "       [ 0.   ,  0.   ,  0.   ,  0.   ,  0.   ,  0.   ,  0.   ,  0.   ,\n",
       "         0.   ,  0.   ,  1.   ,  0.   ,  0.   ,  0.   ,  0.   ,  0.   ,\n",
       "         0.   ,  0.   ,  0.   ,  0.   ,  0.   ],\n",
       "       [ 0.004,  0.008,  0.007,  0.006,  0.005,  0.004,  0.003,  0.002,\n",
       "         0.001,  0.   , -0.001,  0.998, -0.003, -0.004, -0.005, -0.006,\n",
       "        -0.007, -0.008, -0.009, -0.01 , -0.005],\n",
       "       [ 0.008,  0.014,  0.012,  0.01 ,  0.008,  0.006,  0.004,  0.002,\n",
       "        -0.   , -0.002, -0.004, -0.006,  0.992, -0.01 , -0.012, -0.014,\n",
       "        -0.016, -0.018, -0.02 , -0.022, -0.012],\n",
       "       [ 0.01 ,  0.018,  0.015,  0.012,  0.009,  0.006,  0.003,  0.   ,\n",
       "        -0.003, -0.006, -0.009, -0.012, -0.015,  0.982, -0.021, -0.024,\n",
       "        -0.027, -0.03 , -0.033, -0.036, -0.019],\n",
       "       [ 0.011,  0.02 ,  0.016,  0.012,  0.008,  0.004,  0.   , -0.004,\n",
       "        -0.008, -0.012, -0.016, -0.02 , -0.024, -0.028,  0.968, -0.036,\n",
       "        -0.04 , -0.044, -0.048, -0.052, -0.027],\n",
       "       [ 0.012,  0.02 ,  0.015,  0.01 ,  0.005,  0.   , -0.005, -0.01 ,\n",
       "        -0.015, -0.02 , -0.025, -0.03 , -0.035, -0.04 , -0.045,  0.95 ,\n",
       "        -0.055, -0.06 , -0.065, -0.07 , -0.037],\n",
       "       [ 0.011,  0.018,  0.012,  0.006, -0.   , -0.006, -0.012, -0.018,\n",
       "        -0.024, -0.03 , -0.036, -0.042, -0.048, -0.054, -0.06 , -0.066,\n",
       "         0.928, -0.078, -0.084, -0.09 , -0.047],\n",
       "       [ 0.009,  0.014,  0.007, -0.   , -0.007, -0.014, -0.021, -0.028,\n",
       "        -0.035, -0.042, -0.049, -0.056, -0.063, -0.07 , -0.077, -0.084,\n",
       "        -0.091,  0.902, -0.105, -0.112, -0.058],\n",
       "       [ 0.007,  0.008,  0.   , -0.008, -0.016, -0.024, -0.032, -0.04 ,\n",
       "        -0.048, -0.056, -0.064, -0.072, -0.08 , -0.088, -0.096, -0.104,\n",
       "        -0.112, -0.12 ,  0.872, -0.136, -0.071],\n",
       "       [ 0.003,  0.   , -0.009, -0.018, -0.027, -0.036, -0.045, -0.054,\n",
       "        -0.063, -0.072, -0.081, -0.09 , -0.099, -0.108, -0.117, -0.126,\n",
       "        -0.135, -0.144, -0.153,  0.838, -0.084],\n",
       "       [-0.002, -0.01 , -0.02 , -0.03 , -0.04 , -0.05 , -0.06 , -0.07 ,\n",
       "        -0.08 , -0.09 , -0.1  , -0.11 , -0.12 , -0.13 , -0.14 , -0.15 ,\n",
       "        -0.16 , -0.17 , -0.18 , -0.19 ,  0.902]])"
      ]
     },
     "execution_count": 7,
     "metadata": {},
     "output_type": "execute_result"
    }
   ],
   "source": [
    "for i in range(n):\n",
    "  for j in range(n):\n",
    "    \n",
    "    Kxi_li= lambda s: K(xx[i], s) * basicFunction(j, s)\n",
    "    \n",
    "    (integral, err) = integrate.quad(Kxi_li, a, b)\n",
    "    \n",
    "    #print(a, b, integral, basicFunction(j, xx[i]))\n",
    "    \n",
    "    A[i][j] = basicFunction(j, xx[i]) - integral\n",
    "    \n",
    "    #integral = sm.integrate(K(xx[i], y)*, (y, a, b))\n",
    "    #A[i,j] = (basicFunction(j, x) - integral).evalf(5,subs={x: xx[i]})\n",
    "\n",
    "np.round(A, 3)"
   ]
  },
  {
   "cell_type": "code",
   "execution_count": 8,
   "metadata": {},
   "outputs": [
    {
     "data": {
      "text/plain": [
       "[[1],\n",
       " [1],\n",
       " [1],\n",
       " [1],\n",
       " [1],\n",
       " [1],\n",
       " [1],\n",
       " [1],\n",
       " [1],\n",
       " [1],\n",
       " [1],\n",
       " [1],\n",
       " [1],\n",
       " [1],\n",
       " [1],\n",
       " [1],\n",
       " [1],\n",
       " [1],\n",
       " [1],\n",
       " [1],\n",
       " [1]]"
      ]
     },
     "execution_count": 8,
     "metadata": {},
     "output_type": "execute_result"
    }
   ],
   "source": [
    "ff = [[f(xx[j])] for j in range(n)]\n",
    "ff"
   ]
  },
  {
   "cell_type": "code",
   "execution_count": 9,
   "metadata": {},
   "outputs": [
    {
     "data": {
      "text/plain": [
       "array([[ 0.902, -0.19 , -0.18 , -0.17 , -0.16 , -0.15 , -0.14 , -0.13 ,\n",
       "        -0.12 , -0.11 , -0.1  , -0.09 , -0.08 , -0.07 , -0.06 , -0.05 ,\n",
       "        -0.04 , -0.03 , -0.02 , -0.01 , -0.002],\n",
       "       [-0.084,  0.838, -0.153, -0.144, -0.135, -0.126, -0.117, -0.108,\n",
       "        -0.099, -0.09 , -0.081, -0.072, -0.063, -0.054, -0.045, -0.036,\n",
       "        -0.027, -0.018, -0.009,  0.   ,  0.003],\n",
       "       [-0.071, -0.136,  0.872, -0.12 , -0.112, -0.104, -0.096, -0.088,\n",
       "        -0.08 , -0.072, -0.064, -0.056, -0.048, -0.04 , -0.032, -0.024,\n",
       "        -0.016, -0.008,  0.   ,  0.008,  0.007],\n",
       "       [-0.058, -0.112, -0.105,  0.902, -0.091, -0.084, -0.077, -0.07 ,\n",
       "        -0.063, -0.056, -0.049, -0.042, -0.035, -0.028, -0.021, -0.014,\n",
       "        -0.007, -0.   ,  0.007,  0.014,  0.009],\n",
       "       [-0.047, -0.09 , -0.084, -0.078,  0.928, -0.066, -0.06 , -0.054,\n",
       "        -0.048, -0.042, -0.036, -0.03 , -0.024, -0.018, -0.012, -0.006,\n",
       "        -0.   ,  0.006,  0.012,  0.018,  0.011],\n",
       "       [-0.037, -0.07 , -0.065, -0.06 , -0.055,  0.95 , -0.045, -0.04 ,\n",
       "        -0.035, -0.03 , -0.025, -0.02 , -0.015, -0.01 , -0.005,  0.   ,\n",
       "         0.005,  0.01 ,  0.015,  0.02 ,  0.012],\n",
       "       [-0.027, -0.052, -0.048, -0.044, -0.04 , -0.036,  0.968, -0.028,\n",
       "        -0.024, -0.02 , -0.016, -0.012, -0.008, -0.004,  0.   ,  0.004,\n",
       "         0.008,  0.012,  0.016,  0.02 ,  0.011],\n",
       "       [-0.019, -0.036, -0.033, -0.03 , -0.027, -0.024, -0.021,  0.982,\n",
       "        -0.015, -0.012, -0.009, -0.006, -0.003,  0.   ,  0.003,  0.006,\n",
       "         0.009,  0.012,  0.015,  0.018,  0.01 ],\n",
       "       [-0.012, -0.022, -0.02 , -0.018, -0.016, -0.014, -0.012, -0.01 ,\n",
       "         0.992, -0.006, -0.004, -0.002, -0.   ,  0.002,  0.004,  0.006,\n",
       "         0.008,  0.01 ,  0.012,  0.014,  0.008],\n",
       "       [-0.005, -0.01 , -0.009, -0.008, -0.007, -0.006, -0.005, -0.004,\n",
       "        -0.003,  0.998, -0.001,  0.   ,  0.001,  0.002,  0.003,  0.004,\n",
       "         0.005,  0.006,  0.007,  0.008,  0.004],\n",
       "       [ 0.   ,  0.   ,  0.   ,  0.   ,  0.   ,  0.   ,  0.   ,  0.   ,\n",
       "         0.   ,  0.   ,  1.   ,  0.   ,  0.   ,  0.   ,  0.   ,  0.   ,\n",
       "         0.   ,  0.   ,  0.   ,  0.   ,  0.   ],\n",
       "       [ 0.004,  0.008,  0.007,  0.006,  0.005,  0.004,  0.003,  0.002,\n",
       "         0.001,  0.   , -0.001,  0.998, -0.003, -0.004, -0.005, -0.006,\n",
       "        -0.007, -0.008, -0.009, -0.01 , -0.005],\n",
       "       [ 0.008,  0.014,  0.012,  0.01 ,  0.008,  0.006,  0.004,  0.002,\n",
       "        -0.   , -0.002, -0.004, -0.006,  0.992, -0.01 , -0.012, -0.014,\n",
       "        -0.016, -0.018, -0.02 , -0.022, -0.012],\n",
       "       [ 0.01 ,  0.018,  0.015,  0.012,  0.009,  0.006,  0.003,  0.   ,\n",
       "        -0.003, -0.006, -0.009, -0.012, -0.015,  0.982, -0.021, -0.024,\n",
       "        -0.027, -0.03 , -0.033, -0.036, -0.019],\n",
       "       [ 0.011,  0.02 ,  0.016,  0.012,  0.008,  0.004,  0.   , -0.004,\n",
       "        -0.008, -0.012, -0.016, -0.02 , -0.024, -0.028,  0.968, -0.036,\n",
       "        -0.04 , -0.044, -0.048, -0.052, -0.027],\n",
       "       [ 0.012,  0.02 ,  0.015,  0.01 ,  0.005,  0.   , -0.005, -0.01 ,\n",
       "        -0.015, -0.02 , -0.025, -0.03 , -0.035, -0.04 , -0.045,  0.95 ,\n",
       "        -0.055, -0.06 , -0.065, -0.07 , -0.037],\n",
       "       [ 0.011,  0.018,  0.012,  0.006, -0.   , -0.006, -0.012, -0.018,\n",
       "        -0.024, -0.03 , -0.036, -0.042, -0.048, -0.054, -0.06 , -0.066,\n",
       "         0.928, -0.078, -0.084, -0.09 , -0.047],\n",
       "       [ 0.009,  0.014,  0.007, -0.   , -0.007, -0.014, -0.021, -0.028,\n",
       "        -0.035, -0.042, -0.049, -0.056, -0.063, -0.07 , -0.077, -0.084,\n",
       "        -0.091,  0.902, -0.105, -0.112, -0.058],\n",
       "       [ 0.007,  0.008,  0.   , -0.008, -0.016, -0.024, -0.032, -0.04 ,\n",
       "        -0.048, -0.056, -0.064, -0.072, -0.08 , -0.088, -0.096, -0.104,\n",
       "        -0.112, -0.12 ,  0.872, -0.136, -0.071],\n",
       "       [ 0.003,  0.   , -0.009, -0.018, -0.027, -0.036, -0.045, -0.054,\n",
       "        -0.063, -0.072, -0.081, -0.09 , -0.099, -0.108, -0.117, -0.126,\n",
       "        -0.135, -0.144, -0.153,  0.838, -0.084],\n",
       "       [-0.002, -0.01 , -0.02 , -0.03 , -0.04 , -0.05 , -0.06 , -0.07 ,\n",
       "        -0.08 , -0.09 , -0.1  , -0.11 , -0.12 , -0.13 , -0.14 , -0.15 ,\n",
       "        -0.16 , -0.17 , -0.18 , -0.19 ,  0.902]])"
      ]
     },
     "execution_count": 9,
     "metadata": {},
     "output_type": "execute_result"
    }
   ],
   "source": [
    "A = np.array(A, dtype='float')\n",
    "np.round(A, 3)"
   ]
  },
  {
   "cell_type": "code",
   "execution_count": 10,
   "metadata": {},
   "outputs": [
    {
     "data": {
      "text/plain": [
       "(21, 1)"
      ]
     },
     "execution_count": 10,
     "metadata": {},
     "output_type": "execute_result"
    }
   ],
   "source": [
    "ff = np.array(ff, dtype='float')\n",
    "ff.shape"
   ]
  },
  {
   "cell_type": "code",
   "execution_count": 11,
   "metadata": {},
   "outputs": [
    {
     "data": {
      "text/plain": [
       "0.1099999999895269"
      ]
     },
     "execution_count": 11,
     "metadata": {},
     "output_type": "execute_result"
    }
   ],
   "source": [
    "LA.det(A)"
   ]
  },
  {
   "cell_type": "code",
   "execution_count": 12,
   "metadata": {},
   "outputs": [
    {
     "data": {
      "text/plain": [
       "array([[7.06060606],\n",
       "       [5.90909091],\n",
       "       [4.87878788],\n",
       "       [3.96969697],\n",
       "       [3.18181818],\n",
       "       [2.51515151],\n",
       "       [1.96969697],\n",
       "       [1.54545455],\n",
       "       [1.24242424],\n",
       "       [1.06060606],\n",
       "       [1.        ],\n",
       "       [1.06060606],\n",
       "       [1.24242424],\n",
       "       [1.54545455],\n",
       "       [1.96969697],\n",
       "       [2.51515151],\n",
       "       [3.18181818],\n",
       "       [3.96969697],\n",
       "       [4.87878788],\n",
       "       [5.90909091],\n",
       "       [7.06060606]])"
      ]
     },
     "execution_count": 12,
     "metadata": {},
     "output_type": "execute_result"
    }
   ],
   "source": [
    "c = LA.solve(A, ff)\n",
    "c"
   ]
  },
  {
   "cell_type": "code",
   "execution_count": 13,
   "metadata": {},
   "outputs": [
    {
     "data": {
      "text/plain": [
       "(21, 1)"
      ]
     },
     "execution_count": 13,
     "metadata": {},
     "output_type": "execute_result"
    }
   ],
   "source": [
    "c.shape"
   ]
  },
  {
   "cell_type": "code",
   "execution_count": 14,
   "metadata": {},
   "outputs": [
    {
     "data": {
      "text/plain": [
       "array([[7.061],\n",
       "       [5.909],\n",
       "       [4.879],\n",
       "       [3.97 ],\n",
       "       [3.182],\n",
       "       [2.515],\n",
       "       [1.97 ],\n",
       "       [1.545],\n",
       "       [1.242],\n",
       "       [1.061],\n",
       "       [1.   ],\n",
       "       [1.061],\n",
       "       [1.242],\n",
       "       [1.545],\n",
       "       [1.97 ],\n",
       "       [2.515],\n",
       "       [3.182],\n",
       "       [3.97 ],\n",
       "       [4.879],\n",
       "       [5.909],\n",
       "       [7.061]])"
      ]
     },
     "execution_count": 14,
     "metadata": {},
     "output_type": "execute_result"
    }
   ],
   "source": [
    "c.round(3)"
   ]
  },
  {
   "cell_type": "code",
   "execution_count": 15,
   "metadata": {},
   "outputs": [
    {
     "data": {
      "text/plain": [
       "array([[1.],\n",
       "       [1.],\n",
       "       [1.],\n",
       "       [1.],\n",
       "       [1.],\n",
       "       [1.],\n",
       "       [1.],\n",
       "       [1.],\n",
       "       [1.],\n",
       "       [1.],\n",
       "       [1.],\n",
       "       [1.],\n",
       "       [1.],\n",
       "       [1.],\n",
       "       [1.],\n",
       "       [1.],\n",
       "       [1.],\n",
       "       [1.],\n",
       "       [1.],\n",
       "       [1.],\n",
       "       [1.]])"
      ]
     },
     "execution_count": 15,
     "metadata": {},
     "output_type": "execute_result"
    }
   ],
   "source": [
    "np.dot(A, c)"
   ]
  },
  {
   "cell_type": "code",
   "execution_count": 26,
   "metadata": {},
   "outputs": [
    {
     "data": {
      "text/plain": [
       "<function __main__.<lambda>(x)>"
      ]
     },
     "execution_count": 26,
     "metadata": {},
     "output_type": "execute_result"
    }
   ],
   "source": [
    "funcs = []\n",
    "for i in range(n):\n",
    "  funcs.append(lambda x: c[i][0]*basicFunction(i, x))\n",
    "\n",
    "#funcs = [lambda x: c[i][0]*basicFunction(i, x) for i in range(n)]\n",
    "y_approx = lambda x: sum(f_(x) for f_ in funcs)\n",
    "y_approx"
   ]
  },
  {
   "cell_type": "code",
   "execution_count": 35,
   "metadata": {},
   "outputs": [],
   "source": [
    "def y_approx(x, c=c):\n",
    "  return sum(c[i][0]*basicFunction(i, x) for i in range(n))"
   ]
  },
  {
   "cell_type": "code",
   "execution_count": 36,
   "metadata": {},
   "outputs": [
    {
     "name": "stdout",
     "output_type": "stream",
     "text": [
      "4.232536 4.2787878793818415\n"
     ]
    }
   ],
   "source": [
    "print(y(0.734), y_approx(0.734))"
   ]
  },
  {
   "cell_type": "code",
   "execution_count": 27,
   "metadata": {},
   "outputs": [
    {
     "name": "stdout",
     "output_type": "stream",
     "text": [
      "  funcs.append(lambda x: c[i][0]*basicFunction(i, x))\n",
      "\n",
      "  funcs.append(lambda x: c[i][0]*basicFunction(i, x))\n",
      "\n",
      "  funcs.append(lambda x: c[i][0]*basicFunction(i, x))\n",
      "\n",
      "  funcs.append(lambda x: c[i][0]*basicFunction(i, x))\n",
      "\n",
      "  funcs.append(lambda x: c[i][0]*basicFunction(i, x))\n",
      "\n",
      "  funcs.append(lambda x: c[i][0]*basicFunction(i, x))\n",
      "\n",
      "  funcs.append(lambda x: c[i][0]*basicFunction(i, x))\n",
      "\n",
      "  funcs.append(lambda x: c[i][0]*basicFunction(i, x))\n",
      "\n",
      "  funcs.append(lambda x: c[i][0]*basicFunction(i, x))\n",
      "\n",
      "  funcs.append(lambda x: c[i][0]*basicFunction(i, x))\n",
      "\n",
      "  funcs.append(lambda x: c[i][0]*basicFunction(i, x))\n",
      "\n",
      "  funcs.append(lambda x: c[i][0]*basicFunction(i, x))\n",
      "\n",
      "  funcs.append(lambda x: c[i][0]*basicFunction(i, x))\n",
      "\n",
      "  funcs.append(lambda x: c[i][0]*basicFunction(i, x))\n",
      "\n",
      "  funcs.append(lambda x: c[i][0]*basicFunction(i, x))\n",
      "\n",
      "  funcs.append(lambda x: c[i][0]*basicFunction(i, x))\n",
      "\n",
      "  funcs.append(lambda x: c[i][0]*basicFunction(i, x))\n",
      "\n",
      "  funcs.append(lambda x: c[i][0]*basicFunction(i, x))\n",
      "\n",
      "  funcs.append(lambda x: c[i][0]*basicFunction(i, x))\n",
      "\n",
      "  funcs.append(lambda x: c[i][0]*basicFunction(i, x))\n",
      "\n",
      "  funcs.append(lambda x: c[i][0]*basicFunction(i, x))\n",
      "\n"
     ]
    }
   ],
   "source": [
    "for f in funcs:\n",
    "  print(inspect.getsource(f))"
   ]
  },
  {
   "cell_type": "code",
   "execution_count": 17,
   "metadata": {},
   "outputs": [],
   "source": [
    "y = lambda x: 6*x**2 + 1"
   ]
  },
  {
   "cell_type": "code",
   "execution_count": 18,
   "metadata": {},
   "outputs": [
    {
     "name": "stdout",
     "output_type": "stream",
     "text": [
      "2.769094 0.0\n"
     ]
    }
   ],
   "source": [
    "print(y(0.543), y_approx(0.543))"
   ]
  },
  {
   "cell_type": "code",
   "execution_count": 19,
   "metadata": {},
   "outputs": [
    {
     "data": {
      "text/plain": [
       "[0.0,\n",
       " 0.0,\n",
       " 0.0,\n",
       " 0.0,\n",
       " 0.0,\n",
       " 0.0,\n",
       " 0.0,\n",
       " 0.0,\n",
       " 0.0,\n",
       " 0.0,\n",
       " 0.0,\n",
       " 0.0,\n",
       " 0.0,\n",
       " 0.0,\n",
       " 0.0,\n",
       " 0.0,\n",
       " 0.0,\n",
       " 0.0,\n",
       " 0.0,\n",
       " 0.0,\n",
       " 148.27272725031122]"
      ]
     },
     "execution_count": 19,
     "metadata": {},
     "output_type": "execute_result"
    }
   ],
   "source": [
    "[y_approx(x) for x in xx]"
   ]
  },
  {
   "cell_type": "code",
   "execution_count": null,
   "metadata": {},
   "outputs": [],
   "source": []
  }
 ],
 "metadata": {
  "kernelspec": {
   "display_name": "Python 3",
   "language": "python",
   "name": "python3"
  },
  "language_info": {
   "codemirror_mode": {
    "name": "ipython",
    "version": 3
   },
   "file_extension": ".py",
   "mimetype": "text/x-python",
   "name": "python",
   "nbconvert_exporter": "python",
   "pygments_lexer": "ipython3",
   "version": "3.8.2"
  }
 },
 "nbformat": 4,
 "nbformat_minor": 4
}
