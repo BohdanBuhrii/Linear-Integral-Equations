{
 "cells": [
  {
   "cell_type": "code",
   "execution_count": 1,
   "metadata": {},
   "outputs": [],
   "source": [
    "import numpy as np\n",
    "import numpy.linalg as LA\n",
    "from scipy import integrate\n",
    "import matplotlib.pyplot as plt"
   ]
  },
  {
   "cell_type": "markdown",
   "metadata": {},
   "source": [
    "## Метод колокації для інтегрального рівняння Фредгольма другого роду"
   ]
  },
  {
   "cell_type": "markdown",
   "metadata": {},
   "source": [
    "Маємо інтегральне рівняння вигляду"
   ]
  },
  {
   "cell_type": "markdown",
   "metadata": {},
   "source": [
    "$$\n",
    "\\varphi(x)-\\lambda \\int_{a}^{b} \\varphi(y) K(x, y) d y = f(x), \\quad x \\in[a, b]\n",
    "$$"
   ]
  },
  {
   "cell_type": "markdown",
   "metadata": {},
   "source": [
    "Наближений розв'язок будемо шукати у вигляді"
   ]
  },
  {
   "cell_type": "markdown",
   "metadata": {},
   "source": [
    "$$\n",
    "\\tilde{\\varphi}(x)=\\sum_{j=1}^{n} c_{j} \\gamma_{j}(x)\n",
    "$$"
   ]
  },
  {
   "cell_type": "markdown",
   "metadata": {},
   "source": [
    "де $c_j$ - невідомі константи, які потрібно знайти, а $\\gamma_j$ - задані лінійнонезалежні функції (в нашому випадку кусково аналітичні), $j = 1, ..., n$."
   ]
  },
  {
   "cell_type": "markdown",
   "metadata": {},
   "source": [
    "Тоді отримаємо такий вираз"
   ]
  },
  {
   "cell_type": "markdown",
   "metadata": {},
   "source": [
    "$$\n",
    "\\sum_{j=1}^{n} c_{j}\\left[\\gamma_{j}(x)-\\lambda \\int_{a}^{b} K(x, y) \\gamma_{j}(y) d y\\right]=f(x)\n",
    "$$"
   ]
  },
  {
   "cell_type": "markdown",
   "metadata": {},
   "source": [
    "Розглянувши його на множині точок $x_i$, таких, що\n",
    "$$\n",
    "a \\leqslant x_{1}<x_{2}<\\ldots<x_{m} \\leqslant b\n",
    "$$"
   ]
  },
  {
   "cell_type": "markdown",
   "metadata": {},
   "source": [
    "отримаємо СЛАР відносно невідомих $с_j$, $j = 1, ..., n$. "
   ]
  },
  {
   "cell_type": "code",
   "execution_count": 2,
   "metadata": {},
   "outputs": [],
   "source": [
    "n = 10\n",
    "A = np.zeros((n,n))"
   ]
  },
  {
   "cell_type": "code",
   "execution_count": 3,
   "metadata": {},
   "outputs": [],
   "source": [
    "# a, b = -1, 1\n",
    "# h = (b - a) / (n - 1)\n",
    "# xx = [ a + (h * i) for i in range(n)]\n",
    "\n",
    "# K = lambda x, y: x*y + x**2\n",
    "# f = lambda x: 1\n",
    "# y = lambda x: 6*x**2 + 1\n",
    "# lambd = 1"
   ]
  },
  {
   "cell_type": "code",
   "execution_count": 4,
   "metadata": {},
   "outputs": [],
   "source": [
    "a, b = 0, 1\n",
    "h = (b - a) / (n - 1)\n",
    "xx = [ a + (h * i) for i in range(n)]\n",
    "\n",
    "K = lambda x, y: (x + 1) * np.e ** (-x * y)\n",
    "f = lambda x: np.e ** (-x) - (1/2) + (1/2) * np.e ** (-(x + 1))\n",
    "y = lambda x: np.e ** (-x)\n",
    "lambd = 1/2"
   ]
  },
  {
   "cell_type": "code",
   "execution_count": 5,
   "metadata": {},
   "outputs": [],
   "source": [
    "def basicFunction(j, x, xx=xx, h=h):\n",
    "    j = j + 1\n",
    "    xx = xx.copy()\n",
    "    xx = np.concatenate(([a - h], xx, [b + h]))\n",
    "    n = len(xx) - 1\n",
    "    \n",
    "    if j >= 1 and xx[j-1] <= x <= xx[j]:\n",
    "        return (x - xx[j-1]) / (h)\n",
    "    elif j <= n - 1 and xx[j] <= x <= xx[j+1]:\n",
    "        return (xx[j+1] - x) / (h)\n",
    "    else:\n",
    "        return 0\n",
    "\n"
   ]
  },
  {
   "cell_type": "code",
   "execution_count": 16,
   "metadata": {},
   "outputs": [],
   "source": [
    "def Collocation(xx):\n",
    "    xx = xx.copy()\n",
    "    n = len(xx)\n",
    "    A = np.zeros([n, n])\n",
    "    \n",
    "    def collocate(K):\n",
    "        for i in range(n):\n",
    "            for j in range(n):\n",
    "                Kxi_li = lambda s: K(xx[i], s) * basicFunction(j, s)\n",
    "\n",
    "                if (j == 0):\n",
    "                    (integral, err) = integrate.quad(Kxi_li, xx[j], xx[j + 1])\n",
    "                elif (j == n - 1):\n",
    "                    (integral, err) = integrate.quad(Kxi_li, xx[j - 1], xx[j])\n",
    "                else:\n",
    "                    (integral, err) = integrate.quad(Kxi_li, xx[j - 1], xx[j + 1])\n",
    "                print(err)\n",
    "                A[i][j] = basicFunction(j, xx[i]) - lambd * integral\n",
    "        \n",
    "        return A\n",
    "\n",
    "    return collocate"
   ]
  },
  {
   "cell_type": "code",
   "execution_count": 17,
   "metadata": {},
   "outputs": [
    {
     "name": "stdout",
     "output_type": "stream",
     "text": [
      "6.167905692361981e-16\n",
      "1.2351231148954867e-15\n",
      "1.2351231148954867e-15\n",
      "1.2351231148954867e-15\n",
      "1.2351231148954867e-15\n",
      "1.2351231148954867e-15\n",
      "1.2351231148954867e-15\n",
      "1.2351231148954867e-15\n",
      "1.2351231148954867e-15\n",
      "6.167905692361986e-16\n",
      "6.825112790991307e-16\n",
      "1.3530843112619095e-15\n",
      "1.339206523454095e-15\n",
      "1.3183898417423734e-15\n",
      "1.304512053934559e-15\n",
      "1.2906342661267445e-15\n",
      "1.2698175844150228e-15\n",
      "1.2559397966072083e-15\n",
      "1.2420620087993939e-15\n",
      "6.157853218396667e-16\n",
      "7.476886825723337e-16\n",
      "1.4710455076283324e-15\n",
      "1.429412144204889e-15\n",
      "1.4016565685892601e-15\n",
      "1.366962099069724e-15\n",
      "1.3322676295501878e-15\n",
      "1.2975731600306517e-15\n",
      "1.2698175844150228e-15\n",
      "1.2351231148954867e-15\n",
      "6.08639057794942e-16\n",
      "8.123278110051838e-16\n",
      "1.582067810090848e-15\n",
      "1.5265566588595902e-15\n",
      "1.4710455076283324e-15\n",
      "1.4155343563970746e-15\n",
      "1.366962099069724e-15\n",
      "1.3183898417423734e-15\n",
      "1.2698175844150228e-15\n",
      "1.2212453270876722e-15\n",
      "5.96609095165746e-16\n",
      "8.764336461526658e-16\n",
      "1.6930901125533637e-15\n",
      "1.609823385706477e-15\n",
      "1.5404344466674047e-15\n",
      "1.457167719820518e-15\n",
      "1.3877787807814457e-15\n",
      "1.3253287356462806e-15\n",
      "1.2628786905111156e-15\n",
      "1.2004286453759505e-15\n",
      "5.807606221607027e-16\n",
      "9.400111206839859e-16\n",
      "1.8041124150158794e-15\n",
      "1.6930901125533637e-15\n",
      "1.5959455978986625e-15\n",
      "1.4988010832439613e-15\n",
      "1.4155343563970746e-15\n",
      "1.3253287356462806e-15\n",
      "1.2490009027033011e-15\n",
      "1.1726730697603216e-15\n",
      "5.619927751836009e-16\n",
      "1.00306511868582e-15\n",
      "1.915134717478395e-15\n",
      "1.7763568394002505e-15\n",
      "1.6514567491299204e-15\n",
      "1.5265566588595902e-15\n",
      "1.4155343563970746e-15\n",
      "1.3183898417423734e-15\n",
      "1.2212453270876722e-15\n",
      "1.1379786002407855e-15\n",
      "5.410613982195814e-16\n",
      "1.0656004761602625e-15\n",
      "2.0122792321330962e-15\n",
      "1.8457457784393227e-15\n",
      "1.6930901125533637e-15\n",
      "1.5543122344752192e-15\n",
      "1.429412144204889e-15\n",
      "1.304512053934559e-15\n",
      "1.2004286453759505e-15\n",
      "1.096345236817342e-15\n",
      "5.185988891344217e-16\n",
      "1.127621981517525e-15\n",
      "2.1094237467877974e-15\n",
      "1.915134717478395e-15\n",
      "1.734723475976807e-15\n",
      "1.5681900222830336e-15\n",
      "1.429412144204889e-15\n",
      "1.2906342661267445e-15\n",
      "1.1657341758564144e-15\n",
      "1.061650767297806e-15\n",
      "4.951314902531107e-16\n",
      "1.189134376063449e-15\n",
      "2.2065682614424986e-15\n",
      "1.970645868709653e-15\n",
      "1.7763568394002505e-15\n",
      "1.582067810090848e-15\n",
      "1.4155343563970746e-15\n",
      "1.2698175844150228e-15\n",
      "1.1379786002407855e-15\n",
      "1.0130785099704553e-15\n",
      "4.710943379896133e-16\n"
     ]
    }
   ],
   "source": [
    "collocate = Collocation(xx)\n",
    "A = collocate(K)"
   ]
  },
  {
   "cell_type": "code",
   "execution_count": 18,
   "metadata": {},
   "outputs": [
    {
     "data": {
      "text/plain": [
       "(10, 10)"
      ]
     },
     "execution_count": 18,
     "metadata": {},
     "output_type": "execute_result"
    }
   ],
   "source": [
    "A = np.array(A, dtype='float')\n",
    "A.shape"
   ]
  },
  {
   "cell_type": "code",
   "execution_count": 9,
   "metadata": {},
   "outputs": [
    {
     "data": {
      "text/plain": [
       "(10, 1)"
      ]
     },
     "execution_count": 9,
     "metadata": {},
     "output_type": "execute_result"
    }
   ],
   "source": [
    "ff = np.array([[f(xx[j])] for j in range(n)], dtype='float')\n",
    "ff.shape"
   ]
  },
  {
   "cell_type": "code",
   "execution_count": 10,
   "metadata": {},
   "outputs": [
    {
     "data": {
      "text/plain": [
       "0.44240044614240776"
      ]
     },
     "execution_count": 10,
     "metadata": {},
     "output_type": "execute_result"
    }
   ],
   "source": [
    "LA.det(A)"
   ]
  },
  {
   "cell_type": "code",
   "execution_count": 11,
   "metadata": {
    "scrolled": true
   },
   "outputs": [],
   "source": [
    "c = LA.solve(A, ff)"
   ]
  },
  {
   "cell_type": "code",
   "execution_count": 12,
   "metadata": {},
   "outputs": [],
   "source": [
    "def y_approx(x, c=c):\n",
    "    return sum([c[i][0]*basicFunction(i, x) for i in range(n)])"
   ]
  },
  {
   "cell_type": "code",
   "execution_count": 13,
   "metadata": {},
   "outputs": [
    {
     "data": {
      "text/plain": [
       "[<matplotlib.lines.Line2D at 0x11507eaf0>,\n",
       " <matplotlib.lines.Line2D at 0x11507ebe0>]"
      ]
     },
     "execution_count": 13,
     "metadata": {},
     "output_type": "execute_result"
    },
    {
     "data": {
      "image/png": "[encoded data removed]",
      "text/plain": [
       "<Figure size 720x720 with 1 Axes>"
      ]
     },
     "metadata": {
      "needs_background": "light"
     },
     "output_type": "display_data"
    }
   ],
   "source": [
    "hh = (b - a) / (n * 3 - 1)\n",
    "xxx = [ a + (hh * i) for i in range(n * 3)]\n",
    "\n",
    "p = np.array(xxx)\n",
    "\n",
    "plt.figure(figsize = (10,10))\n",
    "\n",
    "plt.plot(p, y(p), p, [y_approx(p_) for p_ in p])"
   ]
  },
  {
   "cell_type": "code",
   "execution_count": 14,
   "metadata": {},
   "outputs": [
    {
     "name": "stdout",
     "output_type": "stream",
     "text": [
      "n:  0.008732608747516963\n"
     ]
    }
   ],
   "source": [
    "print(\"n: \", LA.norm(np.array([y_approx(p_) for p_ in p]) - np.array(y(p))))"
   ]
  }
 ],
 "metadata": {
  "kernelspec": {
   "display_name": "Python 3",
   "language": "python",
   "name": "python3"
  },
  "language_info": {
   "codemirror_mode": {
    "name": "ipython",
    "version": 3
   },
   "file_extension": ".py",
   "mimetype": "text/x-python",
   "name": "python",
   "nbconvert_exporter": "python",
   "pygments_lexer": "ipython3",
   "version": "3.8.2"
  }
 },
 "nbformat": 4,
 "nbformat_minor": 4
}
