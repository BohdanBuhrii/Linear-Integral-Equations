{
 "cells": [
  {
   "cell_type": "code",
   "execution_count": 1,
   "metadata": {},
   "outputs": [],
   "source": [
    "import numpy as np\n",
    "import numpy.linalg as LA\n",
    "from scipy import integrate\n",
    "import matplotlib.pyplot as plt"
   ]
  },
  {
   "cell_type": "markdown",
   "metadata": {},
   "source": [
    "## Метод колокації для інтегрального рівняння Фредгольма другого роду"
   ]
  },
  {
   "cell_type": "markdown",
   "metadata": {},
   "source": [
    "Маємо інтегральне рівняння вигляду"
   ]
  },
  {
   "cell_type": "markdown",
   "metadata": {},
   "source": [
    "$$\n",
    "\\varphi(x)-\\lambda \\int_{a}^{b} \\varphi(y) K(x, y) d y = f(x), \\quad x \\in[a, b]\n",
    "$$"
   ]
  },
  {
   "cell_type": "markdown",
   "metadata": {},
   "source": [
    "Наближений розв'язок будемо шукати у вигляді"
   ]
  },
  {
   "cell_type": "markdown",
   "metadata": {},
   "source": [
    "$$\n",
    "\\tilde{\\varphi}(x)=\\sum_{j=1}^{n} c_{j} \\gamma_{j}(x)\n",
    "$$"
   ]
  },
  {
   "cell_type": "markdown",
   "metadata": {},
   "source": [
    "де $c_j$ - невідомі константи, які потрібно знайти, а $\\gamma_j$ - задані лінійнонезалежні функції (в нашому випадку кусково аналітичні), $j = 1, ..., n$."
   ]
  },
  {
   "cell_type": "markdown",
   "metadata": {},
   "source": [
    "Тоді отримаємо такий вираз"
   ]
  },
  {
   "cell_type": "markdown",
   "metadata": {},
   "source": [
    "$$\n",
    "\\sum_{j=1}^{n} c_{j}\\left[\\gamma_{j}(x)-\\lambda \\int_{a}^{b} K(x, y) \\gamma_{j}(y) d y\\right]=f(x)\n",
    "$$"
   ]
  },
  {
   "cell_type": "markdown",
   "metadata": {},
   "source": [
    "Розглянувши його на множині точок $x_i$, таких, що\n",
    "$$\n",
    "a \\leqslant x_{1}<x_{2}<\\ldots<x_{m} \\leqslant b\n",
    "$$"
   ]
  },
  {
   "cell_type": "markdown",
   "metadata": {},
   "source": [
    "отримаємо СЛАР відносно невідомих $с_j$, $j = 1, ..., n$. "
   ]
  },
  {
   "cell_type": "code",
   "execution_count": 31,
   "metadata": {},
   "outputs": [],
   "source": [
    "n = 128\n",
    "A = np.zeros((n,n))"
   ]
  },
  {
   "cell_type": "code",
   "execution_count": 32,
   "metadata": {},
   "outputs": [],
   "source": [
    "# a, b = -1, 1\n",
    "# h = (b - a) / (n - 1)\n",
    "# xx = [ a + (h * i) for i in range(n)]\n",
    "\n",
    "# K = lambda x, y: x*y + x**2\n",
    "# f = lambda x: 1\n",
    "# y = lambda x: 6*x**2 + 1\n",
    "# lambd = 1"
   ]
  },
  {
   "cell_type": "code",
   "execution_count": 33,
   "metadata": {},
   "outputs": [],
   "source": [
    "a, b = 0, 1\n",
    "h = (b - a) / (n - 1)\n",
    "xx = [ a + (h * i) for i in range(n)]\n",
    "\n",
    "K = lambda x, y: (x + 1) * np.e ** (-x * y)\n",
    "f = lambda x: np.e ** (-x) - (1/2) + (1/2) * np.e ** (-(x + 1))\n",
    "y = lambda x: np.e ** (-x)\n",
    "lambd = 1/2"
   ]
  },
  {
   "cell_type": "code",
   "execution_count": 34,
   "metadata": {},
   "outputs": [],
   "source": [
    "def basicFunction(j, x, xx=xx, h=h):\n",
    "    j = j + 1\n",
    "    xx = xx.copy()\n",
    "    xx = np.concatenate(([a - h], xx, [b + h]))\n",
    "    n = len(xx) - 1\n",
    "    \n",
    "    if j >= 1 and xx[j-1] <= x <= xx[j]:\n",
    "        return (x - xx[j-1]) / (h)\n",
    "    elif j <= n - 1 and xx[j] <= x <= xx[j+1]:\n",
    "        return (xx[j+1] - x) / (h)\n",
    "    else:\n",
    "        return 0\n",
    "\n"
   ]
  },
  {
   "cell_type": "code",
   "execution_count": 35,
   "metadata": {},
   "outputs": [],
   "source": [
    "def Collocation(xx):\n",
    "    xx = xx.copy()\n",
    "    n = len(xx)\n",
    "    A = np.zeros([n, n])\n",
    "    \n",
    "    def collocate(K):\n",
    "        for i in range(n):\n",
    "            for j in range(n):\n",
    "                Kxi_li = lambda s: K(xx[i], s) * basicFunction(j, s)\n",
    "\n",
    "                if (j == 0):\n",
    "                    (integral, err) = integrate.quad(Kxi_li, xx[j], xx[j + 1])\n",
    "                elif (j == n - 1):\n",
    "                    (integral, err) = integrate.quad(Kxi_li, xx[j - 1], xx[j])\n",
    "                else:\n",
    "                    (integral, err) = integrate.quad(Kxi_li, xx[j - 1], xx[j + 1])\n",
    "                \n",
    "                A[i][j] = basicFunction(j, xx[i]) - lambd * integral\n",
    "        \n",
    "        return A\n",
    "\n",
    "    return collocate"
   ]
  },
  {
   "cell_type": "code",
   "execution_count": 36,
   "metadata": {},
   "outputs": [],
   "source": [
    "collocate = Collocation(xx)\n",
    "A = collocate(K)"
   ]
  },
  {
   "cell_type": "code",
   "execution_count": 37,
   "metadata": {},
   "outputs": [
    {
     "data": {
      "text/plain": [
       "(128, 128)"
      ]
     },
     "execution_count": 37,
     "metadata": {},
     "output_type": "execute_result"
    }
   ],
   "source": [
    "A = np.array(A, dtype='float')\n",
    "A.shape"
   ]
  },
  {
   "cell_type": "code",
   "execution_count": 38,
   "metadata": {},
   "outputs": [
    {
     "data": {
      "text/plain": [
       "(128, 1)"
      ]
     },
     "execution_count": 38,
     "metadata": {},
     "output_type": "execute_result"
    }
   ],
   "source": [
    "ff = np.array([[f(xx[j])] for j in range(n)], dtype='float')\n",
    "ff.shape"
   ]
  },
  {
   "cell_type": "code",
   "execution_count": 39,
   "metadata": {},
   "outputs": [
    {
     "data": {
      "text/plain": [
       "0.44219758200761555"
      ]
     },
     "execution_count": 39,
     "metadata": {},
     "output_type": "execute_result"
    }
   ],
   "source": [
    "LA.det(A)"
   ]
  },
  {
   "cell_type": "code",
   "execution_count": 40,
   "metadata": {
    "scrolled": true
   },
   "outputs": [],
   "source": [
    "c = LA.solve(A, ff)"
   ]
  },
  {
   "cell_type": "code",
   "execution_count": 41,
   "metadata": {},
   "outputs": [],
   "source": [
    "def y_approx(x, c=c):\n",
    "    return sum([c[i][0]*basicFunction(i, x) for i in range(n)])"
   ]
  },
  {
   "cell_type": "code",
   "execution_count": 42,
   "metadata": {},
   "outputs": [
    {
     "data": {
      "text/plain": [
       "[<matplotlib.lines.Line2D at 0x123e20220>,\n",
       " <matplotlib.lines.Line2D at 0x123e20250>]"
      ]
     },
     "execution_count": 42,
     "metadata": {},
     "output_type": "execute_result"
    },
    {
     "data": {
      "image/png": "[encoded data removed]",
      "text/plain": [
       "<Figure size 720x720 with 1 Axes>"
      ]
     },
     "metadata": {
      "needs_background": "light"
     },
     "output_type": "display_data"
    }
   ],
   "source": [
    "hh = (b - a) / (n * 3 - 1)\n",
    "xxx = [ a + (hh * i) for i in range(n * 3)]\n",
    "\n",
    "p = np.array(xxx)\n",
    "\n",
    "plt.figure(figsize = (10,10))\n",
    "\n",
    "plt.plot(p, y(p), p, [y_approx(p_) for p_ in p])"
   ]
  },
  {
   "cell_type": "code",
   "execution_count": 43,
   "metadata": {},
   "outputs": [
    {
     "name": "stdout",
     "output_type": "stream",
     "text": [
      "n:  0.00015876965230171206\n"
     ]
    }
   ],
   "source": [
    "print(\"n: \", LA.norm(np.array([y_approx(p_) for p_ in p]) - np.array(y(p))))"
   ]
  }
 ],
 "metadata": {
  "kernelspec": {
   "display_name": "Python 3",
   "language": "python",
   "name": "python3"
  },
  "language_info": {
   "codemirror_mode": {
    "name": "ipython",
    "version": 3
   },
   "file_extension": ".py",
   "mimetype": "text/x-python",
   "name": "python",
   "nbconvert_exporter": "python",
   "pygments_lexer": "ipython3",
   "version": "3.8.2"
  }
 },
 "nbformat": 4,
 "nbformat_minor": 4
}
