{
 "cells": [
  {
   "cell_type": "code",
   "execution_count": 4,
   "metadata": {},
   "outputs": [],
   "source": [
    "import numpy as np\n",
    "import numpy.linalg as LA\n",
    "from scipy import integrate"
   ]
  },
  {
   "cell_type": "markdown",
   "metadata": {},
   "source": [
    "## Метод колокації для інтегрального рівняння Фредгольма другого роду"
   ]
  },
  {
   "cell_type": "markdown",
   "metadata": {},
   "source": [
    "Маємо інтегральне рівняння вигляду"
   ]
  },
  {
   "cell_type": "markdown",
   "metadata": {},
   "source": [
    "$$\n",
    "\\varphi(x)-\\lambda \\int_{a}^{b} \\varphi(y) K(x, y) d y = f(x), \\quad x \\in[a, b]\n",
    "$$"
   ]
  },
  {
   "cell_type": "markdown",
   "metadata": {},
   "source": [
    "Наближений розв'язок будемо шукати у вигляді"
   ]
  },
  {
   "cell_type": "markdown",
   "metadata": {},
   "source": [
    "$$\n",
    "\\tilde{\\varphi}(x)=\\sum_{j=1}^{n} c_{j} \\gamma_{j}(x)\n",
    "$$"
   ]
  },
  {
   "cell_type": "markdown",
   "metadata": {},
   "source": [
    "де $c_j$ - невідомі константи, які потрібно знайти, а $\\gamma_j$ - задані лінійнонезалежні функції (в нашому випадку кусково аналітичні), $j = 1, ..., n$."
   ]
  },
  {
   "cell_type": "markdown",
   "metadata": {},
   "source": [
    "Тоді отримаємо такий вираз"
   ]
  },
  {
   "cell_type": "markdown",
   "metadata": {},
   "source": [
    "$$\n",
    "\\sum_{j=1}^{n} c_{j}\\left[\\gamma_{j}(x)-\\lambda \\int_{a}^{b} K(x, y) \\gamma_{j}(y) d y\\right]=f(x)\n",
    "$$"
   ]
  },
  {
   "cell_type": "markdown",
   "metadata": {},
   "source": [
    "Розглянувши його на множині точок $x_i$, таких, що\n",
    "$$\n",
    "a \\leqslant x_{1}<x_{2}<\\ldots<x_{m} \\leqslant b\n",
    "$$"
   ]
  },
  {
   "cell_type": "markdown",
   "metadata": {},
   "source": [
    "отримаємо СЛАР відносно невідомих $с_j$, $j = 1, ..., n$. "
   ]
  },
  {
   "cell_type": "code",
   "execution_count": null,
   "metadata": {},
   "outputs": [],
   "source": []
  },
  {
   "cell_type": "code",
   "execution_count": 91,
   "metadata": {},
   "outputs": [],
   "source": [
    "a, b = -1, 1\n",
    "K = lambda x, y: x*y + x**2\n",
    "f = lambda x: 1\n",
    "lambd = 1\n",
    "h = 0.2"
   ]
  },
  {
   "cell_type": "code",
   "execution_count": 92,
   "metadata": {},
   "outputs": [
    {
     "data": {
      "text/plain": [
       "[-1.0, -0.8, -0.6, -0.4, -0.2, -0.0, 0.2, 0.4, 0.6, 0.8, 1.0]"
      ]
     },
     "execution_count": 92,
     "metadata": {},
     "output_type": "execute_result"
    }
   ],
   "source": [
    "xx = np.arange(a, b + 0.000001, h).round(3).tolist()\n",
    "n = len(xx)\n",
    "A = np.zeros((n,n)).tolist()\n",
    "xx"
   ]
  },
  {
   "cell_type": "code",
   "execution_count": 93,
   "metadata": {},
   "outputs": [],
   "source": [
    "def basicFunction(j, x, xx=xx, h=h):\n",
    "  '''j=0...n-1, базис на [xx[j], xx[j+1]]'''\n",
    "  n = len(xx)\n",
    "  #P0 = 1\n",
    "  \n",
    "  #P1 = lambda y: (y - xx[j])/h\n",
    "\n",
    "  #print(x)\n",
    "  \n",
    "  if j >=1 and xx[j-1] <= x <= xx[j]:\n",
    "    return (x - xx[j-1])/h\n",
    "  elif j <= n-1 and xx[j] <= x <= xx[j+1]:\n",
    "    return (xx[j+1] - x)/h\n",
    "  else:\n",
    "    return 0\n",
    "  #return x\n",
    "  \n",
    "  \n",
    "  #for x_ in range(n):\n",
    "    #1 + (x - xx[j])/h"
   ]
  },
  {
   "cell_type": "code",
   "execution_count": 94,
   "metadata": {},
   "outputs": [
    {
     "data": {
      "text/plain": [
       "array([[ 0.807, -0.36 , -0.32 , -0.28 , -0.24 , -0.2  , -0.16 , -0.12 ,\n",
       "        -0.08 , -0.04 , -0.007],\n",
       "       [-0.139,  0.744, -0.224, -0.192, -0.16 , -0.128, -0.096, -0.064,\n",
       "        -0.032,  0.   ,  0.011],\n",
       "       [-0.092, -0.168,  0.856, -0.12 , -0.096, -0.072, -0.048, -0.024,\n",
       "        -0.   ,  0.024,  0.02 ],\n",
       "       [-0.053, -0.096, -0.08 ,  0.936, -0.048, -0.032, -0.016, -0.   ,\n",
       "         0.016,  0.032,  0.021],\n",
       "       [-0.023, -0.04 , -0.032, -0.024,  0.984, -0.008, -0.   ,  0.008,\n",
       "         0.016,  0.024,  0.015],\n",
       "       [ 0.   ,  0.   ,  0.   ,  0.   ,  0.   ,  1.   ,  0.   ,  0.   ,\n",
       "         0.   ,  0.   ,  0.   ],\n",
       "       [ 0.015,  0.024,  0.016,  0.008, -0.   , -0.008,  0.984, -0.024,\n",
       "        -0.032, -0.04 , -0.023],\n",
       "       [ 0.021,  0.032,  0.016, -0.   , -0.016, -0.032, -0.048,  0.936,\n",
       "        -0.08 , -0.096, -0.053],\n",
       "       [ 0.02 ,  0.024, -0.   , -0.024, -0.048, -0.072, -0.096, -0.12 ,\n",
       "         0.856, -0.168, -0.092],\n",
       "       [ 0.011,  0.   , -0.032, -0.064, -0.096, -0.128, -0.16 , -0.192,\n",
       "        -0.224,  0.744, -0.139],\n",
       "       [-0.007, -0.04 , -0.08 , -0.12 , -0.16 , -0.2  , -0.24 , -0.28 ,\n",
       "        -0.32 , -0.36 ,  0.807]])"
      ]
     },
     "execution_count": 94,
     "metadata": {},
     "output_type": "execute_result"
    }
   ],
   "source": [
    "for i in range(n):\n",
    "  for j in range(n):\n",
    "    \n",
    "    Kxi_li= lambda s: K(xx[i], s) * basicFunction(j, s)\n",
    "    \n",
    "    (integral, err) = integrate.quad(Kxi_li, a, b)\n",
    "    \n",
    "    #print(a, b, integral, basicFunction(j, xx[i]))\n",
    "    \n",
    "    A[i][j] = basicFunction(j, xx[i]) - integral\n",
    "    \n",
    "    #integral = sm.integrate(K(xx[i], y)*, (y, a, b))\n",
    "    #A[i,j] = (basicFunction(j, x) - integral).evalf(5,subs={x: xx[i]})\n",
    "\n",
    "np.round(A, 3)"
   ]
  },
  {
   "cell_type": "code",
   "execution_count": 95,
   "metadata": {},
   "outputs": [
    {
     "data": {
      "text/plain": [
       "[[1], [1], [1], [1], [1], [1], [1], [1], [1], [1], [1]]"
      ]
     },
     "execution_count": 95,
     "metadata": {},
     "output_type": "execute_result"
    }
   ],
   "source": [
    "ff = [[f(xx[j])] for j in range(n)]\n",
    "ff"
   ]
  },
  {
   "cell_type": "code",
   "execution_count": 96,
   "metadata": {},
   "outputs": [
    {
     "data": {
      "text/plain": [
       "array([[ 0.807, -0.36 , -0.32 , -0.28 , -0.24 , -0.2  , -0.16 , -0.12 ,\n",
       "        -0.08 , -0.04 , -0.007],\n",
       "       [-0.139,  0.744, -0.224, -0.192, -0.16 , -0.128, -0.096, -0.064,\n",
       "        -0.032,  0.   ,  0.011],\n",
       "       [-0.092, -0.168,  0.856, -0.12 , -0.096, -0.072, -0.048, -0.024,\n",
       "        -0.   ,  0.024,  0.02 ],\n",
       "       [-0.053, -0.096, -0.08 ,  0.936, -0.048, -0.032, -0.016, -0.   ,\n",
       "         0.016,  0.032,  0.021],\n",
       "       [-0.023, -0.04 , -0.032, -0.024,  0.984, -0.008, -0.   ,  0.008,\n",
       "         0.016,  0.024,  0.015],\n",
       "       [ 0.   ,  0.   ,  0.   ,  0.   ,  0.   ,  1.   ,  0.   ,  0.   ,\n",
       "         0.   ,  0.   ,  0.   ],\n",
       "       [ 0.015,  0.024,  0.016,  0.008, -0.   , -0.008,  0.984, -0.024,\n",
       "        -0.032, -0.04 , -0.023],\n",
       "       [ 0.021,  0.032,  0.016, -0.   , -0.016, -0.032, -0.048,  0.936,\n",
       "        -0.08 , -0.096, -0.053],\n",
       "       [ 0.02 ,  0.024, -0.   , -0.024, -0.048, -0.072, -0.096, -0.12 ,\n",
       "         0.856, -0.168, -0.092],\n",
       "       [ 0.011,  0.   , -0.032, -0.064, -0.096, -0.128, -0.16 , -0.192,\n",
       "        -0.224,  0.744, -0.139],\n",
       "       [-0.007, -0.04 , -0.08 , -0.12 , -0.16 , -0.2  , -0.24 , -0.28 ,\n",
       "        -0.32 , -0.36 ,  0.807]])"
      ]
     },
     "execution_count": 96,
     "metadata": {},
     "output_type": "execute_result"
    }
   ],
   "source": [
    "A = np.array(A, dtype='float')\n",
    "np.round(A, 3)"
   ]
  },
  {
   "cell_type": "code",
   "execution_count": 97,
   "metadata": {},
   "outputs": [
    {
     "data": {
      "text/plain": [
       "(11, 1)"
      ]
     },
     "execution_count": 97,
     "metadata": {},
     "output_type": "execute_result"
    }
   ],
   "source": [
    "ff = np.array(ff, dtype='float')\n",
    "ff.shape"
   ]
  },
  {
   "cell_type": "code",
   "execution_count": 98,
   "metadata": {},
   "outputs": [
    {
     "data": {
      "text/plain": [
       "0.10666666664927221"
      ]
     },
     "execution_count": 98,
     "metadata": {},
     "output_type": "execute_result"
    }
   ],
   "source": [
    "LA.det(A)"
   ]
  },
  {
   "cell_type": "code",
   "execution_count": 99,
   "metadata": {},
   "outputs": [
    {
     "data": {
      "text/plain": [
       "array([[7.25],\n",
       "       [5.  ],\n",
       "       [3.25],\n",
       "       [2.  ],\n",
       "       [1.25],\n",
       "       [1.  ],\n",
       "       [1.25],\n",
       "       [2.  ],\n",
       "       [3.25],\n",
       "       [5.  ],\n",
       "       [7.25]])"
      ]
     },
     "execution_count": 99,
     "metadata": {},
     "output_type": "execute_result"
    }
   ],
   "source": [
    "c = LA.solve(A, ff)\n",
    "c"
   ]
  },
  {
   "cell_type": "code",
   "execution_count": null,
   "metadata": {},
   "outputs": [],
   "source": [
    "c.shape"
   ]
  },
  {
   "cell_type": "code",
   "execution_count": null,
   "metadata": {},
   "outputs": [],
   "source": [
    "c.round(3)"
   ]
  },
  {
   "cell_type": "code",
   "execution_count": null,
   "metadata": {},
   "outputs": [],
   "source": [
    "np.dot(A, c)"
   ]
  },
  {
   "cell_type": "code",
   "execution_count": null,
   "metadata": {},
   "outputs": [],
   "source": [
    "y_f = \n",
    "for i in range(n):\n",
    "  y_f += c[i][0]*basicFunction(i, y)\n",
    "  \n",
    "y_f"
   ]
  },
  {
   "cell_type": "code",
   "execution_count": null,
   "metadata": {},
   "outputs": [],
   "source": [
    "6*x**2 + 1"
   ]
  }
 ],
 "metadata": {
  "kernelspec": {
   "display_name": "Python 3",
   "language": "python",
   "name": "python3"
  },
  "language_info": {
   "codemirror_mode": {
    "name": "ipython",
    "version": 3
   },
   "file_extension": ".py",
   "mimetype": "text/x-python",
   "name": "python",
   "nbconvert_exporter": "python",
   "pygments_lexer": "ipython3",
   "version": "3.8.2"
  }
 },
 "nbformat": 4,
 "nbformat_minor": 4
}
