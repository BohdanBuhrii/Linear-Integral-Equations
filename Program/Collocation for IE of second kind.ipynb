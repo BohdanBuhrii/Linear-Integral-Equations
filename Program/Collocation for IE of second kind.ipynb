{
 "cells": [
  {
   "cell_type": "code",
   "execution_count": 1,
   "metadata": {},
   "outputs": [],
   "source": [
    "import numpy as np\n",
    "import numpy.linalg as LA\n",
    "import sympy as sm"
   ]
  },
  {
   "cell_type": "markdown",
   "metadata": {},
   "source": [
    "## Метод колокації для інтегрального рівняння Фредгольма другого роду"
   ]
  },
  {
   "cell_type": "markdown",
   "metadata": {},
   "source": [
    "Маємо інтегральне рівняння вигляду"
   ]
  },
  {
   "cell_type": "markdown",
   "metadata": {},
   "source": [
    "$$\n",
    "\\varphi(x)-\\lambda \\int_{a}^{b} \\varphi(y) K(x, y) d y = f(x), \\quad x \\in[a, b]\n",
    "$$"
   ]
  },
  {
   "cell_type": "markdown",
   "metadata": {},
   "source": [
    "Наближений розв'язок будемо шукати у вигляді"
   ]
  },
  {
   "cell_type": "markdown",
   "metadata": {},
   "source": [
    "$$\n",
    "\\tilde{\\varphi}(x)=\\sum_{j=1}^{n} c_{j} \\gamma_{j}(x)\n",
    "$$"
   ]
  },
  {
   "cell_type": "markdown",
   "metadata": {},
   "source": [
    "де $c_j$ - невідомі константи, які потрібно знайти, а $\\gamma_j$ - задані лінійнонезалежні функції (в нашому випадку кусково аналітичні), $j = 1, ..., n$."
   ]
  },
  {
   "cell_type": "markdown",
   "metadata": {},
   "source": [
    "Тоді отримаємо такий вираз"
   ]
  },
  {
   "cell_type": "markdown",
   "metadata": {},
   "source": [
    "$$\n",
    "\\sum_{j=1}^{n} c_{j}\\left[\\gamma_{j}(x)-\\lambda \\int_{a}^{b} K(x, y) \\gamma_{j}(y) d y\\right]=f(x)\n",
    "$$"
   ]
  },
  {
   "cell_type": "markdown",
   "metadata": {},
   "source": [
    "Розглянувши його на множині точок $x_i$, таких, що\n",
    "$$\n",
    "a \\leqslant x_{1}<x_{2}<\\ldots<x_{m} \\leqslant b\n",
    "$$"
   ]
  },
  {
   "cell_type": "markdown",
   "metadata": {},
   "source": [
    "отримаємо СЛАР відносно невідомих $с_j$, $j = 1, ..., n$. "
   ]
  },
  {
   "cell_type": "code",
   "execution_count": 2,
   "metadata": {},
   "outputs": [],
   "source": [
    "x, y = sm.symbols('x y')"
   ]
  },
  {
   "cell_type": "code",
   "execution_count": 3,
   "metadata": {},
   "outputs": [],
   "source": [
    "a, b = -1, 1\n",
    "K = lambda x_, y_: x_*y_ + x_**2\n",
    "f = sm.S.One\n",
    "lambd = 1\n",
    "h = 0.1"
   ]
  },
  {
   "cell_type": "code",
   "execution_count": 4,
   "metadata": {},
   "outputs": [],
   "source": [
    "xx = np.arange(a, b + 0.000001, (b-a)*h)\n",
    "n = len(xx)\n",
    "A = np.zeros((n,n))"
   ]
  },
  {
   "cell_type": "code",
   "execution_count": 5,
   "metadata": {},
   "outputs": [
    {
     "data": {
      "text/plain": [
       "array([-1. , -0.8, -0.6, -0.4, -0.2, -0. ,  0.2,  0.4,  0.6,  0.8,  1. ])"
      ]
     },
     "execution_count": 5,
     "metadata": {},
     "output_type": "execute_result"
    }
   ],
   "source": [
    "xx.round(4)"
   ]
  },
  {
   "cell_type": "code",
   "execution_count": 6,
   "metadata": {},
   "outputs": [
    {
     "ename": "SyntaxError",
     "evalue": "invalid syntax (<ipython-input-6-db337b88dd20>, line 2)",
     "output_type": "error",
     "traceback": [
      "\u001b[1;36m  File \u001b[1;32m\"<ipython-input-6-db337b88dd20>\"\u001b[1;36m, line \u001b[1;32m2\u001b[0m\n\u001b[1;33m    for x_ in\u001b[0m\n\u001b[1;37m             ^\u001b[0m\n\u001b[1;31mSyntaxError\u001b[0m\u001b[1;31m:\u001b[0m invalid syntax\n"
     ]
    }
   ],
   "source": [
    "def basicFunction(j, x, xx=xx, h=h):\n",
    "  for x_ in\n",
    "  1 + (x - xx[j])/h"
   ]
  },
  {
   "cell_type": "code",
   "execution_count": null,
   "metadata": {},
   "outputs": [],
   "source": [
    "for i in range(n):\n",
    "  for j in range(n):\n",
    "    integral = sm.integrate(K(xx[i], y)*basicFunction(j, y), (y, a, b))\n",
    "    print(integral)\n",
    "    #print((basicFunction(j, x) - integral).evalf(5,subs={x: xx[i]}))\n",
    "    A[i,j] = (basicFunction(j, x) - integral).evalf(5,subs={x: xx[i]})\n",
    "\n",
    "A"
   ]
  },
  {
   "cell_type": "code",
   "execution_count": null,
   "metadata": {},
   "outputs": [],
   "source": [
    "ff = [[f.evalf(5, subs={x: xx[j]})] for j in range(n)]\n",
    "ff"
   ]
  },
  {
   "cell_type": "code",
   "execution_count": null,
   "metadata": {},
   "outputs": [],
   "source": [
    "A = np.array(A, dtype='float')\n",
    "A.shape"
   ]
  },
  {
   "cell_type": "code",
   "execution_count": null,
   "metadata": {},
   "outputs": [],
   "source": [
    "ff = np.array(ff, dtype='float')\n",
    "ff.shape"
   ]
  },
  {
   "cell_type": "code",
   "execution_count": null,
   "metadata": {},
   "outputs": [],
   "source": [
    "c = LA.solve(A, ff) "
   ]
  },
  {
   "cell_type": "code",
   "execution_count": null,
   "metadata": {},
   "outputs": [],
   "source": [
    "c.shape"
   ]
  },
  {
   "cell_type": "code",
   "execution_count": null,
   "metadata": {},
   "outputs": [],
   "source": [
    "y_f = \n",
    "for i in range(n):\n",
    "  y_f += c[i][0]*basicFunction(i, y)\n",
    "  \n",
    "y_f"
   ]
  },
  {
   "cell_type": "code",
   "execution_count": null,
   "metadata": {},
   "outputs": [],
   "source": [
    "6*x**2 + 1"
   ]
  }
 ],
 "metadata": {
  "kernelspec": {
   "display_name": "Python 3",
   "language": "python",
   "name": "python3"
  },
  "language_info": {
   "codemirror_mode": {
    "name": "ipython",
    "version": 3
   },
   "file_extension": ".py",
   "mimetype": "text/x-python",
   "name": "python",
   "nbconvert_exporter": "python",
   "pygments_lexer": "ipython3",
   "version": "3.8.2"
  }
 },
 "nbformat": 4,
 "nbformat_minor": 4
}
