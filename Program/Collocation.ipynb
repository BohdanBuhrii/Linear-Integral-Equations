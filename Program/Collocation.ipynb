{
 "cells": [
  {
   "cell_type": "code",
   "execution_count": 1,
   "metadata": {},
   "outputs": [],
   "source": [
    "import numpy as np\n",
    "import numpy.linalg as LA\n",
    "from scipy import integrate\n",
    "from itertools import product\n",
    "from matplotlib import cm\n",
    "import matplotlib.pyplot as plt\n",
    "%matplotlib notebook"
   ]
  },
  {
   "cell_type": "markdown",
   "metadata": {},
   "source": [
    "## Метод колокації"
   ]
  },
  {
   "cell_type": "markdown",
   "metadata": {},
   "source": [
    "Маємо інтегральне рівняння вигляду"
   ]
  },
  {
   "cell_type": "markdown",
   "metadata": {},
   "source": [
    "$$\n",
    "\\dots\n",
    "$$"
   ]
  },
  {
   "cell_type": "markdown",
   "metadata": {},
   "source": [
    "Наближений розв'язок будемо шукати у вигляді"
   ]
  },
  {
   "cell_type": "markdown",
   "metadata": {},
   "source": [
    " $$\n",
    " \\tilde{\\psi_k}(x)=\\sum_{j=1}^{n} c^{(k)}_{j} \\gamma^{(k)}_{j}(x), \\quad k = 1,2\n",
    " $$"
   ]
  },
  {
   "cell_type": "markdown",
   "metadata": {},
   "source": [
    "де $c_j$ - невідомі константи, які потрібно знайти, а $\\gamma_j$ - задані лінійнонезалежні функції (в нашому випадку кусково аналітичні), $j = 1, ..., n$."
   ]
  },
  {
   "cell_type": "markdown",
   "metadata": {},
   "source": [
    "Розглянувши його на множині точок $x_i$, таких, що\n",
    "$$\n",
    "a \\leqslant x_{1}<x_{2}<\\ldots<x_{m} \\leqslant b\n",
    "$$"
   ]
  },
  {
   "cell_type": "markdown",
   "metadata": {},
   "source": [
    "отримаємо СЛАР відносно невідомих $с^{(k)}_j$, $j = 1, ..., n$. "
   ]
  },
  {
   "cell_type": "markdown",
   "metadata": {},
   "source": [
    " $$\n",
    " A =\n",
    " \\begin{pmatrix}\n",
    "\t \\begin{matrix}\n",
    "\t \tG^{(1)}_{11} & \\dots  & G^{(1)}_{1n} \\\\\n",
    "\t \t\\vdots \t\t & \\ddots & \\\\\n",
    "\t \tG^{(1)}_{n1} & \t\t  & G^{(1)}_{nn} \\\\\n",
    "\t \\end{matrix} &\n",
    "\t \\begin{matrix}\n",
    "\t \tG^{(2)}_{11} & \\dots  & G^{(2)}_{1n} \\\\\n",
    "\t \t\\vdots \t\t & \\ddots & \\\\\n",
    "\t \tG^{(2)}_{n1} & \t\t  & G^{(2)}_{nn} \\\\\n",
    "\t \\end{matrix} \\\\\n",
    "\t \\begin{matrix}\n",
    "\t\tG^{(3)}_{11} & \\dots  & G^{(3)}_{1n} \\\\\n",
    "\t\t\\vdots \t\t & \\ddots & \\\\\n",
    "\t\tG^{(3)}_{n1} & \t\t  & G^{(3)}_{nn} \\\\\n",
    "\t \\end{matrix} &\n",
    "\t \\begin{matrix}\n",
    "\t\tG^{(4)}_{11} & \\dots  & G^{(4)}_{1n} \\\\\n",
    "\t\t\\vdots \t\t & \\ddots & \\\\\n",
    "\t\tG^{(4)}_{n1} & \t\t  & G^{(4)}_{nn} \\\\\n",
    "\t \\end{matrix} \\\\\n",
    " \\end{pmatrix}\n",
    " c = \n",
    " \\begin{pmatrix}\n",
    "\tc^{(1)}_1\\\\\n",
    "\t\\vdots\\\\\n",
    "\tc^{(1)}_n\\\\\n",
    "\tc^{(2)}_1\\\\\n",
    "\t\\vdots\\\\\n",
    "\tc^{(2)}_n\\\\\n",
    " \\end{pmatrix}\n",
    " g = \n",
    " \\begin{pmatrix}\n",
    "\t2\\pi g_1(x_1)\\\\\n",
    "\t\\vdots\\\\\n",
    "\t2\\pi g_1(x_n)\\\\\n",
    "\t2\\pi g_2(x_1)\\\\\n",
    "\t\\vdots\\\\\n",
    "\t2\\pi g_2(x_n)\\\\\n",
    " \\end{pmatrix}\n",
    " $$"
   ]
  },
  {
   "cell_type": "markdown",
   "metadata": {},
   "source": [
    "For the full discretization of the integral equation of the first kind $(3.5),$ which has a logarithmic singularity, we apply a quadrature method together with the quadrature rule [13,14] based on trigonometric interpolation. For this purpose, we choose an equidistant mesh by setting $t_{i}:=i \\pi / M, i=0, \\ldots, 2 M-1, M \\in \\mathbb{N}$ and use the quadrature rules\n",
    " $$\n",
    " \\begin{array}{c}\n",
    " \t\\frac{1}{2 \\pi} \\int_{0}^{2 \\pi} f(\\tau) d \\tau \\approx \\frac{1}{2 M} \\sum_{j=0}^{2 M-1} f\\left(t_{j}\\right) \\\\\n",
    " \t \\int_{0}^{2 \\pi} f(\\tau) \\ln \\left(\\frac{4}{e} \\sin ^{2} \\frac{t-\\tau}{2}\\right) d \\tau \\approx {2 \\pi}\\sum_{j=0}^{2 M-1} R_{j}(t) f\\left(t_{j}\\right)\n",
    " \\end{array}\n",
    " $$\n",
    " with known weight functions $R_{j}$ (see [13]).\n",
    " \n",
    " $$\n",
    " R_{j}(t)=-\\frac{1}{n} \\sum_{m=1}^{n-1} \\frac{1}{m} \\cos m\\left(t-t_{j}\\right)+\\frac{1}{2 n} \\cos n\\left(t-t_{j}\\right)\n",
    " $$\n",
    " "
   ]
  },
  {
   "cell_type": "code",
   "execution_count": 2,
   "metadata": {},
   "outputs": [
    {
     "data": {
      "text/plain": [
       "[0.0,\n",
       " 0.2617993877991494,\n",
       " 0.5235987755982988,\n",
       " 0.7853981633974483,\n",
       " 1.0471975511965976,\n",
       " 1.308996938995747,\n",
       " 1.5707963267948966,\n",
       " 1.832595714594046,\n",
       " 2.0943951023931953,\n",
       " 2.356194490192345,\n",
       " 2.617993877991494,\n",
       " 2.8797932657906435,\n",
       " 3.141592653589793,\n",
       " 3.4033920413889422,\n",
       " 3.665191429188092,\n",
       " 3.926990816987241,\n",
       " 4.1887902047863905,\n",
       " 4.45058959258554,\n",
       " 4.71238898038469,\n",
       " 4.974188368183839,\n",
       " 5.235987755982988,\n",
       " 5.497787143782138,\n",
       " 5.759586531581287,\n",
       " 6.021385919380436]"
      ]
     },
     "execution_count": 2,
     "metadata": {},
     "output_type": "execute_result"
    }
   ],
   "source": [
    "a, b = 0, 2*np.pi\n",
    "\n",
    "r1 = 0.9\n",
    "r2 = 2\n",
    "n = 24\n",
    "eps = 1e-10\n",
    "h = (b - a) / (n)\n",
    "xx = [ h * i for i in range(n)]\n",
    "xx"
   ]
  },
  {
   "cell_type": "code",
   "execution_count": 3,
   "metadata": {},
   "outputs": [],
   "source": [
    "x1 = lambda t: (r1*np.cos(t), r1*np.sin(t))\n",
    "x2 = lambda t: (r2*np.cos(t), r2*np.sin(t))\n",
    "dx1 = lambda t: (-r1*np.sin(t), r1*np.cos(t))\n",
    "dx2 = lambda t: (-r2*np.sin(t), r2*np.cos(t))\n",
    "ddx2 = lambda t: (-r2*np.cos(t), -r2*np.sin(t))\n",
    "\n",
    "sign = 1"
   ]
  },
  {
   "cell_type": "markdown",
   "metadata": {},
   "source": [
    "$$\n",
    "K_{1}(t, \\tau)=\\frac{\\left(\\bar{x}_{1}(\\tau)-\\bar{x}_{2}(t), \\bar{\\nu}\\left(x_{2}(t)\\right)\\right)}{\\left|x_{2}(t)-x_{1}(\\tau)\\right|^{2}}\n",
    "$$\n",
    "$$\n",
    "K_{2}(t, \\tau)=\\left\\{\\begin{array}{l}\n",
    "\\frac{\\left(\\bar{x}_{2}(\\tau)-\\bar{x}_{2}(t), \\bar{\\nu}\\left(x_{2}(t)\\right)\\right)}{\\left|x_{2}(t)-x_{2}(\\tau)\\right|^{2}}, \\quad \\text { Якщо } t \\neq \\tau \\\\\n",
    "\\frac{\\left(\\bar{x}_{2}^{\\prime \\prime}(t), \\bar{\\nu}\\left(x_{2}(t)\\right)\\right)}{2\\left|x_{2}^{\\prime}(t)\\right|^{2}}, \\quad \\text { якщо } t=\\tau\n",
    "\\end{array}\\right.\n",
    "$$\n"
   ]
  },
  {
   "cell_type": "code",
   "execution_count": 4,
   "metadata": {},
   "outputs": [],
   "source": [
    "def nu_x2(t):\n",
    "    return np.array([dx2(t)[1], -dx2(t)[0]]) / LA.norm(dx2(t))\n",
    "\n",
    "def K11_1(t, tau):\n",
    "    return -1/2\n",
    "\n",
    "def K11_2(t, tau):\n",
    "    if np.abs(t - tau) > eps:\n",
    "        return 1/2*np.log( 4/np.e * np.sin((t - tau)/2)**2 \\\n",
    "                 / LA.norm(np.subtract(x1(t), x1(tau)))**2)\n",
    "    else:\n",
    "        return 1/2*np.log(1/(np.e * LA.norm(dx1(t))**2))\n",
    "\n",
    "def K12(t, tau):\n",
    "    return np.log(1/(LA.norm(np.subtract(x1(t), x2(tau)))))\n",
    "\n",
    "def K21(t, tau):\n",
    "    return np.dot(np.subtract(x1(tau), x2(t)), nu_x2(t)) \\\n",
    "            / LA.norm(np.subtract(x2(t), x1(tau)))**2\n",
    "\n",
    "def K22(t, tau):\n",
    "    if np.abs(t - tau) > eps:\n",
    "        return np.dot(np.subtract(x2(tau), x2(t)), nu_x2(t)) \\\n",
    "                / LA.norm(np.subtract(x2(t), x2(tau)))**2\n",
    "    else:\n",
    "        global sign\n",
    "        #sign = 1 if t - tau >=0 else -1\n",
    "        #print('sign =', sign, t, tau)\n",
    "        return np.dot(ddx2(t), nu_x2(t)) / ((2*LA.norm(dx2(t)))**2)\n"
   ]
  },
  {
   "cell_type": "code",
   "execution_count": 5,
   "metadata": {},
   "outputs": [],
   "source": [
    "def basicFunction(j, x, xx=xx, h=h):\n",
    "    xx = xx.copy()\n",
    "    n = len(xx) - 1\n",
    "    \n",
    "    if j >=1 and xx[j-1] <= x <= xx[j]:\n",
    "        return (x - xx[j-1])/h\n",
    "    elif j <= n-1 and xx[j] <= x <= xx[j+1]:\n",
    "        return (xx[j+1] - x)/h\n",
    "    else:\n",
    "        return 0"
   ]
  },
  {
   "cell_type": "code",
   "execution_count": 6,
   "metadata": {},
   "outputs": [],
   "source": [
    "def quadrature_with_ln_special_case(f, M=n):\n",
    "    '''integral from 0 to 2pi'''\n",
    "\n",
    "    tt = [i*np.pi/M for i in range(2*M)]\n",
    "\n",
    "    R = lambda i, t: -1/(2*M) * (1\n",
    "                                 + 2*sum([(1/m) * np.cos(m * (t - tt[i])) for m in range(1, M)])\n",
    "                                 + 1/(M) * np.cos(t - tt[i]))\n",
    "  \n",
    "    def integral(t):\n",
    "        return sum([R(j,t)*f(tt[j]) for j in range(2*M)])\n",
    "  \n",
    "    return integral"
   ]
  },
  {
   "cell_type": "code",
   "execution_count": 14,
   "metadata": {},
   "outputs": [],
   "source": [
    "def Collocation(t):\n",
    "    t = t.copy()\n",
    "    n = len(t)\n",
    "    \n",
    "    def collocate(K, term=lambda j, t: 0):\n",
    "        A = np.zeros([n, n])\n",
    "\n",
    "        for i in range(n):\n",
    "            for j in range(n):\n",
    "                Kti_li = lambda tau: K(t[i], tau) * basicFunction(j, tau)\n",
    "                \n",
    "                if (j == 0):\n",
    "                    (quad, err) = integrate.quad(Kti_li, t[j], t[j + 1])\n",
    "                elif (j == n - 1):\n",
    "                    (quad, err) = integrate.quad(Kti_li, t[j - 1], t[j])\n",
    "                else:\n",
    "                    (quad, err) = integrate.quad(Kti_li, t[j - 1], t[j + 1])\n",
    "                \n",
    "                #A[i][j] = quad\n",
    "                #print(sign)\n",
    "            A[i][j] = quad + sign*term(i, t[i])\n",
    "                \n",
    "            #A[i][j] += sign*term(i, t[i])\n",
    "            \n",
    "        return A\n",
    "    \n",
    "    return collocate"
   ]
  },
  {
   "cell_type": "code",
   "execution_count": 15,
   "metadata": {},
   "outputs": [],
   "source": [
    "def collocate_G1(xx):\n",
    "    xx = xx.copy()\n",
    "    n = len(xx)\n",
    "\n",
    "    G1 = np.zeros((n,n)).tolist()\n",
    "    for i in range(n):\n",
    "        for j in range(n):\n",
    "\n",
    "            Kxi_li = lambda s: K11_2(xx[i], s) * basicFunction(j, s)\n",
    "\n",
    "            K_1 = 2 * np.pi * quadrature_with_ln_special_case(lambda s: K11_1(xx[i], s)*basicFunction(j, s))(xx[i])\n",
    "\n",
    "            if (j == 0):\n",
    "                (K_2, err) = integrate.quad(Kxi_li, xx[j], xx[j + 1])\n",
    "            elif (j == n - 1):\n",
    "                (K_2, err) = integrate.quad(Kxi_li, xx[j - 1], xx[j])\n",
    "            else:\n",
    "                (K_2, err) = integrate.quad(Kxi_li, xx[j - 1], xx[j + 1])\n",
    "\n",
    "            G1[i][j] = K_1 + K_2\n",
    "\n",
    "    return G1"
   ]
  },
  {
   "cell_type": "code",
   "execution_count": 16,
   "metadata": {},
   "outputs": [],
   "source": [
    "# h = (b - a) / (n-1)\n",
    "# xx = [ h * i for i in range(n)]\n",
    "# del xx[-1]\n",
    "# n = len(xx)"
   ]
  },
  {
   "cell_type": "code",
   "execution_count": 17,
   "metadata": {},
   "outputs": [],
   "source": [
    "def solve(xx, g1, g2, jump_g3, jump_g4, notify=False):\n",
    "    collocate = Collocation(xx)\n",
    "  \n",
    "    if notify:\n",
    "      print('Computing G1 ...')\n",
    "    G1 = collocate_G1(xx)\n",
    "    \n",
    "    if notify:\n",
    "      print('Computing G2 ...')\n",
    "    G2 = collocate(K12)\n",
    "    \n",
    "    if notify:\n",
    "      print('Computing G3 ...')\n",
    "    G3 = collocate(K21, term=jump_g3)\n",
    "    #print(G3)\n",
    "    \n",
    "    if notify:\n",
    "      print('Computing G4 ...')\n",
    "    G4 = collocate(K22, term=jump_g4)\n",
    "    #print(G4)\n",
    "    \n",
    "    A = np.concatenate((np.concatenate((G1, G2), axis=1),\n",
    "                        np.concatenate((G3, G4), axis=1)), axis=0)\n",
    "    \n",
    "    g = np.concatenate(([[g1(xx[j])] for j in range(n)],\n",
    "                        [[g2(xx[j])] for j in range(n)]))\n",
    "    \n",
    "    if notify:\n",
    "      print('Solving system ...')\n",
    "    c = LA.solve(A, 2*np.pi*g)\n",
    "    \n",
    "    \n",
    "    def psi1_approx(t, c=c):\n",
    "        return sum(c[i][0]*basicFunction(i, t) for i in range(n))\n",
    "\n",
    "    def psi2_approx(t, c=c):\n",
    "        return sum(c[n + i][0]*basicFunction(i, t) for i in range(n))\n",
    "    \n",
    "    K1 = lambda x, tau: np.log(1/LA.norm(np.subtract(x, x1(tau))))\n",
    "    K2 = lambda x, tau: np.log(1/LA.norm(np.subtract(x, x2(tau))))\n",
    "\n",
    "    def u_approx(x, n=n, a=a, b=b):\n",
    "        mesh = np.linspace(a, b, n)\n",
    "\n",
    "        under_int_f1 = lambda tau: psi1_approx(tau)*K1(x, tau)\n",
    "        under_int_f2 = lambda tau: psi2_approx(tau)*K2(x, tau)\n",
    "\n",
    "        return 1/(2*np.pi)*(\n",
    "                integrate.trapz([under_int_f1(m) for m in mesh], x=mesh)\n",
    "              + integrate.trapz([under_int_f2(m) for m in mesh], x=mesh)\n",
    "        )\n",
    "    \n",
    "    if notify:\n",
    "      print('Done: solution found.')\n",
    "    \n",
    "    return u_approx"
   ]
  },
  {
   "cell_type": "code",
   "execution_count": 18,
   "metadata": {},
   "outputs": [],
   "source": [
    "def show(show3D=False):\n",
    "    xxx = np.linspace(0, 2*np.pi, 100)\n",
    "    yyy = np.linspace(0, 2*np.pi, 100)\n",
    "\n",
    "    xxxx=np.linspace(-r2, r2, 100)\n",
    "    zzzz=np.linspace(0, r2, 100)\n",
    "    Xc, Zc=np.meshgrid(xxxx, zzzz)\n",
    "    Yc = np.sqrt(1-Xc**2)\n",
    "\n",
    "    a_ = -r2\n",
    "    b_ = r2\n",
    "    n_ = 20\n",
    "\n",
    "    x = np.linspace(a_, b_, n_)\n",
    "    y = np.linspace(a_, b_, n_)\n",
    "    xx_, yy_ = np.meshgrid(x, y)\n",
    "\n",
    "    u_approx([0, 0])\n",
    "\n",
    "    zz_ = np.zeros([n_, n_])\n",
    "\n",
    "    for i, x_ in enumerate(x):\n",
    "        for j, y_ in enumerate(y):\n",
    "            zz_[i][j] = u_approx([x[i], y[j]])\n",
    "            #zz_[i][j] = u(x[i], y[j])\n",
    "\n",
    "    fig_contour,ax=plt.subplots(1,1)\n",
    "\n",
    "    ax.plot(x1(xxx)[0], x1(xxx)[1])\n",
    "    ax.plot(x2(xxx)[0], x2(xxx)[1])\n",
    "\n",
    "\n",
    "    cp = ax.contourf(xx_, yy_, zz_)\n",
    "    fig_contour.colorbar(cp) # Add a colorbar to a plot\n",
    "    plt.show()\n",
    "    \n",
    "    if(show3D):\n",
    "        fig = plt.figure(figsize=(5, 5))\n",
    "        ax = fig.gca(projection='3d')\n",
    "\n",
    "        # surf = ax.plot_wireframe(xx, yy, zz, rstride=1, cstride=1)\n",
    "\n",
    "        #fig.colorbar(surf, shrink=0.5, aspect=10)\n",
    "        surf = ax.plot_surface(xx_, yy_, zz_, rstride=1, cstride=1, linewidth=1, antialiased=False, cmap=cm.cividis)\n",
    "\n",
    "\n",
    "        rstride = 10\n",
    "        cstride = 10\n",
    "        # ax.plot_surface(Xc, Yc, Zc, alpha=0.8, rstride=rstride, cstride=cstride)\n",
    "        # ax.plot_surface(Xc, -Yc, Zc, alpha=0.8, rstride=rstride, cstride=cstride)\n",
    "\n",
    "        ax.set_xlabel(\"X\")\n",
    "        ax.set_ylabel(\"Y\")\n",
    "        ax.set_zlabel(\"Z\")\n",
    "\n",
    "        plt.show()\n",
    "    "
   ]
  },
  {
   "cell_type": "code",
   "execution_count": 19,
   "metadata": {},
   "outputs": [],
   "source": [
    "g1 = lambda t: 1\n",
    "g2 = lambda t: 0\n",
    "\n",
    "u = lambda x, y : 1"
   ]
  },
  {
   "cell_type": "code",
   "execution_count": null,
   "metadata": {},
   "outputs": [],
   "source": [
    "def g1(t):\n",
    "    x, y = x1(t)\n",
    "    return x\n",
    "\n",
    "def g2(t):\n",
    "    x, y = x2(t)\n",
    "    v = np.array([dx2(t)[1], -dx2(t)[0]]) / LA.norm(dx2(t))\n",
    "    grad = np.array([1, 0])\n",
    "    return np.dot(grad, v)\n",
    "\n",
    "\n",
    "u = lambda x, y : x"
   ]
  },
  {
   "cell_type": "code",
   "execution_count": null,
   "metadata": {},
   "outputs": [],
   "source": [
    "def g1(t):\n",
    "    x, y = x1(t)\n",
    "    return x**2\n",
    "\n",
    "def g2(t):\n",
    "    x, y = x2(t)\n",
    "    v = np.array([dx2(t)[1], -dx2(t)[0]]) / LA.norm(dx2(t))\n",
    "    grad = np.array([2*x, 0])\n",
    "    return np.dot(grad, v) \n",
    "\n",
    "\n",
    "u = lambda x, y : x**2"
   ]
  },
  {
   "cell_type": "code",
   "execution_count": null,
   "metadata": {},
   "outputs": [],
   "source": [
    "def g1(t):\n",
    "    x, y = x1(t)\n",
    "    return x**2 - y**2\n",
    "\n",
    "def g2(t):\n",
    "    x, y = x2(t)\n",
    "    v = np.array([dx2(t)[1], -dx2(t)[0]]) / LA.norm(dx2(t))\n",
    "    grad = np.array([2*x, 2*y])\n",
    "    return np.dot(grad, v)\n",
    "\n",
    "\n",
    "u = lambda x, y : x**2 - y**2"
   ]
  },
  {
   "cell_type": "code",
   "execution_count": 21,
   "metadata": {},
   "outputs": [
    {
     "name": "stdout",
     "output_type": "stream",
     "text": [
      "Computing G1 ...\n",
      "Computing G2 ...\n",
      "Computing G3 ...\n",
      "Computing G4 ...\n",
      "Solving system ...\n"
     ]
    },
    {
     "ename": "LinAlgError",
     "evalue": "Singular matrix",
     "output_type": "error",
     "traceback": [
      "\u001b[1;31m---------------------------------------------------------------------------\u001b[0m",
      "\u001b[1;31mLinAlgError\u001b[0m                               Traceback (most recent call last)",
      "\u001b[1;32m<ipython-input-21-c7621df3f667>\u001b[0m in \u001b[0;36m<module>\u001b[1;34m\u001b[0m\n\u001b[0;32m      6\u001b[0m \u001b[1;33m\u001b[0m\u001b[0m\n\u001b[0;32m      7\u001b[0m \u001b[1;33m\u001b[0m\u001b[0m\n\u001b[1;32m----> 8\u001b[1;33m \u001b[0mu_approx\u001b[0m \u001b[1;33m=\u001b[0m \u001b[0msolve\u001b[0m\u001b[1;33m(\u001b[0m\u001b[0mxx\u001b[0m\u001b[1;33m,\u001b[0m \u001b[0mg1\u001b[0m\u001b[1;33m,\u001b[0m \u001b[0mg2\u001b[0m\u001b[1;33m,\u001b[0m \u001b[0mjump_g3\u001b[0m\u001b[1;33m,\u001b[0m \u001b[0mjump_g4\u001b[0m\u001b[1;33m,\u001b[0m \u001b[0mnotify\u001b[0m\u001b[1;33m=\u001b[0m\u001b[1;32mTrue\u001b[0m\u001b[1;33m)\u001b[0m\u001b[1;33m\u001b[0m\u001b[1;33m\u001b[0m\u001b[0m\n\u001b[0m",
      "\u001b[1;32m<ipython-input-17-6eb4863a7a64>\u001b[0m in \u001b[0;36msolve\u001b[1;34m(xx, g1, g2, jump_g3, jump_g4, notify)\u001b[0m\n\u001b[0;32m     28\u001b[0m     \u001b[1;32mif\u001b[0m \u001b[0mnotify\u001b[0m\u001b[1;33m:\u001b[0m\u001b[1;33m\u001b[0m\u001b[1;33m\u001b[0m\u001b[0m\n\u001b[0;32m     29\u001b[0m       \u001b[0mprint\u001b[0m\u001b[1;33m(\u001b[0m\u001b[1;34m'Solving system ...'\u001b[0m\u001b[1;33m)\u001b[0m\u001b[1;33m\u001b[0m\u001b[1;33m\u001b[0m\u001b[0m\n\u001b[1;32m---> 30\u001b[1;33m     \u001b[0mc\u001b[0m \u001b[1;33m=\u001b[0m \u001b[0mLA\u001b[0m\u001b[1;33m.\u001b[0m\u001b[0msolve\u001b[0m\u001b[1;33m(\u001b[0m\u001b[0mA\u001b[0m\u001b[1;33m,\u001b[0m \u001b[1;36m2\u001b[0m\u001b[1;33m*\u001b[0m\u001b[0mnp\u001b[0m\u001b[1;33m.\u001b[0m\u001b[0mpi\u001b[0m\u001b[1;33m*\u001b[0m\u001b[0mg\u001b[0m\u001b[1;33m)\u001b[0m\u001b[1;33m\u001b[0m\u001b[1;33m\u001b[0m\u001b[0m\n\u001b[0m\u001b[0;32m     31\u001b[0m \u001b[1;33m\u001b[0m\u001b[0m\n\u001b[0;32m     32\u001b[0m \u001b[1;33m\u001b[0m\u001b[0m\n",
      "\u001b[1;32m<__array_function__ internals>\u001b[0m in \u001b[0;36msolve\u001b[1;34m(*args, **kwargs)\u001b[0m\n",
      "\u001b[1;32mc:\\users\\bobuh\\appdata\\local\\programs\\python\\python38\\lib\\site-packages\\numpy\\linalg\\linalg.py\u001b[0m in \u001b[0;36msolve\u001b[1;34m(a, b)\u001b[0m\n\u001b[0;32m    397\u001b[0m     \u001b[0msignature\u001b[0m \u001b[1;33m=\u001b[0m \u001b[1;34m'DD->D'\u001b[0m \u001b[1;32mif\u001b[0m \u001b[0misComplexType\u001b[0m\u001b[1;33m(\u001b[0m\u001b[0mt\u001b[0m\u001b[1;33m)\u001b[0m \u001b[1;32melse\u001b[0m \u001b[1;34m'dd->d'\u001b[0m\u001b[1;33m\u001b[0m\u001b[1;33m\u001b[0m\u001b[0m\n\u001b[0;32m    398\u001b[0m     \u001b[0mextobj\u001b[0m \u001b[1;33m=\u001b[0m \u001b[0mget_linalg_error_extobj\u001b[0m\u001b[1;33m(\u001b[0m\u001b[0m_raise_linalgerror_singular\u001b[0m\u001b[1;33m)\u001b[0m\u001b[1;33m\u001b[0m\u001b[1;33m\u001b[0m\u001b[0m\n\u001b[1;32m--> 399\u001b[1;33m     \u001b[0mr\u001b[0m \u001b[1;33m=\u001b[0m \u001b[0mgufunc\u001b[0m\u001b[1;33m(\u001b[0m\u001b[0ma\u001b[0m\u001b[1;33m,\u001b[0m \u001b[0mb\u001b[0m\u001b[1;33m,\u001b[0m \u001b[0msignature\u001b[0m\u001b[1;33m=\u001b[0m\u001b[0msignature\u001b[0m\u001b[1;33m,\u001b[0m \u001b[0mextobj\u001b[0m\u001b[1;33m=\u001b[0m\u001b[0mextobj\u001b[0m\u001b[1;33m)\u001b[0m\u001b[1;33m\u001b[0m\u001b[1;33m\u001b[0m\u001b[0m\n\u001b[0m\u001b[0;32m    400\u001b[0m \u001b[1;33m\u001b[0m\u001b[0m\n\u001b[0;32m    401\u001b[0m     \u001b[1;32mreturn\u001b[0m \u001b[0mwrap\u001b[0m\u001b[1;33m(\u001b[0m\u001b[0mr\u001b[0m\u001b[1;33m.\u001b[0m\u001b[0mastype\u001b[0m\u001b[1;33m(\u001b[0m\u001b[0mresult_t\u001b[0m\u001b[1;33m,\u001b[0m \u001b[0mcopy\u001b[0m\u001b[1;33m=\u001b[0m\u001b[1;32mFalse\u001b[0m\u001b[1;33m)\u001b[0m\u001b[1;33m)\u001b[0m\u001b[1;33m\u001b[0m\u001b[1;33m\u001b[0m\u001b[0m\n",
      "\u001b[1;32mc:\\users\\bobuh\\appdata\\local\\programs\\python\\python38\\lib\\site-packages\\numpy\\linalg\\linalg.py\u001b[0m in \u001b[0;36m_raise_linalgerror_singular\u001b[1;34m(err, flag)\u001b[0m\n\u001b[0;32m     95\u001b[0m \u001b[1;33m\u001b[0m\u001b[0m\n\u001b[0;32m     96\u001b[0m \u001b[1;32mdef\u001b[0m \u001b[0m_raise_linalgerror_singular\u001b[0m\u001b[1;33m(\u001b[0m\u001b[0merr\u001b[0m\u001b[1;33m,\u001b[0m \u001b[0mflag\u001b[0m\u001b[1;33m)\u001b[0m\u001b[1;33m:\u001b[0m\u001b[1;33m\u001b[0m\u001b[1;33m\u001b[0m\u001b[0m\n\u001b[1;32m---> 97\u001b[1;33m     \u001b[1;32mraise\u001b[0m \u001b[0mLinAlgError\u001b[0m\u001b[1;33m(\u001b[0m\u001b[1;34m\"Singular matrix\"\u001b[0m\u001b[1;33m)\u001b[0m\u001b[1;33m\u001b[0m\u001b[1;33m\u001b[0m\u001b[0m\n\u001b[0m\u001b[0;32m     98\u001b[0m \u001b[1;33m\u001b[0m\u001b[0m\n\u001b[0;32m     99\u001b[0m \u001b[1;32mdef\u001b[0m \u001b[0m_raise_linalgerror_nonposdef\u001b[0m\u001b[1;33m(\u001b[0m\u001b[0merr\u001b[0m\u001b[1;33m,\u001b[0m \u001b[0mflag\u001b[0m\u001b[1;33m)\u001b[0m\u001b[1;33m:\u001b[0m\u001b[1;33m\u001b[0m\u001b[1;33m\u001b[0m\u001b[0m\n",
      "\u001b[1;31mLinAlgError\u001b[0m: Singular matrix"
     ]
    }
   ],
   "source": [
    "#jump_g3 = lambda j, x: -np.pi * basicFunction(j, x) / LA.norm(dx1(x))\n",
    "#jump_g4 = lambda j, x: np.pi * basicFunction(j, x) / LA.norm(dx2(x))\n",
    "\n",
    "jump_g3 = lambda j, x: 0#-np.pi / LA.norm(dx1(x))\n",
    "jump_g4 = lambda j, x: np.pi * basicFunction(j, x) / LA.norm(dx2(x))\n",
    "\n",
    "\n",
    "u_approx = solve(xx, g1, g2, jump_g3, jump_g4, notify=True)"
   ]
  },
  {
   "cell_type": "code",
   "execution_count": null,
   "metadata": {},
   "outputs": [],
   "source": [
    "show(show3D=True)"
   ]
  },
  {
   "cell_type": "code",
   "execution_count": null,
   "metadata": {},
   "outputs": [],
   "source": [
    "# saddle, term with i\n",
    "#    very good                      with spikes\n",
    "# (0, 1)(1, 1)(-1, 1)         (0, -1)(1, -1)(-1, -1)\n",
    "\n",
    "# saddle, term with j\n",
    "# smt looks like true\n",
    "# (-1, 1)\n",
    "\n",
    "# slope, term with i\n",
    "#    very good                      with spikes\n",
    "# \n",
    "\n",
    "# slope, term with j\n",
    "#   very good                shit with logic\n",
    "# (0, 1)(-1, 1)   (1, 1)  (0, -1)(-1, -1)\n"
   ]
  },
  {
   "cell_type": "code",
   "execution_count": null,
   "metadata": {},
   "outputs": [],
   "source": [
    "assert(False)"
   ]
  },
  {
   "cell_type": "code",
   "execution_count": null,
   "metadata": {
    "scrolled": false
   },
   "outputs": [],
   "source": [
    "for i in list(product([0, 1, -1], repeat=2)):\n",
    "  print(i)\n",
    "  \n",
    "  jump_g3 = lambda j, x: i[0]*np.pi * basicFunction(j, x) / LA.norm(dx1(x))\n",
    "  jump_g4 = lambda j, x: i[1]*np.pi * basicFunction(j, x) / LA.norm(dx2(x))\n",
    "  \n",
    "  u_approx = solve(xx, g1, g2, jump_g3, jump_g4, notify=True)\n",
    "  show()"
   ]
  },
  {
   "cell_type": "code",
   "execution_count": null,
   "metadata": {},
   "outputs": [],
   "source": [
    "p=r1 + (r2-r1)/2\n",
    "print(u(p,p), u_approx([p,p]))\n"
   ]
  },
  {
   "cell_type": "code",
   "execution_count": null,
   "metadata": {},
   "outputs": [],
   "source": [
    "assert(False)"
   ]
  },
  {
   "cell_type": "code",
   "execution_count": null,
   "metadata": {
    "scrolled": false
   },
   "outputs": [],
   "source": [
    "[print(np.round(G1[i], 8)) for i in range(n)]"
   ]
  },
  {
   "cell_type": "code",
   "execution_count": null,
   "metadata": {
    "scrolled": false
   },
   "outputs": [],
   "source": [
    "[print(np.round(G2[i], 8)) for i in range(n)]"
   ]
  },
  {
   "cell_type": "code",
   "execution_count": null,
   "metadata": {},
   "outputs": [],
   "source": [
    "[print(np.round(G3[i], 8)) for i in range(n)]"
   ]
  },
  {
   "cell_type": "code",
   "execution_count": null,
   "metadata": {
    "scrolled": false
   },
   "outputs": [],
   "source": [
    "[print(np.round(G4[i], 15)) for i in range(n)]"
   ]
  },
  {
   "cell_type": "code",
   "execution_count": null,
   "metadata": {},
   "outputs": [],
   "source": []
  }
 ],
 "metadata": {
  "kernelspec": {
   "display_name": "Python 3",
   "language": "python",
   "name": "python3"
  },
  "language_info": {
   "codemirror_mode": {
    "name": "ipython",
    "version": 3
   },
   "file_extension": ".py",
   "mimetype": "text/x-python",
   "name": "python",
   "nbconvert_exporter": "python",
   "pygments_lexer": "ipython3",
   "version": "3.8.2"
  }
 },
 "nbformat": 4,
 "nbformat_minor": 4
}
