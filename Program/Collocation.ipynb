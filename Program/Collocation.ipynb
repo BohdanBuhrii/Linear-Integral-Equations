{
 "cells": [
  {
   "cell_type": "code",
   "execution_count": 1,
   "metadata": {},
   "outputs": [],
   "source": [
    "import numpy as np\n",
    "import numpy.linalg as LA\n",
    "from scipy import integrate\n",
    "import matplotlib.pyplot as plt"
   ]
  },
  {
   "cell_type": "markdown",
   "metadata": {},
   "source": [
    "## Метод колокації"
   ]
  },
  {
   "cell_type": "markdown",
   "metadata": {},
   "source": [
    "Маємо інтегральне рівняння вигляду"
   ]
  },
  {
   "cell_type": "markdown",
   "metadata": {},
   "source": [
    "$$\n",
    "\\dots\n",
    "$$"
   ]
  },
  {
   "cell_type": "markdown",
   "metadata": {},
   "source": [
    "Наближений розв'язок будемо шукати у вигляді"
   ]
  },
  {
   "cell_type": "markdown",
   "metadata": {},
   "source": [
    " $$\n",
    " \\tilde{\\psi_k}(x)=\\sum_{j=1}^{n} c^{(k)}_{j} \\gamma^{(k)}_{j}(x), \\quad k = 1,2\n",
    " $$"
   ]
  },
  {
   "cell_type": "markdown",
   "metadata": {},
   "source": [
    "де $c_j$ - невідомі константи, які потрібно знайти, а $\\gamma_j$ - задані лінійнонезалежні функції (в нашому випадку кусково аналітичні), $j = 1, ..., n$."
   ]
  },
  {
   "cell_type": "markdown",
   "metadata": {},
   "source": [
    "Розглянувши його на множині точок $x_i$, таких, що\n",
    "$$\n",
    "a \\leqslant x_{1}<x_{2}<\\ldots<x_{m} \\leqslant b\n",
    "$$"
   ]
  },
  {
   "cell_type": "markdown",
   "metadata": {},
   "source": [
    "отримаємо СЛАР відносно невідомих $с^{(k)}_j$, $j = 1, ..., n$. "
   ]
  },
  {
   "cell_type": "markdown",
   "metadata": {},
   "source": [
    " $$\n",
    " A =\n",
    " \\begin{pmatrix}\n",
    "\t \\begin{matrix}\n",
    "\t \tG^{(1)}_{11} & \\dots  & G^{(1)}_{1n} \\\\\n",
    "\t \t\\vdots \t\t & \\ddots & \\\\\n",
    "\t \tG^{(1)}_{n1} & \t\t  & G^{(1)}_{nn} \\\\\n",
    "\t \\end{matrix} &\n",
    "\t \\begin{matrix}\n",
    "\t \tG^{(2)}_{11} & \\dots  & G^{(2)}_{1n} \\\\\n",
    "\t \t\\vdots \t\t & \\ddots & \\\\\n",
    "\t \tG^{(2)}_{n1} & \t\t  & G^{(2)}_{nn} \\\\\n",
    "\t \\end{matrix} \\\\\n",
    "\t \\begin{matrix}\n",
    "\t\tG^{(3)}_{11} & \\dots  & G^{(3)}_{1n} \\\\\n",
    "\t\t\\vdots \t\t & \\ddots & \\\\\n",
    "\t\tG^{(3)}_{n1} & \t\t  & G^{(3)}_{nn} \\\\\n",
    "\t \\end{matrix} &\n",
    "\t \\begin{matrix}\n",
    "\t\tG^{(4)}_{11} & \\dots  & G^{(4)}_{1n} \\\\\n",
    "\t\t\\vdots \t\t & \\ddots & \\\\\n",
    "\t\tG^{(4)}_{n1} & \t\t  & G^{(4)}_{nn} \\\\\n",
    "\t \\end{matrix} \\\\\n",
    " \\end{pmatrix}\n",
    " c = \n",
    " \\begin{pmatrix}\n",
    "\tc^{(1)}_1\\\\\n",
    "\t\\vdots\\\\\n",
    "\tc^{(1)}_n\\\\\n",
    "\tc^{(2)}_1\\\\\n",
    "\t\\vdots\\\\\n",
    "\tc^{(2)}_n\\\\\n",
    " \\end{pmatrix}\n",
    " g = \n",
    " \\begin{pmatrix}\n",
    "\t2\\pi g_1(x_1)\\\\\n",
    "\t\\vdots\\\\\n",
    "\t2\\pi g_1(x_n)\\\\\n",
    "\t2\\pi g_2(x_1)\\\\\n",
    "\t\\vdots\\\\\n",
    "\t2\\pi g_2(x_n)\\\\\n",
    " \\end{pmatrix}\n",
    " $$"
   ]
  },
  {
   "cell_type": "code",
   "execution_count": null,
   "metadata": {},
   "outputs": [],
   "source": []
  },
  {
   "cell_type": "markdown",
   "metadata": {},
   "source": [
    "For the full discretization of the integral equation of the first kind $(3.5),$ which has a logarithmic singularity, we apply a quadrature method together with the quadrature rule [13,14] based on trigonometric interpolation. For this purpose, we choose an equidistant mesh by setting $t_{i}:=i \\pi / M, i=0, \\ldots, 2 M-1, M \\in \\mathbb{N}$ and use the quadrature rules\n",
    " $$\n",
    " \\begin{array}{c}\n",
    " \t\\frac{1}{2 \\pi} \\int_{0}^{2 \\pi} f(\\tau) d \\tau \\approx \\frac{1}{2 M} \\sum_{j=0}^{2 M-1} f\\left(t_{j}\\right) \\\\\n",
    " \t \\int_{0}^{2 \\pi} f(\\tau) \\ln \\left(\\frac{4}{e} \\sin ^{2} \\frac{t-\\tau}{2}\\right) d \\tau \\approx {2 \\pi}\\sum_{j=0}^{2 M-1} R_{j}(t) f\\left(t_{j}\\right)\n",
    " \\end{array}\n",
    " $$\n",
    " with known weight functions $R_{j}$ (see [13]).\n",
    " \n",
    " $$\n",
    " R_{j}(t)=-\\frac{1}{n} \\sum_{m=1}^{n-1} \\frac{1}{m} \\cos m\\left(t-t_{j}\\right)+\\frac{1}{2 n} \\cos n\\left(t-t_{j}\\right)\n",
    " $$\n",
    " "
   ]
  },
  {
   "cell_type": "code",
   "execution_count": 2,
   "metadata": {},
   "outputs": [],
   "source": [
    "a, b = 0, 2*np.pi\n",
    "\n",
    "x1 = lambda t: (np.cos(t), np.sin(t))\n",
    "x2 = lambda t: (2*np.cos(t), 2*np.sin(t))\n",
    "dx1 = lambda t: (-np.sin(t), np.cos(t))\n",
    "dx2 = lambda t: (-2*np.sin(t), 2*np.cos(t))\n",
    "ddx2 = lambda t: (-2*np.cos(t), -2*np.sin(t))\n",
    "\n",
    "g1 = lambda x: 1\n",
    "g2 = lambda x: 0\n",
    "\n",
    "u = lambda x, y : 1\n",
    "\n",
    "n = 10"
   ]
  },
  {
   "cell_type": "code",
   "execution_count": 3,
   "metadata": {},
   "outputs": [],
   "source": [
    "K11_1 = lambda t, tau: -1/2\n",
    "\n",
    "def K11_2(t, tau):\n",
    "  if np.abs(t - tau) > 1e-10: #np.isclose(t, tau):\n",
    "    return 1/2*np.log( 4/np.e * np.sin((t - tau)/2)**2 \\\n",
    "                 / LA.norm(np.subtract(x1(t), x1(tau)))**2)\n",
    "  else:\n",
    "    return np.log(1/(np.e * LA.norm(dx1(t))**2))\n",
    "\n",
    "K12 = lambda t, tau: np.log(1/(LA.norm(np.subtract(x1(t), x2(tau)))))\n",
    "\n",
    "K21 = lambda t, tau: np.dot(np.subtract(x2(t), x1(tau)),\n",
    "                            (dx1(tau)[1]/LA.norm(dx1(tau)), - dx1(tau)[0]/LA.norm(dx1(tau))))\n",
    "\n",
    "K22 = lambda t, tau: dx2(t)[1]*(x2(t)[0] - x2(tau)[0]) - dx2(tau)[0]*(x2(t)[1] - x2(tau)[1]) \\\n",
    "                                        / LA.norm(np.subtract(x1(t), x1(tau))) \\\n",
    "                       if np.abs(t - tau) > 1e-10 else \\\n",
    "                         ddx2(t)[0]*dx2(t)[1] - ddx2(t)[1]*dx2(t)[0] \\\n",
    "                                    / (2*LA.norm(dx2(t))**2)"
   ]
  },
  {
   "cell_type": "code",
   "execution_count": 4,
   "metadata": {},
   "outputs": [],
   "source": [
    "xx = np.linspace(a, b, n).tolist()\n",
    "h = (b - a) / (n - 1)"
   ]
  },
  {
   "cell_type": "code",
   "execution_count": 5,
   "metadata": {},
   "outputs": [],
   "source": [
    "def basicFunction(j, x, xx=xx, h=h):\n",
    "  n = len(xx)-1 ## TODO\n",
    "  \n",
    "  if j >=1 and xx[j-1] <= x <= xx[j]:\n",
    "    return (x - xx[j-1])/h\n",
    "  elif j <= n-1 and xx[j] <= x <= xx[j+1]:\n",
    "    return (xx[j+1] - x)/h\n",
    "  else:\n",
    "    return 0"
   ]
  },
  {
   "cell_type": "code",
   "execution_count": 6,
   "metadata": {},
   "outputs": [],
   "source": [
    "def quadrature_with_ln_special_case(f, M=100):\n",
    "  '''integral from 0 to 2pi'''\n",
    "  \n",
    "  n = M\n",
    "  tt = [i*np.pi/M for i in range(2*M)]\n",
    "  \n",
    "  R = lambda i, t: -1/n * sum([1/m* np.cos(m*(t - tt[i])) + 1/(2*n)*np.cos(n*(t - tt[i]))\n",
    "                                  for m in range(1, n)])\n",
    "  \n",
    "  def integral(t):\n",
    "    return 2*np.pi*sum([R(j,t)*f(tt[j]) for j in range(2*M -1)])\n",
    "  \n",
    "  return integral"
   ]
  },
  {
   "cell_type": "markdown",
   "metadata": {},
   "source": [
    "$$\n",
    "G^{(1)}_{ji} = \\int_{0}^{2\\pi} \\gamma^{(1)}_{j}(\\tau) K_{11}(t_i, \\tau) d \\tau\n",
    "$$"
   ]
  },
  {
   "cell_type": "code",
   "execution_count": 7,
   "metadata": {},
   "outputs": [],
   "source": [
    "G1 = np.zeros((n,n)).tolist()\n",
    "for i in range(n):\n",
    "  for j in range(n):\n",
    "    K_1 = quadrature_with_ln_special_case(lambda s: K11_1(xx[i], s)*basicFunction(j, s))(xx[i])\n",
    "\n",
    "    (K_2, err) = integrate.quad(lambda s: K11_2(xx[i], s)*basicFunction(j, s), a, b)\n",
    "\n",
    "    \n",
    "    G1[i][j] = K_1 + K_2"
   ]
  },
  {
   "cell_type": "markdown",
   "metadata": {},
   "source": [
    "$$\n",
    "G^{(2)}_{ji} = \\int_{0}^{2\\pi} \\gamma^{(2)}_{j}(\\tau) K_{12}(t_i, \\tau) d \\tau\n",
    "$$"
   ]
  },
  {
   "cell_type": "code",
   "execution_count": 8,
   "metadata": {},
   "outputs": [],
   "source": [
    "G2 = np.zeros((n,n)).tolist()\n",
    "for i in range(n):\n",
    "  for j in range(n):\n",
    "    \n",
    "    Kxi_li= lambda s: K12(xx[i], s) * basicFunction(j, s)\n",
    "    \n",
    "    (integral, err) = integrate.quad(Kxi_li, a, b)\n",
    "    \n",
    "    G2[i][j] = integral"
   ]
  },
  {
   "cell_type": "markdown",
   "metadata": {},
   "source": [
    "$$\n",
    "G^{(3)}_{ji} = \\int_{0}^{2\\pi} \\gamma^{(1)}_{j}(\\tau) K_{21}(t_i, \\tau) d \\tau\n",
    "$$"
   ]
  },
  {
   "cell_type": "code",
   "execution_count": 9,
   "metadata": {},
   "outputs": [],
   "source": [
    "G3 = np.zeros((n,n)).tolist()\n",
    "for i in range(n):\n",
    "  for j in range(n):\n",
    "    \n",
    "    Kxi_li= lambda s: K21(xx[i], s) * basicFunction(j, s)\n",
    "    \n",
    "    (integral, err) = integrate.quad(Kxi_li, a, b)\n",
    "    \n",
    "    G3[i][j] = integral"
   ]
  },
  {
   "cell_type": "markdown",
   "metadata": {},
   "source": [
    "$$\n",
    "G^{(4)}_{ji} = -\\pi\\frac{\\gamma^{(2)}_{j}(t_i)}{|x'_{2}(t_i))|}\n",
    "\t\t\t\t + \\int_{0}^{2\\pi} \\gamma^{(2)}_{j}(\\tau) K_{22}(t_i, \\tau) d \\tau\n",
    "$$"
   ]
  },
  {
   "cell_type": "code",
   "execution_count": 10,
   "metadata": {},
   "outputs": [],
   "source": [
    "G4 = np.zeros((n,n)).tolist()\n",
    "for i in range(n):\n",
    "  for j in range(n):\n",
    "    \n",
    "    Kxi_li= lambda s: K22(xx[i], s) * basicFunction(j, s)\n",
    "    \n",
    "    (integral, err) = integrate.quad(Kxi_li, a, b)\n",
    "    \n",
    "    G4[i][j] = integral - np.pi * basicFunction(j, xx[i]) / LA.norm(dx2(xx[i]))"
   ]
  },
  {
   "cell_type": "code",
   "execution_count": 11,
   "metadata": {},
   "outputs": [
    {
     "data": {
      "text/plain": [
       "(20, 20)"
      ]
     },
     "execution_count": 11,
     "metadata": {},
     "output_type": "execute_result"
    }
   ],
   "source": [
    "A = np.concatenate((np.concatenate((G1, G2), axis=1),\n",
    "                    np.concatenate((G3, G4), axis=1)), axis=0)\n",
    "A.shape"
   ]
  },
  {
   "cell_type": "code",
   "execution_count": 12,
   "metadata": {},
   "outputs": [
    {
     "data": {
      "text/plain": [
       "(20, 1)"
      ]
     },
     "execution_count": 12,
     "metadata": {},
     "output_type": "execute_result"
    }
   ],
   "source": [
    "g = np.concatenate(([[g1(xx[j])] for j in range(n)],\n",
    "                    [[g2(xx[j])] for j in range(n)]))\n",
    "g.shape"
   ]
  },
  {
   "cell_type": "code",
   "execution_count": 13,
   "metadata": {},
   "outputs": [
    {
     "data": {
      "text/plain": [
       "array([[ 5.65439778e-01, -2.74213926e-03, -5.06469123e-01,\n",
       "        -7.22881483e-01, -8.15041858e-01, -8.15041858e-01,\n",
       "        -7.22881486e-01, -5.06469123e-01, -7.04571577e-03,\n",
       "         2.95905325e-01, -2.38649348e-02, -2.30841614e-01,\n",
       "        -5.00164921e-01, -6.71688300e-01, -7.51026320e-01,\n",
       "        -7.51026320e-01, -6.71688300e-01, -5.00164921e-01,\n",
       "        -2.30841614e-01, -2.38649348e-02],\n",
       "       [ 1.41067679e-01,  9.51164190e-01, -2.11421656e-03,\n",
       "        -5.06409520e-01, -7.23031184e-01, -8.15034992e-01,\n",
       "        -8.14856843e-01, -7.22908716e-01, -5.06486648e-01,\n",
       "        -1.41536698e-01, -6.47226289e-02, -4.77298696e-02,\n",
       "        -2.30841614e-01, -5.00164921e-01, -6.71688300e-01,\n",
       "        -7.51026320e-01, -7.51026320e-01, -6.71688300e-01,\n",
       "        -5.00164921e-01, -1.66118985e-01],\n",
       "       [-2.05873095e-01, -1.72703618e-03,  9.50591623e-01,\n",
       "        -1.77196454e-03, -5.06472550e-01, -7.23022705e-01,\n",
       "        -8.14870431e-01, -8.14863815e-01, -7.22437681e-01,\n",
       "        -2.89822929e-01, -2.12794310e-01, -2.30841614e-01,\n",
       "        -4.77298695e-02, -2.30841614e-01, -5.00164921e-01,\n",
       "        -6.71688300e-01, -7.51026320e-01, -7.51026320e-01,\n",
       "        -6.71688300e-01, -2.87370611e-01],\n",
       "       [-3.50192750e-01, -5.06388564e-01, -1.90263880e-03,\n",
       "         9.50785518e-01, -1.76803795e-03, -5.06501957e-01,\n",
       "        -7.22926567e-01, -8.14859281e-01, -8.14432902e-01,\n",
       "        -3.63489416e-01, -3.15575526e-01, -5.00164921e-01,\n",
       "        -2.30841615e-01, -4.77298696e-02, -2.30841614e-01,\n",
       "        -5.00164921e-01, -6.71688300e-01, -7.51026320e-01,\n",
       "        -7.51026320e-01, -3.56112774e-01],\n",
       "       [-4.18238572e-01, -7.22872215e-01, -5.06436388e-01,\n",
       "        -2.39794513e-03,  9.51843799e-01, -2.25182177e-03,\n",
       "        -5.06507614e-01, -7.22893669e-01, -8.14545054e-01,\n",
       "        -3.90371313e-01, -3.69116776e-01, -6.71688300e-01,\n",
       "        -5.00164921e-01, -2.30841614e-01, -4.77298696e-02,\n",
       "        -2.30841614e-01, -5.00164921e-01, -6.71688300e-01,\n",
       "        -7.51026320e-01, -3.81909545e-01],\n",
       "       [-4.32731822e-01, -8.14856534e-01, -7.22893669e-01,\n",
       "        -5.06507617e-01, -2.25182177e-03,  9.51843799e-01,\n",
       "        -2.39794205e-03, -5.06436388e-01, -7.22568488e-01,\n",
       "        -3.76042603e-01, -3.81909545e-01, -7.51026320e-01,\n",
       "        -6.71688300e-01, -5.00164921e-01, -2.30841614e-01,\n",
       "        -4.77298696e-02, -2.30841614e-01, -5.00164921e-01,\n",
       "        -6.71688300e-01, -3.69116776e-01],\n",
       "       [-3.97834058e-01, -8.14879120e-01, -8.14859281e-01,\n",
       "        -7.22926570e-01, -5.06501957e-01, -1.76803786e-03,\n",
       "         9.50785518e-01, -1.90263880e-03, -5.05967733e-01,\n",
       "        -3.16386888e-01, -3.56112774e-01, -7.51026320e-01,\n",
       "        -7.51026320e-01, -6.71688300e-01, -5.00164921e-01,\n",
       "        -2.30841614e-01, -4.77298696e-02, -2.30841615e-01,\n",
       "        -5.00164921e-01, -3.15575526e-01],\n",
       "       [-3.05670273e-01, -7.22947174e-01, -8.14863815e-01,\n",
       "        -8.14870431e-01, -7.23022705e-01, -5.06472550e-01,\n",
       "        -1.77196454e-03,  9.50591623e-01, -1.26995490e-03,\n",
       "        -1.91138048e-01, -2.87370611e-01, -6.71688300e-01,\n",
       "        -7.51026320e-01, -7.51026320e-01, -6.71688300e-01,\n",
       "        -5.00164921e-01, -2.30841614e-01, -4.77298695e-02,\n",
       "        -2.30841614e-01, -2.12794310e-01],\n",
       "       [-1.18923017e-01, -5.06551705e-01, -7.22908716e-01,\n",
       "        -8.14856846e-01, -8.15034992e-01, -7.23031184e-01,\n",
       "        -5.06409517e-01, -2.11421656e-03,  9.51108318e-01,\n",
       "         1.15887614e-01, -1.66118985e-01, -5.00164921e-01,\n",
       "        -6.71688300e-01, -7.51026320e-01, -7.51026320e-01,\n",
       "        -6.71688300e-01, -5.00164921e-01, -2.30841614e-01,\n",
       "        -4.77298696e-02, -6.47226289e-02],\n",
       "       [ 5.65439778e-01, -2.74213932e-03, -5.06469123e-01,\n",
       "        -7.22881486e-01, -8.15041858e-01, -8.15041858e-01,\n",
       "        -7.22881483e-01, -5.06469123e-01, -7.04571577e-03,\n",
       "         2.95905325e-01, -2.38649348e-02, -2.30841614e-01,\n",
       "        -5.00164921e-01, -6.71688300e-01, -7.51026320e-01,\n",
       "        -7.51026320e-01, -6.71688300e-01, -5.00164921e-01,\n",
       "        -2.30841614e-01, -2.38649348e-02],\n",
       "       [ 3.21167450e-01,  3.28725290e-01, -4.65362118e-01,\n",
       "        -1.36836500e+00, -1.95775827e+00, -1.95775827e+00,\n",
       "        -1.36836500e+00, -4.65362118e-01,  3.28725290e-01,\n",
       "         3.21167450e-01, -1.82641292e+00, -8.36565825e-01,\n",
       "         3.35905246e-01,  2.93602218e+00,  5.05329228e+00,\n",
       "         5.05329228e+00,  2.93602218e+00,  3.35905246e-01,\n",
       "        -8.36565825e-01, -2.55616597e-01],\n",
       "       [ 2.66276069e-01,  6.42334899e-01,  3.28725290e-01,\n",
       "        -4.65362118e-01, -1.36836500e+00, -1.95775827e+00,\n",
       "        -1.95775827e+00, -1.36836500e+00, -4.65362118e-01,\n",
       "         6.24492207e-02,  6.65132379e-02, -1.74689900e+00,\n",
       "        -9.04515365e-03,  2.21262796e+00,  3.62550682e+00,\n",
       "         3.02585901e+00,  8.68959957e-01, -1.16876910e+00,\n",
       "        -1.64136139e+00, -5.18752507e-01],\n",
       "       [-7.65406349e-02,  3.28725289e-01,  6.42334899e-01,\n",
       "         3.28725289e-01, -4.65362118e-01, -1.36836500e+00,\n",
       "        -1.95775827e+00, -1.95775827e+00, -1.36836500e+00,\n",
       "        -3.88821484e-01,  1.28884151e-02,  5.08756615e-01,\n",
       "        -1.29537887e+00,  6.62676316e-01,  8.87140278e-01,\n",
       "        -2.39828952e-01, -1.86259349e+00, -2.61167667e+00,\n",
       "        -1.90486350e+00, -4.64224591e-01],\n",
       "       [-5.46874916e-01, -4.65362118e-01,  3.28725290e-01,\n",
       "         6.42334899e-01,  3.28725290e-01, -4.65362118e-01,\n",
       "        -1.36836500e+00, -1.95775827e+00, -1.95775827e+00,\n",
       "        -8.21490085e-01,  1.12784913e+00,  1.93922188e+00,\n",
       "         4.58180426e-01, -1.47369810e+00,  6.84420622e-02,\n",
       "        -1.44991947e+00, -2.27173062e+00, -1.53290197e+00,\n",
       "         3.63843233e-01,  8.16435733e-01],\n",
       "       [-9.24652136e-01, -1.36836500e+00, -4.65362118e-01,\n",
       "         3.28725290e-01,  6.42334899e-01,  3.28725290e-01,\n",
       "        -4.65362118e-01, -1.36836500e+00, -1.95775827e+00,\n",
       "        -1.03310614e+00,  2.49300991e+00,  4.01717447e+00,\n",
       "         1.57942877e+00, -5.20380383e-01, -1.98714784e+00,\n",
       "        -8.09654797e-01, -9.36084128e-01,  8.87933108e-01,\n",
       "         3.47005121e+00,  2.38485717e+00],\n",
       "       [-1.03310614e+00, -1.95775827e+00, -1.36836500e+00,\n",
       "        -4.65362118e-01,  3.28725290e-01,  6.42334899e-01,\n",
       "         3.28725290e-01, -4.65362118e-01, -1.36836500e+00,\n",
       "        -9.24652136e-01,  2.38485717e+00,  3.47005121e+00,\n",
       "         8.87933108e-01, -9.36084128e-01, -8.09654797e-01,\n",
       "        -1.98714784e+00, -5.20380383e-01,  1.57942877e+00,\n",
       "         4.01717447e+00,  2.49300991e+00],\n",
       "       [-8.21490085e-01, -1.95775827e+00, -1.95775827e+00,\n",
       "        -1.36836500e+00, -4.65362118e-01,  3.28725290e-01,\n",
       "         6.42334899e-01,  3.28725290e-01, -4.65362118e-01,\n",
       "        -5.46874916e-01,  8.16435733e-01,  3.63843233e-01,\n",
       "        -1.53290197e+00, -2.27173062e+00, -1.44991947e+00,\n",
       "         6.84420622e-02, -1.47369810e+00,  4.58180426e-01,\n",
       "         1.93922188e+00,  1.12784913e+00],\n",
       "       [-3.88821484e-01, -1.36836500e+00, -1.95775827e+00,\n",
       "        -1.95775827e+00, -1.36836500e+00, -4.65362118e-01,\n",
       "         3.28725289e-01,  6.42334899e-01,  3.28725289e-01,\n",
       "        -7.65406349e-02, -4.64224591e-01, -1.90486350e+00,\n",
       "        -2.61167667e+00, -1.86259349e+00, -2.39828952e-01,\n",
       "         8.87140278e-01,  6.62676316e-01, -1.29537887e+00,\n",
       "         5.08756615e-01,  1.28884151e-02],\n",
       "       [ 6.24492207e-02, -4.65362118e-01, -1.36836500e+00,\n",
       "        -1.95775827e+00, -1.95775827e+00, -1.36836500e+00,\n",
       "        -4.65362118e-01,  3.28725290e-01,  6.42334899e-01,\n",
       "         2.66276069e-01, -5.18752507e-01, -1.64136139e+00,\n",
       "        -1.16876910e+00,  8.68959957e-01,  3.02585901e+00,\n",
       "         3.62550682e+00,  2.21262796e+00, -9.04515365e-03,\n",
       "        -1.74689900e+00,  6.65132379e-02],\n",
       "       [ 3.21167450e-01,  3.28725290e-01, -4.65362118e-01,\n",
       "        -1.36836500e+00, -1.95775827e+00, -1.95775827e+00,\n",
       "        -1.36836500e+00, -4.65362118e-01,  3.28725290e-01,\n",
       "         3.21167450e-01, -2.55616597e-01, -8.36565825e-01,\n",
       "         3.35905246e-01,  2.93602218e+00,  5.05329228e+00,\n",
       "         5.05329228e+00,  2.93602218e+00,  3.35905246e-01,\n",
       "        -8.36565825e-01, -1.82641292e+00]])"
      ]
     },
     "execution_count": 13,
     "metadata": {},
     "output_type": "execute_result"
    }
   ],
   "source": [
    "A"
   ]
  },
  {
   "cell_type": "code",
   "execution_count": 14,
   "metadata": {},
   "outputs": [
    {
     "data": {
      "text/plain": [
       "array([[1],\n",
       "       [1],\n",
       "       [1],\n",
       "       [1],\n",
       "       [1],\n",
       "       [1],\n",
       "       [1],\n",
       "       [1],\n",
       "       [1],\n",
       "       [1],\n",
       "       [0],\n",
       "       [0],\n",
       "       [0],\n",
       "       [0],\n",
       "       [0],\n",
       "       [0],\n",
       "       [0],\n",
       "       [0],\n",
       "       [0],\n",
       "       [0]])"
      ]
     },
     "execution_count": 14,
     "metadata": {},
     "output_type": "execute_result"
    }
   ],
   "source": [
    "g"
   ]
  },
  {
   "cell_type": "code",
   "execution_count": 15,
   "metadata": {},
   "outputs": [
    {
     "data": {
      "text/plain": [
       "-3.1554093012681987e-06"
      ]
     },
     "execution_count": 15,
     "metadata": {},
     "output_type": "execute_result"
    }
   ],
   "source": [
    "LA.det(A)"
   ]
  },
  {
   "cell_type": "code",
   "execution_count": 16,
   "metadata": {},
   "outputs": [
    {
     "data": {
      "text/plain": [
       "array([[ 0.37251089],\n",
       "       [-1.53721587],\n",
       "       [-2.07353868],\n",
       "       [-1.8017665 ],\n",
       "       [-1.05205956],\n",
       "       [-1.06859238],\n",
       "       [-1.83577678],\n",
       "       [-2.22169473],\n",
       "       [-0.87941385],\n",
       "       [-3.31425797],\n",
       "       [-2.11594753],\n",
       "       [-1.56006255],\n",
       "       [ 2.64418056],\n",
       "       [ 0.55202229],\n",
       "       [-2.15041714],\n",
       "       [-2.15508367],\n",
       "       [ 0.64966289],\n",
       "       [ 2.82345597],\n",
       "       [-1.54532084],\n",
       "       [-2.11594753]])"
      ]
     },
     "execution_count": 16,
     "metadata": {},
     "output_type": "execute_result"
    }
   ],
   "source": [
    "c = LA.solve(A, 2*np.pi*g)\n",
    "c"
   ]
  },
  {
   "cell_type": "code",
   "execution_count": 17,
   "metadata": {},
   "outputs": [],
   "source": [
    "def psi1_approx(t, c=c):\n",
    "  return sum(c[i][0]*basicFunction(i, t) for i in range(n))\n",
    "\n",
    "def psi2_approx(t, c=c):\n",
    "  return sum(c[n + i][0]*basicFunction(i, t) for i in range(n))"
   ]
  },
  {
   "cell_type": "code",
   "execution_count": 18,
   "metadata": {},
   "outputs": [],
   "source": [
    "K1 = lambda x, tau: np.log(1/LA.norm(np.subtract(x, x1(tau))))\n",
    "K2 = lambda x, tau: np.log(1/LA.norm(np.subtract(x, x2(tau))))"
   ]
  },
  {
   "cell_type": "code",
   "execution_count": 19,
   "metadata": {},
   "outputs": [],
   "source": [
    "def u_approx_broken(x):\n",
    "  '''x є R2, тобто х - вектор з двох чисел'''\n",
    "  return 1/(2*np.pi)*(\n",
    "          integrate.quad(lambda tau: psi1_approx(tau)*K1(x, tau)/LA.norm(dx1(tau)), a, b)[0]\n",
    "        + integrate.quad(lambda tau: psi2_approx(tau)*K2(x, tau)/LA.norm(dx2(tau)), a, b)[0]\n",
    "  )\n"
   ]
  },
  {
   "cell_type": "code",
   "execution_count": 20,
   "metadata": {},
   "outputs": [],
   "source": [
    "def u_approx(x, n=100, a=a, b=b):\n",
    "  '''\n",
    "  x є R2, тобто х - вектор з двох чисел\n",
    "  n - кількість точок в розбитті\n",
    "  \n",
    "  '''\n",
    "  mesh = np.linspace(a, b, n)\n",
    "  \n",
    "  under_int_f1 = lambda tau: psi1_approx(tau)*K1(x, tau)/LA.norm(dx1(tau))\n",
    "  under_int_f2 = lambda tau: psi2_approx(tau)*K2(x, tau)/LA.norm(dx2(tau))\n",
    "  \n",
    "  return 1/(2*np.pi)*(\n",
    "          integrate.trapz([under_int_f1(m) for m in mesh], x=mesh)\n",
    "        + integrate.trapz([under_int_f2(m) for m in mesh], x=mesh)\n",
    "  )\n"
   ]
  },
  {
   "cell_type": "code",
   "execution_count": 21,
   "metadata": {},
   "outputs": [
    {
     "data": {
      "text/plain": [
       "[<matplotlib.lines.Line2D at 0x22e89c6b310>,\n",
       " <matplotlib.lines.Line2D at 0x22e89c6b340>]"
      ]
     },
     "execution_count": 21,
     "metadata": {},
     "output_type": "execute_result"
    },
    {
     "data": {
      "image/png": "[encoded data removed]",
      "text/plain": [
       "<Figure size 432x288 with 1 Axes>"
      ]
     },
     "metadata": {
      "needs_background": "light"
     },
     "output_type": "display_data"
    }
   ],
   "source": [
    "xxx = np.linspace(0, 7, 100)\n",
    "plt.plot(xxx, [1 for x in xxx], xxx, [u_approx(x) for x in xxx])"
   ]
  },
  {
   "cell_type": "code",
   "execution_count": 22,
   "metadata": {},
   "outputs": [
    {
     "data": {
      "text/plain": [
       "[<matplotlib.lines.Line2D at 0x22e89d12c70>,\n",
       " <matplotlib.lines.Line2D at 0x22e89d12d60>]"
      ]
     },
     "execution_count": 22,
     "metadata": {},
     "output_type": "execute_result"
    },
    {
     "data": {
      "image/png": "[encoded data removed]",
      "text/plain": [
       "<Figure size 432x288 with 1 Axes>"
      ]
     },
     "metadata": {
      "needs_background": "light"
     },
     "output_type": "display_data"
    }
   ],
   "source": [
    "ffff = lambda tau: psi1_approx(tau)*K1([1,1], tau)/LA.norm(dx1(tau))\n",
    "\n",
    "xxx = np.linspace(0, 2*np.pi, 1000)\n",
    "plt.plot(xxx, [1 for x in xxx], xxx, [ffff(x) for x in xxx])"
   ]
  },
  {
   "cell_type": "code",
   "execution_count": 23,
   "metadata": {},
   "outputs": [],
   "source": [
    "# TODO перевірити базис Гамма"
   ]
  }
 ],
 "metadata": {
  "kernelspec": {
   "display_name": "Python 3",
   "language": "python",
   "name": "python3"
  },
  "language_info": {
   "codemirror_mode": {
    "name": "ipython",
    "version": 3
   },
   "file_extension": ".py",
   "mimetype": "text/x-python",
   "name": "python",
   "nbconvert_exporter": "python",
   "pygments_lexer": "ipython3",
   "version": "3.8.2"
  }
 },
 "nbformat": 4,
 "nbformat_minor": 4
}
