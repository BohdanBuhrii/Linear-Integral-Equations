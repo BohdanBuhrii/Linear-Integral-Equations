{
 "cells": [
  {
   "cell_type": "code",
   "execution_count": 1,
   "metadata": {},
   "outputs": [],
   "source": [
    "import numpy as np\n",
    "import numpy.linalg as LA\n",
    "import matplotlib.pyplot as plt\n",
    "from scipy import integrate\n",
    "from matplotlib import cm\n",
    "from numba import njit\n",
    "from numba import jit"
   ]
  },
  {
   "cell_type": "markdown",
   "metadata": {},
   "source": [
    "## Метод колокації"
   ]
  },
  {
   "cell_type": "markdown",
   "metadata": {},
   "source": [
    "Маємо інтегральне рівняння вигляду"
   ]
  },
  {
   "cell_type": "markdown",
   "metadata": {},
   "source": [
    "$$\n",
    "\\dots\n",
    "$$"
   ]
  },
  {
   "cell_type": "markdown",
   "metadata": {},
   "source": [
    "Наближений розв'язок будемо шукати у вигляді"
   ]
  },
  {
   "cell_type": "markdown",
   "metadata": {},
   "source": [
    " $$\n",
    " \\tilde{\\psi_k}(x)=\\sum_{j=1}^{n} c^{(k)}_{j} \\gamma^{(k)}_{j}(x), \\quad k = 1,2\n",
    " $$"
   ]
  },
  {
   "cell_type": "markdown",
   "metadata": {},
   "source": [
    "де $c_j$ - невідомі константи, які потрібно знайти, а $\\gamma_j$ - задані лінійнонезалежні функції (в нашому випадку кусково аналітичні), $j = 1, ..., n$."
   ]
  },
  {
   "cell_type": "markdown",
   "metadata": {},
   "source": [
    "Розглянувши його на множині точок $x_i$, таких, що\n",
    "$$\n",
    "a \\leqslant x_{1}<x_{2}<\\ldots<x_{m} \\leqslant b\n",
    "$$"
   ]
  },
  {
   "cell_type": "markdown",
   "metadata": {},
   "source": [
    "отримаємо СЛАР відносно невідомих $с^{(k)}_j$, $j = 1, ..., n$. "
   ]
  },
  {
   "cell_type": "markdown",
   "metadata": {},
   "source": [
    " $$\n",
    " A =\n",
    " \\begin{pmatrix}\n",
    "\t \\begin{matrix}\n",
    "\t \tG^{(1)}_{11} & \\dots  & G^{(1)}_{1n} \\\\\n",
    "\t \t\\vdots \t\t & \\ddots & \\\\\n",
    "\t \tG^{(1)}_{n1} & \t\t  & G^{(1)}_{nn} \\\\\n",
    "\t \\end{matrix} &\n",
    "\t \\begin{matrix}\n",
    "\t \tG^{(2)}_{11} & \\dots  & G^{(2)}_{1n} \\\\\n",
    "\t \t\\vdots \t\t & \\ddots & \\\\\n",
    "\t \tG^{(2)}_{n1} & \t\t  & G^{(2)}_{nn} \\\\\n",
    "\t \\end{matrix} \\\\\n",
    "\t \\begin{matrix}\n",
    "\t\tG^{(3)}_{11} & \\dots  & G^{(3)}_{1n} \\\\\n",
    "\t\t\\vdots \t\t & \\ddots & \\\\\n",
    "\t\tG^{(3)}_{n1} & \t\t  & G^{(3)}_{nn} \\\\\n",
    "\t \\end{matrix} &\n",
    "\t \\begin{matrix}\n",
    "\t\tG^{(4)}_{11} & \\dots  & G^{(4)}_{1n} \\\\\n",
    "\t\t\\vdots \t\t & \\ddots & \\\\\n",
    "\t\tG^{(4)}_{n1} & \t\t  & G^{(4)}_{nn} \\\\\n",
    "\t \\end{matrix} \\\\\n",
    " \\end{pmatrix}\n",
    " c = \n",
    " \\begin{pmatrix}\n",
    "\tc^{(1)}_1\\\\\n",
    "\t\\vdots\\\\\n",
    "\tc^{(1)}_n\\\\\n",
    "\tc^{(2)}_1\\\\\n",
    "\t\\vdots\\\\\n",
    "\tc^{(2)}_n\\\\\n",
    " \\end{pmatrix}\n",
    " g = \n",
    " \\begin{pmatrix}\n",
    "\t2\\pi g_1(x_1)\\\\\n",
    "\t\\vdots\\\\\n",
    "\t2\\pi g_1(x_n)\\\\\n",
    "\t2\\pi g_2(x_1)\\\\\n",
    "\t\\vdots\\\\\n",
    "\t2\\pi g_2(x_n)\\\\\n",
    " \\end{pmatrix}\n",
    " $$"
   ]
  },
  {
   "cell_type": "code",
   "execution_count": 2,
   "metadata": {},
   "outputs": [],
   "source": [
    "a, b = 0, 2*np.pi\n",
    "\n",
    "r1 = 0.9\n",
    "r2 = 2\n",
    "n = 16\n",
    "eps = 1e-50\n",
    "h = (b - a) / (n - 1)\n",
    "xx = [a + (h * i) for i in range(n)]\n",
    "\n",
    "@njit\n",
    "def x1(t):\n",
    "    return np.array((r1*np.cos(t), r1*np.sin(t)))\n",
    "\n",
    "@njit\n",
    "def x2(t):\n",
    "    return np.array((r2*np.cos(t), r2*np.sin(t)))\n",
    "\n",
    "@njit\n",
    "def dx1(t):\n",
    "    return np.array((-r1*np.sin(t), r1*np.cos(t)))\n",
    "\n",
    "@njit\n",
    "def dx2(t):\n",
    "    return np.array((-r2*np.sin(t), r2*np.cos(t)))\n",
    "\n",
    "@njit\n",
    "def ddx2(t):\n",
    "    return np.array((-r2*np.cos(t), -r2*np.sin(t)))\n",
    "\n",
    "@njit\n",
    "def norm(array):\n",
    "    return np.sqrt(np.sum(array**2))"
   ]
  },
  {
   "cell_type": "code",
   "execution_count": 3,
   "metadata": {},
   "outputs": [],
   "source": [
    "# g1 = lambda t: 1\n",
    "# g2 = lambda t: 0\n",
    "\n",
    "# u = lambda x, y : 1"
   ]
  },
  {
   "cell_type": "code",
   "execution_count": 4,
   "metadata": {},
   "outputs": [],
   "source": [
    "# def g1(t):\n",
    "#     x, y = x1(t)\n",
    "#     return x\n",
    "\n",
    "# def g2(t):\n",
    "#     x, y = x2(t)\n",
    "#     v = np.array([dx2(t)[1], -dx2(t)[0]]) / LA.norm(dx2(t))\n",
    "#     grad = np.array([1, 0])\n",
    "    \n",
    "#     return np.dot(grad, v)\n",
    "\n",
    "# u = lambda x, y : x"
   ]
  },
  {
   "cell_type": "code",
   "execution_count": 5,
   "metadata": {},
   "outputs": [],
   "source": [
    "def g1(t):\n",
    "    x, y = x1(t)\n",
    "    return x**2 - y**2\n",
    "\n",
    "def g2(t):\n",
    "    x, y = x2(t)\n",
    "    v = np.array([dx2(t)[1], -dx2(t)[0]]) / norm(dx2(t))\n",
    "    grad = np.array([2*x, -2*y])\n",
    "    \n",
    "    return np.dot(grad, v)\n",
    "\n",
    "u = lambda x, y : x**2 - y**2"
   ]
  },
  {
   "cell_type": "code",
   "execution_count": 6,
   "metadata": {},
   "outputs": [],
   "source": [
    "\n",
    "@njit\n",
    "def nu_x2(t):\n",
    "    return np.array([dx2(t)[1], -dx2(t)[0]]) / norm(dx2(t))\n",
    "\n",
    "@njit\n",
    "def K11_1(t, tau):\n",
    "    return -1/2\n",
    "\n",
    "@njit\n",
    "def K11_2(t, tau):\n",
    "    if t != tau:\n",
    "        return 1/2*np.log( 4/np.e * np.sin((t - tau)/2)**2 \\\n",
    "                 / norm(np.subtract(x1(t), x1(tau)))**2)\n",
    "    else:\n",
    "        return 1/2*np.log(1/(np.e * norm(dx1(t))**2))\n",
    "\n",
    "@njit\n",
    "def K12(t, tau):\n",
    "    return np.log(1/(norm(np.subtract(x1(t), x2(tau)))))\n",
    "\n",
    "@njit\n",
    "def K21(t, tau):\n",
    "    return np.dot(np.subtract(x1(tau), x2(t)), nu_x2(t)) \\\n",
    "            / norm(np.subtract(x2(t), x1(tau)))**2\n",
    "@njit\n",
    "def K22(t, tau):\n",
    "    if t != tau:\n",
    "        return np.dot(np.subtract(x2(tau), x2(t)), nu_x2(t)) \\\n",
    "                / norm(np.subtract(x2(t), x2(tau)))**2\n",
    "    else:\n",
    "        return np.dot(ddx2(t), nu_x2(t)) / ((2*norm(dx2(t)))**2)"
   ]
  },
  {
   "cell_type": "code",
   "execution_count": 7,
   "metadata": {},
   "outputs": [],
   "source": [
    "def basicFunction(j, x, xx=xx, h=h):\n",
    "    n = len(xx) - 1\n",
    "    \n",
    "    if j >=1 and xx[j-1] <= x <= xx[j]:\n",
    "        return (x - xx[j-1])/h\n",
    "    elif j <= n-1 and xx[j] <= x <= xx[j+1]:\n",
    "        return (xx[j+1] - x)/h\n",
    "    else:\n",
    "        return 0\n",
    "\n",
    "@njit\n",
    "def basicFunction_(j, x, xx, h):\n",
    "    n = len(xx) - 1\n",
    "    \n",
    "    if j >=1 and xx[j-1] <= x <= xx[j]:\n",
    "        return (x - xx[j-1])/h\n",
    "    elif j <= n-1 and xx[j] <= x <= xx[j+1]:\n",
    "        return (xx[j+1] - x)/h\n",
    "    else:\n",
    "        return 0"
   ]
  },
  {
   "cell_type": "code",
   "execution_count": 8,
   "metadata": {},
   "outputs": [],
   "source": [
    "def quadrature_with_ln_special_case(f, M=n):\n",
    "    '''integral from 0 to 2pi'''\n",
    "\n",
    "    tt = [i*np.pi/M for i in range(2*M)]\n",
    "\n",
    "    R = lambda i, t: -1/(2*M) * (1\n",
    "                                 + 2*sum([(1/m) * np.cos(m * (t - tt[i])) for m in range(1, M)])\n",
    "                                 + 1/(M) * np.cos(t - tt[i]))\n",
    "  \n",
    "    def integral(t):\n",
    "        return np.sum([R(j,t)*f(tt[j]) for j in range(2*M)])\n",
    "  \n",
    "    return integral\n",
    "\n",
    "def R_j(t, tj, n=100):\n",
    "    sum_ = 0\n",
    "    \n",
    "    for m in range(1, n-1):\n",
    "        sum_ += (1/m) * np.cos(m*(t - tj))\n",
    "    \n",
    "    return (-1/n)*sum_ + (\n",
    "        (1/(2*n**2)) * np.cos((t - tj)) - (1/(2*n))\n",
    "    )"
   ]
  },
  {
   "cell_type": "code",
   "execution_count": 9,
   "metadata": {},
   "outputs": [],
   "source": [
    "def Collocation(xx):\n",
    "    n = len(xx)\n",
    "    \n",
    "    def collocate(K):\n",
    "        A = np.zeros([n, n])\n",
    "\n",
    "        for i in range(n):\n",
    "            for j in range(n):\n",
    "                Kxi_li = lambda s: K(xx[i], s) * basicFunction(j, s)\n",
    "\n",
    "                if (j == 0):\n",
    "                    (quad, err) = integrate.quad(Kxi_li, xx[j], xx[j + 1])\n",
    "                elif (j == n - 1):\n",
    "                    (quad, err) = integrate.quad(Kxi_li, xx[j - 1], xx[j])\n",
    "                else:\n",
    "                    (quad, err) = integrate.quad(Kxi_li, xx[j - 1], xx[j + 1])\n",
    "\n",
    "                A[i][j] = quad\n",
    "\n",
    "        return A\n",
    "    \n",
    "    return collocate"
   ]
  },
  {
   "cell_type": "code",
   "execution_count": 10,
   "metadata": {},
   "outputs": [],
   "source": [
    "collocate = Collocation(xx)"
   ]
  },
  {
   "cell_type": "code",
   "execution_count": 11,
   "metadata": {},
   "outputs": [],
   "source": [
    "G1 = np.zeros((n,n)).tolist()\n",
    "for i in range(n):\n",
    "    for j in range(n):\n",
    "        Kxi_li = lambda s: K11_2(xx[i], s) * basicFunction(j, s)\n",
    "\n",
    "        K_1 = 2 * np.pi * quadrature_with_ln_special_case(lambda s: K11_1(xx[i], s)*basicFunction(j, s))(xx[i])\n",
    "        \n",
    "        if (j == 0):\n",
    "            (K_2, err) = integrate.quad(Kxi_li, xx[j], xx[j + 1])\n",
    "        elif (j == n - 1):\n",
    "            (K_2, err) = integrate.quad(Kxi_li, xx[j - 1], xx[j])\n",
    "        else:\n",
    "            (K_2, err) = integrate.quad(Kxi_li, xx[j - 1], xx[j + 1])\n",
    "\n",
    "        G1[i][j] = K_1 + K_2\n"
   ]
  },
  {
   "cell_type": "code",
   "execution_count": 12,
   "metadata": {},
   "outputs": [],
   "source": [
    "G2 = collocate(K12)"
   ]
  },
  {
   "cell_type": "code",
   "execution_count": 13,
   "metadata": {},
   "outputs": [],
   "source": [
    "G3 = collocate(K21) "
   ]
  },
  {
   "cell_type": "code",
   "execution_count": 14,
   "metadata": {},
   "outputs": [],
   "source": [
    "G4 = np.zeros((n,n)).tolist()\n",
    "for i in range(n):\n",
    "    for j in range(n):\n",
    "        \n",
    "        Kxi_li = lambda s: K22(xx[i], s) * basicFunction(j, s)\n",
    "        \n",
    "        if (j == 0):\n",
    "            (quad, err) = integrate.quad(Kxi_li, xx[j], xx[j + 1])\n",
    "        elif (j == n - 1):\n",
    "            (quad, err) = integrate.quad(Kxi_li, xx[j - 1], xx[j])\n",
    "        else:\n",
    "            (quad, err) = integrate.quad(Kxi_li, xx[j - 1], xx[j + 1])\n",
    "\n",
    "        G4[i][j] = quad\n",
    "    \n",
    "    G4[i][i] += np.pi / (LA.norm(dx2(xx[i])))\n",
    "\n"
   ]
  },
  {
   "cell_type": "code",
   "execution_count": 15,
   "metadata": {},
   "outputs": [
    {
     "data": {
      "text/plain": [
       "(32, 32)"
      ]
     },
     "execution_count": 15,
     "metadata": {},
     "output_type": "execute_result"
    }
   ],
   "source": [
    "A = np.concatenate((np.concatenate((G1, G2), axis=1),\n",
    "                     np.concatenate((G3, G4), axis=1)), axis=0)\n",
    "A.shape\n"
   ]
  },
  {
   "cell_type": "code",
   "execution_count": 16,
   "metadata": {},
   "outputs": [
    {
     "data": {
      "text/plain": [
       "(32, 1)"
      ]
     },
     "execution_count": 16,
     "metadata": {},
     "output_type": "execute_result"
    }
   ],
   "source": [
    "g = np.concatenate(([[g1(xx[j])] for j in range(n)],\n",
    "                    [[g2(xx[j])] for j in range(n)]))\n",
    "g.shape"
   ]
  },
  {
   "cell_type": "code",
   "execution_count": 17,
   "metadata": {},
   "outputs": [
    {
     "data": {
      "text/plain": [
       "-2.5243110343278313e-13"
      ]
     },
     "execution_count": 17,
     "metadata": {},
     "output_type": "execute_result"
    }
   ],
   "source": [
    "LA.det(A)"
   ]
  },
  {
   "cell_type": "code",
   "execution_count": 18,
   "metadata": {},
   "outputs": [],
   "source": [
    "c = LA.solve(A, 2*np.pi*g)"
   ]
  },
  {
   "cell_type": "code",
   "execution_count": 19,
   "metadata": {},
   "outputs": [],
   "source": [
    "@njit\n",
    "def psi1_approx(t, c, n, xx, h):\n",
    "    return np.sum(\n",
    "        np.array([c[i][0]*basicFunction_(i, t, xx, h) for i in range(n)])\n",
    "    )\n",
    "\n",
    "@njit\n",
    "def psi2_approx(t, c, n, xx, h):\n",
    "    return np.sum(\n",
    "        np.array([c[n + i][0]*basicFunction_(i, t, xx, h) for i in range(n)])\n",
    "    )"
   ]
  },
  {
   "cell_type": "code",
   "execution_count": 20,
   "metadata": {},
   "outputs": [],
   "source": [
    "@njit\n",
    "def K1(x, tau):\n",
    "    return np.log(1/norm(np.subtract(x, x1(tau))))\n",
    "\n",
    "@njit\n",
    "def K2(x, tau):\n",
    "    return np.log(1/norm(np.subtract(x, x2(tau))))"
   ]
  },
  {
   "cell_type": "code",
   "execution_count": 21,
   "metadata": {},
   "outputs": [],
   "source": [
    "@njit\n",
    "def under_int_f1(tau, x, c, n, xx, h):\n",
    "    return psi1_approx(tau, c, n, xx, h)*K1(x, tau)\n",
    "\n",
    "@njit\n",
    "def under_int_f2(tau, x, c, n, xx, h):\n",
    "    return psi2_approx(tau, c, n, xx, h)*K2(x, tau)\n",
    "\n",
    "def u_approx(x, n=n, a=a, b=b):\n",
    "    '''\n",
    "    x є R2, тобто х - вектор з двох чисел\n",
    "    n - кількість точок в розбитті\n",
    "\n",
    "    '''\n",
    "    mesh = np.linspace(a, b, n*20)\n",
    "    \n",
    "    return 1/(2*np.pi)*(\n",
    "          integrate.trapz([under_int_f1(m, np.array(x), np.array(c), n, np.array(xx), h) for m in mesh], x=mesh)\n",
    "        + integrate.trapz([under_int_f2(m, np.array(x), np.array(c), n, np.array(xx), h) for m in mesh], x=mesh)\n",
    "    )"
   ]
  },
  {
   "cell_type": "code",
   "execution_count": 22,
   "metadata": {},
   "outputs": [
    {
     "name": "stdout",
     "output_type": "stream",
     "text": [
      "Approx:  -0.9160816640435991\n",
      "Ex:  -0.95\n",
      "Error:  0.03391834\n",
      "\n",
      "Approx:  -0.16377070684580858\n",
      "Ex:  -0.16999999999999993\n",
      "Error:  0.00622929\n",
      "\n",
      "Approx:  -1.1775323962105775\n",
      "Ex:  -1.2100000000000002\n",
      "Error:  0.0324676\n",
      "\n"
     ]
    },
    {
     "data": {
      "text/plain": [
       "'\\n8\\nApprox:  1.0075546842738958\\nEx:  1\\nError:  0.00755468\\n\\nApprox:  1.0000986493385804\\nEx:  1\\nError:  9.865e-05\\n\\nApprox:  1.0027947350266408\\nEx:  1\\nError:  0.00279474\\n\\n'"
      ]
     },
     "execution_count": 22,
     "metadata": {},
     "output_type": "execute_result"
    }
   ],
   "source": [
    "p1 = [0.7, 1.2]\n",
    "p2 = [-0.8, 0.9]\n",
    "p3 = [0, -1.1]\n",
    "\n",
    "def print_success(p):\n",
    "    approx = u_approx(p)\n",
    "    ex = u(*p)\n",
    "    print(\"Approx: \", approx)\n",
    "    print(\"Ex: \", ex)\n",
    "    print(\"Error: \", (np.abs(approx - ex)).round(8))\n",
    "    print()\n",
    "\n",
    "[print_success(p) for p in [p1, p2, p3]]\n",
    "\n",
    "\"\"\"\n",
    "8\n",
    "Approx:  1.0075546842738958\n",
    "Ex:  1\n",
    "Error:  0.00755468\n",
    "\n",
    "Approx:  1.0000986493385804\n",
    "Ex:  1\n",
    "Error:  9.865e-05\n",
    "\n",
    "Approx:  1.0027947350266408\n",
    "Ex:  1\n",
    "Error:  0.00279474\n",
    "\n",
    "\"\"\""
   ]
  },
  {
   "cell_type": "code",
   "execution_count": null,
   "metadata": {},
   "outputs": [],
   "source": []
  },
  {
   "cell_type": "code",
   "execution_count": null,
   "metadata": {},
   "outputs": [],
   "source": [
    "n_ = 50\n",
    "\n",
    "x = np.linspace(-r2, r2, n_)\n",
    "y = np.linspace(-r2, r2, n_)\n",
    "\n",
    "xx_, yy_ = np.meshgrid(x, y)\n",
    "zz_ = np.zeros([n_, n_])\n",
    "\n",
    "for i, x_ in enumerate(x):\n",
    "    for j, y_ in enumerate(y):\n",
    "        zz_[i][j] = u_approx([x[i], y[j]])\n",
    "\n",
    "# Draw contour\n",
    "fig_contour,ax=plt.subplots(1,1)\n",
    "cp = ax.contourf(xx_, yy_, zz_, cmap=\"ocean\")\n",
    "fig_contour.colorbar(cp)\n",
    "\n",
    "# Draw curves\n",
    "xxx = np.linspace(0, 2*np.pi, 100)\n",
    "yyy = np.linspace(0, 2*np.pi, 100)\n",
    "\n",
    "# ax.plot(x1(xxx)[0], x1(xxx)[1])\n",
    "# ax.plot(x2(xxx)[0], x2(xxx)[1])\n",
    "\n",
    "ax.set_xlabel('x')\n",
    "ax.set_ylabel('y')\n",
    "\n",
    "plt.show()"
   ]
  },
  {
   "cell_type": "code",
   "execution_count": null,
   "metadata": {},
   "outputs": [],
   "source": [
    "%matplotlib notebook\n",
    "\n",
    "fig = plt.figure(figsize=(10, 10))\n",
    "ax = fig.gca(projection='3d')\n",
    "\n",
    "surf = ax.plot_surface(xx_, yy_, zz_, rstride=1, cstride=1, linewidth=0.5, antialiased=True, cmap=\"ocean\", edgecolor ='steelblue')\n",
    "# ax.plot_surface(xx_, yy_, zz__, rstride=1, cstride=1, linewidth=1, antialiased=False, cmap=cm.hot)\n",
    "\n",
    "\n",
    "ax.set_xlabel(\"X\")\n",
    "ax.set_ylabel(\"Y\")\n",
    "ax.set_zlabel(\"Z\")\n",
    "\n",
    "plt.show()\n",
    "fig.savefig(\"x_approx.pdf\", bbox_inches='tight')"
   ]
  },
  {
   "cell_type": "code",
   "execution_count": null,
   "metadata": {},
   "outputs": [],
   "source": [
    "# # Draw curves\n",
    "# fig, ax=plt.subplots(1,1, figsize=(8, 8))\n",
    "\n",
    "\n",
    "# xxx = np.linspace(0, 2*np.pi, 100)\n",
    "# yyy = np.linspace(0, 2*np.pi, 100)\n",
    "\n",
    "# ax.plot(x1(xxx)[0], x1(xxx)[1], \"tab:blue\", label=r\"$\\Gamma_{1}$\")\n",
    "# ax.plot(x2(xxx)[0], x2(xxx)[1], \"tab:green\", label=r\"$\\Gamma_{2}$\")\n",
    "\n",
    "# ax.annotate(\"1\", (p1[0] + 0.1, p1[1] + 0.1))\n",
    "# ax.scatter(p1[0], p1[1], color='red')\n",
    "\n",
    "# ax.annotate(\"2\", (p2[0] + 0.1, p2[1] + 0.1))\n",
    "# ax.scatter(p2[0], p2[1], color='red')\n",
    "\n",
    "# ax.annotate(\"3\", (p3[0] + 0.1, p3[1] + 0.1))\n",
    "# ax.scatter(p3[0], p3[1], color='red')\n",
    "\n",
    "\n",
    "# ax.set_xlabel('x')\n",
    "# ax.set_ylabel('y')\n",
    "# ax.legend(fontsize=\"x-large\")\n",
    "\n",
    "# plt.show()\n",
    "# fig.savefig(\"curves_and_points.pdf\", bbox_inches='tight')"
   ]
  },
  {
   "cell_type": "code",
   "execution_count": null,
   "metadata": {
    "scrolled": false
   },
   "outputs": [],
   "source": []
  },
  {
   "cell_type": "code",
   "execution_count": null,
   "metadata": {},
   "outputs": [],
   "source": []
  },
  {
   "cell_type": "code",
   "execution_count": null,
   "metadata": {},
   "outputs": [],
   "source": [
    "# zz__ = np.zeros([n_, n_])\n",
    "\n",
    "# for i, x_ in enumerate(x):\n",
    "#     for j, y_ in enumerate(y):\n",
    "#         zz__[i][j] = u(x[i], y[j])\n",
    "\n",
    "# fig = plt.figure(figsize=(10, 10))\n",
    "# ax = fig.gca(projection='3d')\n",
    "\n",
    "# surf = ax.plot_surface(xx_, yy_, zz__, rstride=1, cstride=1, linewidth=0.5, antialiased=True, cmap=\"ocean\", edgecolor ='steelblue')\n",
    "\n",
    "# ax.set_xlabel(\"X\")\n",
    "# ax.set_ylabel(\"Y\")\n",
    "# ax.set_zlabel(\"Z\")\n",
    "\n",
    "# plt.show()\n",
    "# fig.savefig(\"x_ex.pdf\", bbox_inches='tight')"
   ]
  },
  {
   "cell_type": "code",
   "execution_count": null,
   "metadata": {},
   "outputs": [],
   "source": [
    "# np.argmin(np.abs(zz__.reshape(-1, 1) - zz_.reshape(-1, 1)))"
   ]
  },
  {
   "cell_type": "code",
   "execution_count": null,
   "metadata": {},
   "outputs": [],
   "source": [
    "# xx_.reshape(-1, 1)[357]\n"
   ]
  },
  {
   "cell_type": "code",
   "execution_count": null,
   "metadata": {},
   "outputs": [],
   "source": [
    "# yy_.reshape(-1, 1)[357]"
   ]
  },
  {
   "cell_type": "code",
   "execution_count": null,
   "metadata": {},
   "outputs": [],
   "source": []
  },
  {
   "cell_type": "code",
   "execution_count": null,
   "metadata": {},
   "outputs": [],
   "source": []
  },
  {
   "cell_type": "code",
   "execution_count": null,
   "metadata": {},
   "outputs": [],
   "source": []
  },
  {
   "cell_type": "code",
   "execution_count": null,
   "metadata": {},
   "outputs": [],
   "source": []
  },
  {
   "cell_type": "code",
   "execution_count": null,
   "metadata": {},
   "outputs": [],
   "source": []
  },
  {
   "cell_type": "code",
   "execution_count": null,
   "metadata": {},
   "outputs": [],
   "source": []
  }
 ],
 "metadata": {
  "kernelspec": {
   "display_name": "Python 3",
   "language": "python",
   "name": "python3"
  },
  "language_info": {
   "codemirror_mode": {
    "name": "ipython",
    "version": 3
   },
   "file_extension": ".py",
   "mimetype": "text/x-python",
   "name": "python",
   "nbconvert_exporter": "python",
   "pygments_lexer": "ipython3",
   "version": "3.8.2"
  }
 },
 "nbformat": 4,
 "nbformat_minor": 4
}
