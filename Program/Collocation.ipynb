{
 "cells": [
  {
   "cell_type": "code",
   "execution_count": 2,
   "metadata": {},
   "outputs": [],
   "source": [
    "import numpy as np\n",
    "import numpy.linalg as LA\n",
    "from scipy import integrate\n",
    "import matplotlib.pyplot as plt"
   ]
  },
  {
   "cell_type": "markdown",
   "metadata": {},
   "source": [
    "## Метод колокації"
   ]
  },
  {
   "cell_type": "markdown",
   "metadata": {},
   "source": [
    "Маємо інтегральне рівняння вигляду"
   ]
  },
  {
   "cell_type": "markdown",
   "metadata": {},
   "source": [
    "$$\n",
    "\\dots\n",
    "$$"
   ]
  },
  {
   "cell_type": "markdown",
   "metadata": {},
   "source": [
    "Наближений розв'язок будемо шукати у вигляді"
   ]
  },
  {
   "cell_type": "markdown",
   "metadata": {},
   "source": [
    " $$\n",
    " \\tilde{\\psi_k}(x)=\\sum_{j=1}^{n} c^{(k)}_{j} \\gamma^{(k)}_{j}(x), \\quad k = 1,2\n",
    " $$"
   ]
  },
  {
   "cell_type": "markdown",
   "metadata": {},
   "source": [
    "де $c_j$ - невідомі константи, які потрібно знайти, а $\\gamma_j$ - задані лінійнонезалежні функції (в нашому випадку кусково аналітичні), $j = 1, ..., n$."
   ]
  },
  {
   "cell_type": "markdown",
   "metadata": {},
   "source": [
    "Розглянувши його на множині точок $x_i$, таких, що\n",
    "$$\n",
    "a \\leqslant x_{1}<x_{2}<\\ldots<x_{m} \\leqslant b\n",
    "$$"
   ]
  },
  {
   "cell_type": "markdown",
   "metadata": {},
   "source": [
    "отримаємо СЛАР відносно невідомих $с^{(k)}_j$, $j = 1, ..., n$. "
   ]
  },
  {
   "cell_type": "markdown",
   "metadata": {},
   "source": [
    " $$\n",
    " A =\n",
    " \\begin{pmatrix}\n",
    "\t \\begin{matrix}\n",
    "\t \tG^{(1)}_{11} & \\dots  & G^{(1)}_{1n} \\\\\n",
    "\t \t\\vdots \t\t & \\ddots & \\\\\n",
    "\t \tG^{(1)}_{n1} & \t\t  & G^{(1)}_{nn} \\\\\n",
    "\t \\end{matrix} &\n",
    "\t \\begin{matrix}\n",
    "\t \tG^{(2)}_{11} & \\dots  & G^{(2)}_{1n} \\\\\n",
    "\t \t\\vdots \t\t & \\ddots & \\\\\n",
    "\t \tG^{(2)}_{n1} & \t\t  & G^{(2)}_{nn} \\\\\n",
    "\t \\end{matrix} \\\\\n",
    "\t \\begin{matrix}\n",
    "\t\tG^{(3)}_{11} & \\dots  & G^{(3)}_{1n} \\\\\n",
    "\t\t\\vdots \t\t & \\ddots & \\\\\n",
    "\t\tG^{(3)}_{n1} & \t\t  & G^{(3)}_{nn} \\\\\n",
    "\t \\end{matrix} &\n",
    "\t \\begin{matrix}\n",
    "\t\tG^{(4)}_{11} & \\dots  & G^{(4)}_{1n} \\\\\n",
    "\t\t\\vdots \t\t & \\ddots & \\\\\n",
    "\t\tG^{(4)}_{n1} & \t\t  & G^{(4)}_{nn} \\\\\n",
    "\t \\end{matrix} \\\\\n",
    " \\end{pmatrix}\n",
    " c = \n",
    " \\begin{pmatrix}\n",
    "\tc^{(1)}_1\\\\\n",
    "\t\\vdots\\\\\n",
    "\tc^{(1)}_n\\\\\n",
    "\tc^{(2)}_1\\\\\n",
    "\t\\vdots\\\\\n",
    "\tc^{(2)}_n\\\\\n",
    " \\end{pmatrix}\n",
    " g = \n",
    " \\begin{pmatrix}\n",
    "\t2\\pi g_1(x_1)\\\\\n",
    "\t\\vdots\\\\\n",
    "\t2\\pi g_1(x_n)\\\\\n",
    "\t2\\pi g_2(x_1)\\\\\n",
    "\t\\vdots\\\\\n",
    "\t2\\pi g_2(x_n)\\\\\n",
    " \\end{pmatrix}\n",
    " $$"
   ]
  },
  {
   "cell_type": "code",
   "execution_count": 38,
   "metadata": {},
   "outputs": [],
   "source": [
    "a, b = 0, 0\n",
    "\n",
    "x1 = lambda t: (np.cos(t), np.sin(t))\n",
    "x2 = lambda t: (2*np.cos(t), 2*np.sin(t))\n",
    "dx1 = lambda t: (-np.sin(t), np.cos(t))\n",
    "dx2 = lambda t: (-2*np.sin(t), 2*np.cos(t))\n",
    "ddx2 = lambda t: (-2*np.cos(t), -2*np.sin(t))\n",
    "\n",
    "g1 = lambda x: 1\n",
    "g2 = lambda x: 0\n",
    "\n",
    "u = lambda x, y : 1\n",
    "\n",
    "K11 = lambda t, tau: np.log(1/(LA.norm(np.substract(x1(t), x1(tau))))) \\\n",
    "                       if not np.isclose(t, tau) else \\\n",
    "                         - 1/2*np.log(4/np.e * np.sin((t - tau)/2)**2) \\\n",
    "                         + np.log(1/(np.e * LA.norm(dx1(t))**2))\n",
    "\n",
    "K12 = lambda t, tau: np.log(1/(LA.norm(np.subtract(x1(t), x2(tau)))))\n",
    "\n",
    "K21 = lambda t, tau: np.dot(np.subtract(x2(t), x1(tau)),\n",
    "                            (dx1(tau)[1]/LA.norm(dx1(tau)), - dx1(tau)[0]/LA.norm(dx1(tau))))\n",
    "\n",
    "K22 = lambda t, tau: dx2(t)[1]*(x2(t)[0] - x2(tau)[0]) - dx2(tau)[0]*(x2(t)[1] - x2(tau)[1]) \\\n",
    "                                        / LA.norm(x1(t) - x1(tau)) \\\n",
    "                       if not np.isclose(t, tau) else \\\n",
    "                         ddx2(t)[0]*dx2(t)[1] - ddx2(t)[1]*dx2(t)[0] \\\n",
    "                                    / 2*LA.norm(dx2(t))**2\n",
    "\n",
    "h = 0.1"
   ]
  },
  {
   "cell_type": "code",
   "execution_count": 39,
   "metadata": {},
   "outputs": [],
   "source": [
    "xx = np.arange(a, b + 0.000001, h).round(3).tolist()\n",
    "n = len(xx)"
   ]
  },
  {
   "cell_type": "code",
   "execution_count": 40,
   "metadata": {},
   "outputs": [],
   "source": [
    "def basicFunction(j, x, xx=xx, h=h):\n",
    "  n = len(xx)-1 ## TODO\n",
    "  \n",
    "  if j >=1 and xx[j-1] <= x <= xx[j]:\n",
    "    return (x - xx[j-1])/h\n",
    "  elif j <= n-1 and xx[j] <= x <= xx[j+1]:\n",
    "    return (xx[j+1] - x)/h\n",
    "  else:\n",
    "    return 0"
   ]
  },
  {
   "cell_type": "markdown",
   "metadata": {},
   "source": [
    "$$\n",
    "G^{(1)}_{ji} = \\int_{0}^{2\\pi} \\gamma^{(1)}_{j}(\\tau) K_{11}(t_i, \\tau) d \\tau\n",
    "$$"
   ]
  },
  {
   "cell_type": "code",
   "execution_count": 41,
   "metadata": {},
   "outputs": [
    {
     "name": "stderr",
     "output_type": "stream",
     "text": [
      "<ipython-input-38-bcedee8ca719>:16: RuntimeWarning: divide by zero encountered in log\n",
      "  - 1/2*np.log(4/np.e * np.sin((t - tau)/2)**2) \\\n",
      "<ipython-input-41-c80ec9ae43ae>:5: RuntimeWarning: invalid value encountered in double_scalars\n",
      "  Kxi_li= lambda s: K11(xx[i], s) * basicFunction(j, s)\n",
      "<ipython-input-41-c80ec9ae43ae>:7: IntegrationWarning: Extremely bad integrand behavior occurs at some points of the\n",
      "  integration interval.\n",
      "  (integral, err) = integrate.quad(Kxi_li, a, b)\n"
     ]
    }
   ],
   "source": [
    "G1 = np.zeros((n,n)).tolist()\n",
    "for i in range(n):\n",
    "  for j in range(n):\n",
    "    \n",
    "    Kxi_li= lambda s: K11(xx[i], s) * basicFunction(j, s)\n",
    "    \n",
    "    (integral, err) = integrate.quad(Kxi_li, a, b)\n",
    "    \n",
    "    G1[i][j] = integral"
   ]
  },
  {
   "cell_type": "markdown",
   "metadata": {},
   "source": [
    "$$\n",
    "G^{(2)}_{ji} = \\int_{0}^{2\\pi} \\gamma^{(2)}_{j}(\\tau) K_{12}(t_i, \\tau) d \\tau\n",
    "$$"
   ]
  },
  {
   "cell_type": "code",
   "execution_count": 42,
   "metadata": {},
   "outputs": [],
   "source": [
    "G2 = np.zeros((n,n)).tolist()\n",
    "for i in range(n):\n",
    "  for j in range(n):\n",
    "    \n",
    "    Kxi_li= lambda s: K12(xx[i], s) * basicFunction(j, s)\n",
    "    \n",
    "    (integral, err) = integrate.quad(Kxi_li, a, b)\n",
    "    \n",
    "    G2[i][j] = integral"
   ]
  },
  {
   "cell_type": "markdown",
   "metadata": {},
   "source": [
    "$$\n",
    "G^{(3)}_{ji} = \\int_{0}^{2\\pi} \\gamma^{(1)}_{j}(\\tau) K_{21}(t_i, \\tau) d \\tau\n",
    "$$"
   ]
  },
  {
   "cell_type": "code",
   "execution_count": 43,
   "metadata": {},
   "outputs": [],
   "source": [
    "G3 = np.zeros((n,n)).tolist()\n",
    "for i in range(n):\n",
    "  for j in range(n):\n",
    "    \n",
    "    Kxi_li= lambda s: K21(xx[i], s) * basicFunction(j, s)\n",
    "    \n",
    "    (integral, err) = integrate.quad(Kxi_li, a, b)\n",
    "    \n",
    "    G3[i][j] = integral"
   ]
  },
  {
   "cell_type": "markdown",
   "metadata": {},
   "source": [
    "$$\n",
    "G^{(4)}_{ji} = -\\pi\\frac{\\gamma^{(2)}_{j}(t_i)}{|x'_{2}(t_i))|}\n",
    "\t\t\t\t + \\int_{0}^{2\\pi} \\gamma^{(2)}_{j}(\\tau) K_{22}(t_i, \\tau) d \\tau\n",
    "$$"
   ]
  },
  {
   "cell_type": "code",
   "execution_count": 44,
   "metadata": {},
   "outputs": [],
   "source": [
    "G4 = np.zeros((n,n)).tolist()\n",
    "for i in range(n):\n",
    "  for j in range(n):\n",
    "    \n",
    "    Kxi_li= lambda s: K22(xx[i], s) * basicFunction(j, s)\n",
    "    \n",
    "    (integral, err) = integrate.quad(Kxi_li, a, b)\n",
    "    \n",
    "    G4[i][j] = integral - np.pi * basicFunction(j, xx[i]) / LA.norm(dx2(xx[i]))"
   ]
  },
  {
   "cell_type": "code",
   "execution_count": 45,
   "metadata": {},
   "outputs": [
    {
     "data": {
      "text/plain": [
       "(2, 2)"
      ]
     },
     "execution_count": 45,
     "metadata": {},
     "output_type": "execute_result"
    }
   ],
   "source": [
    "A = np.concatenate((np.concatenate((G1, G2), axis=1),\n",
    "                    np.concatenate((G3, G4), axis=1)), axis=0)\n",
    "A.shape"
   ]
  },
  {
   "cell_type": "code",
   "execution_count": 46,
   "metadata": {},
   "outputs": [
    {
     "data": {
      "text/plain": [
       "(2, 1)"
      ]
     },
     "execution_count": 46,
     "metadata": {},
     "output_type": "execute_result"
    }
   ],
   "source": [
    "g = np.concatenate(([[g1(xx[j])] for j in range(n)],\n",
    "                    [[g2(xx[j])] for j in range(n)]))\n",
    "g.shape"
   ]
  },
  {
   "cell_type": "code",
   "execution_count": 48,
   "metadata": {},
   "outputs": [
    {
     "data": {
      "text/plain": [
       "array([[nan,  0.],\n",
       "       [ 0., -0.]])"
      ]
     },
     "execution_count": 48,
     "metadata": {},
     "output_type": "execute_result"
    }
   ],
   "source": [
    "A"
   ]
  },
  {
   "cell_type": "code",
   "execution_count": null,
   "metadata": {},
   "outputs": [],
   "source": [
    "g"
   ]
  },
  {
   "cell_type": "code",
   "execution_count": 47,
   "metadata": {},
   "outputs": [
    {
     "name": "stderr",
     "output_type": "stream",
     "text": [
      "c:\\users\\bobuh\\appdata\\local\\programs\\python\\python38\\lib\\site-packages\\numpy\\linalg\\linalg.py:2116: RuntimeWarning: invalid value encountered in det\n",
      "  r = _umath_linalg.det(a, signature=signature)\n"
     ]
    },
    {
     "data": {
      "text/plain": [
       "nan"
      ]
     },
     "execution_count": 47,
     "metadata": {},
     "output_type": "execute_result"
    }
   ],
   "source": [
    "LA.det(A)"
   ]
  },
  {
   "cell_type": "code",
   "execution_count": null,
   "metadata": {},
   "outputs": [],
   "source": [
    "c = LA.solve(A, 2*np.pi*g)"
   ]
  },
  {
   "cell_type": "code",
   "execution_count": null,
   "metadata": {},
   "outputs": [],
   "source": [
    "def psi1_approx(x, c=c):\n",
    "  return sum(c[i][0]*basicFunction(i, x) for i in range(n))\n",
    "\n",
    "def psi2_approx(x, c=c):\n",
    "  return sum(c[n + i][0]*basicFunction(i, x) for i in range(n))"
   ]
  },
  {
   "cell_type": "code",
   "execution_count": null,
   "metadata": {},
   "outputs": [],
   "source": [
    "K1 = lambda x, tau: np.log(1/LA.norm()) ???\n",
    "K2 = lambda x, tau:"
   ]
  },
  {
   "cell_type": "code",
   "execution_count": null,
   "metadata": {},
   "outputs": [],
   "source": [
    "u_approx = lambda x: 1/(2*np.pi) * integrate.quad(psi1_approx(x psi1_approx(x, a, b)"
   ]
  },
  {
   "cell_type": "code",
   "execution_count": null,
   "metadata": {},
   "outputs": [],
   "source": [
    "# TODO перевірити базис Гамма"
   ]
  }
 ],
 "metadata": {
  "kernelspec": {
   "display_name": "Python 3",
   "language": "python",
   "name": "python3"
  },
  "language_info": {
   "codemirror_mode": {
    "name": "ipython",
    "version": 3
   },
   "file_extension": ".py",
   "mimetype": "text/x-python",
   "name": "python",
   "nbconvert_exporter": "python",
   "pygments_lexer": "ipython3",
   "version": "3.8.2"
  }
 },
 "nbformat": 4,
 "nbformat_minor": 4
}
